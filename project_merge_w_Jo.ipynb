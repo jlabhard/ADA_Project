{
 "cells": [
  {
   "cell_type": "markdown",
   "metadata": {},
   "source": [
    "## 0. General Imports"
   ]
  },
  {
   "cell_type": "code",
   "execution_count": 1,
   "metadata": {},
   "outputs": [],
   "source": [
    "import pyspark\n",
    "import pyspark.sql\n",
    "from pyspark.sql import *\n",
    "from pyspark.sql.functions import *\n",
    "\n",
    "conf = pyspark.SparkConf().setMaster(\"local[*]\").setAll([\n",
    "                                   ('spark.executor.memory', '12g'),  # find\n",
    "                                   ('spark.driver.memory','4g'), # your\n",
    "                                   ('spark.driver.maxResultSize', '2G') # setup\n",
    "                                  ])\n",
    "# create the session\n",
    "spark = SparkSession.builder.config(conf=conf).getOrCreate()\n",
    "\n",
    "# create the context\n",
    "sc = spark.sparkContext\n",
    "\n",
    "# FIX for Spark 2.x\n",
    "locale = sc._jvm.java.util.Locale\n",
    "locale.setDefault(locale.forLanguageTag(\"en-US\"))"
   ]
  },
  {
   "cell_type": "code",
   "execution_count": 2,
   "metadata": {
    "jupyter": {
     "source_hidden": true
    }
   },
   "outputs": [],
   "source": [
    "%matplotlib inline\n",
    "import pandas as pd\n",
    "import numpy as np\n",
    "import re\n",
    "from matplotlib.ticker import MaxNLocator\n",
    "import matplotlib.pyplot as plt\n",
    "from requests import get\n",
    "from bs4 import BeautifulSoup\n",
    "from scipy import stats\n",
    "import seaborn as sns\n",
    "import warnings\n",
    "warnings.filterwarnings('ignore')"
   ]
  },
  {
   "cell_type": "markdown",
   "metadata": {},
   "source": [
    "## 1. Data preparation"
   ]
  },
  {
   "cell_type": "markdown",
   "metadata": {},
   "source": [
    "### 1.1 Swiss production\n",
    "#### 1.1.1 Data Description\n",
    "The FAO Database offers a variety of datasets containing information about the production of every country for all years between 1961 and 2017.\n",
    "##### Crops\n",
    "<details>\n",
    "  <summary>Description</summary> \n",
    "  Crop statistics are recorded for 173 products, covering the following categories: Crops Primary, Fibre Crops Primary, Cereals, Coarse Grain, Citrus Fruit, Fruit, Jute Jute-like Fibres, Oilcakes Equivalent, Oil crops Primary, Pulses, Roots and Tubers, Treenuts and Vegetables and Melons. Data are expressed in terms of area harvested, production quantity and yield. The objective is to comprehensively cover production of all primary crops for all countries and regions in the world.\n",
    "</details>\n",
    "\n",
    "<details>\n",
    "  <summary>Path</summary>\n",
    "  \n",
    "  Data/FAOSTAT/Production_Crops_E_All_Data_(Normalized).zip\n",
    "</details>\n",
    "\n",
    "##### Crops Processed\n",
    "<details>\n",
    "  <summary>Description</summary>  \n",
    "  The dataset covers the following commodities: Beer of barley; Cotton lint; Cottonseed; Margarine, short; Molasses; Oil, coconut (copra); Oil, cottonseed; Oil, groundnut; Oil, linseed; Oil, maize; Oil, olive, virgin; Oil, palm; Oil, palm kernel; Oil, rapeseed; Oil, safflower; Oil, sesame; Oil, soybean; Oil, sunflower; Palm kernels; Sugar Raw Centrifugal; Wine.\n",
    "</details>\n",
    "\n",
    "<details>\n",
    "  <summary>Path</summary>  \n",
    "  Data/FAOSTAT/Production_CropsProcessed_E_All_Data_(Normalized).zip\n",
    "</details>\n",
    "\n",
    "##### Live Animals\n",
    "<details>\n",
    "  <summary>Description</summary>  \n",
    "  The dataset contains the following commodities and commodity aggregates thereof : Animals live n.e.s.; Asses; Beehives; Buffaloes; Camelids, other; Camels; Cattle; Chickens; Ducks; Geese and guinea fowls; Goats; Horses; Mules; Pigeons, other birds; Pigs; Rabbits and hares; Rodents, other; Sheep; Turkeys.\n",
    "</details>\n",
    "\n",
    "<details>\n",
    "  <summary>Path</summary>  \n",
    "  Data/FAOSTAT/Production_Livestock_E_All_Data_(Normalized).zip\n",
    "</details>\n",
    "\n",
    "##### Livestock Primary\n",
    "<details>\n",
    "  <summary>Description</summary>  \n",
    "  The dataset contains the following commodities and commodity aggregates thereof : Beeswax; Eggs (various types); Hair, horse; Hides buffalo, fresh; Hides, cattle, fresh; Honey, natural; Meat indigenous (ass, bird nes, buffalo, camel, cattle, chicken, duck, geese, goat, horse, mule, other camelids, pig, rabbit, rodents, sheep, turkey); Meat (ass, bird nes, buffalo, camel, cattle, chicken, duck, game, goat, goose and guinea fowl, horse, mule, Meat nes, meat other camelids, Meat other rodents, pig, rabbit, sheep, turkey); Milk (buffalo, camel, cow, goat, sheep); Offals, nes; Silk-worm cocoons, reelable; Skins, furs; Skins (goat, sheep); Snails, not sea; Wool, greasy. \n",
    "    The data presented in the table are incomplete, particularly with regard to African and Asian countries.\n",
    "    \n",
    "</details>\n",
    "\n",
    "<details>\n",
    "  <summary>Path</summary>  \n",
    "  Data/FAOSTAT/Production_LivestockPrimary_E_All_Data_(Normalized).zip\n",
    "</details>\n",
    "\n",
    "##### Livestock Processed\n",
    "<details>\n",
    "  <summary>Description</summary>  \n",
    "  The dataset covers the following commodities: Butter and ghee, sheep milk; Butter of goat milk; Butter, buffalo milk; Butter, cow milk; Cheese of goat milk; Cheese, buffalo milk; Cheese, sheep milk; Cheese, skimmed cow milk; Cheese, whole cow milk; Cream fresh; Ghee, butteroil of cow milk; Ghee, of buffalo milk; Lard; Milk, dry buttermilk; Milk, skimmed condensed; Milk, skimmed cow; Milk, skimmed dried; Milk, skimmed evaporated; Milk, whole condensed; Milk, whole dried; Milk, whole evaporated; Silk raw; Tallow; Whey, condensed; Whey, dry; Yoghurt\n",
    "</details>\n",
    "\n",
    "<details>\n",
    "  <summary>Path</summary>  \n",
    "  Data/FAOSTAT/Production_LivestockProcessed_E_All_Data_(Normalized).zip\n",
    "</details>\n",
    "\n",
    "##### Production Indices\n",
    "<details>\n",
    "  <summary>Description</summary>  \n",
    "  The dataset includes data on gross and net production indices for various food and agriculture aggregates expressed in both totals and per capita.\n",
    "    The FAO indices of agricultural production show the relative level of the aggregate volume of agricultural production for each year in comparison with the base period 2004-2006. They are based on the sum of price-weighted quantities of different agricultural commodities produced after deductions of quantities used as seed and feed weighted in a similar manner.\n",
    "</details>\n",
    "\n",
    "<details>\n",
    "  <summary>Path</summary>  \n",
    "  Data/FAOSTAT/Production_Indices_E_All_Data_(Normalized).zip\n",
    "</details>\n",
    "\n",
    "##### Value of Agricultural Production\n",
    "<details>\n",
    "  <summary>Description</summary>  \n",
    "  The data set includes data on gross and net production values, in constant international US\\$, and gross production values, in constant and current US\\$ and Local Currency Units, for various food and agriculture commodities and aggregates thereof, expressed in both total value and value per capita\n",
    "</details>\n",
    "\n",
    "<details>\n",
    "  <summary>Path</summary>  \n",
    "  Data/FAOSTAT/Value_of_Production_E_All_Data_(Normalized).zip\n",
    "</details>"
   ]
  },
  {
   "cell_type": "markdown",
   "metadata": {},
   "source": [
    "We are mainly interested in the production of all different type of food in Switzerland. For this reason we will not use \"Live Animals\", but rather combine the Crops and Livestock produced in Switzerland.\n",
    "\n",
    "We will not use \"Production Indices\" and \"Value of Agricultural Production\" for now because they only contain monetary value and do not contain all data; in particular they only take into consideration Primary Crops and Livestock. We can use them as is if we want a simpler dataset."
   ]
  },
  {
   "cell_type": "markdown",
   "metadata": {},
   "source": [
    "#### 1.1.2 Data Cleaning"
   ]
  },
  {
   "cell_type": "code",
   "execution_count": 3,
   "metadata": {},
   "outputs": [],
   "source": [
    "\"\"\"Load the Data\"\"\"\n",
    "crops_df = pd.read_csv('Data/FAOSTAT/Production_Crops_E_All_Data_(Normalized).zip', sep=',', encoding = \"ISO-8859-1\")\n",
    "crops_processed_df = pd.read_csv('Data/FAOSTAT/Production_CropsProcessed_E_All_Data_(Normalized).zip', sep=',', encoding = \"ISO-8859-1\")\n",
    "livestock_primary_df = pd.read_csv('Data/FAOSTAT/Production_LivestockPrimary_E_All_Data_(Normalized).zip', sep=',', encoding = \"ISO-8859-1\")\n",
    "livestock_processed_df = pd.read_csv('Data/FAOSTAT/Production_LivestockProcessed_E_All_Data_(Normalized).zip', sep=',', encoding = \"ISO-8859-1\")"
   ]
  },
  {
   "cell_type": "code",
   "execution_count": 4,
   "metadata": {},
   "outputs": [],
   "source": [
    "\"\"\"Extract Switzerland Production\"\"\"\n",
    "CH_code = 211 # Switzerland Area Code is 211\n",
    "crops_df_CH = crops_df[crops_df['Area Code'] == CH_code]\n",
    "crops_processed_df_CH = crops_processed_df[crops_processed_df['Area Code'] == CH_code]\n",
    "livestock_primary_df_CH = livestock_primary_df[livestock_primary_df['Area Code'] == CH_code]\n",
    "livestock_processed_df_CH = livestock_processed_df[livestock_processed_df['Area Code'] == CH_code]"
   ]
  },
  {
   "cell_type": "code",
   "execution_count": 5,
   "metadata": {},
   "outputs": [
    {
     "data": {
      "text/html": [
       "<div>\n",
       "<style scoped>\n",
       "    .dataframe tbody tr th:only-of-type {\n",
       "        vertical-align: middle;\n",
       "    }\n",
       "\n",
       "    .dataframe tbody tr th {\n",
       "        vertical-align: top;\n",
       "    }\n",
       "\n",
       "    .dataframe thead th {\n",
       "        text-align: right;\n",
       "    }\n",
       "</style>\n",
       "<table border=\"1\" class=\"dataframe\">\n",
       "  <thead>\n",
       "    <tr style=\"text-align: right;\">\n",
       "      <th></th>\n",
       "      <th>Area Code</th>\n",
       "      <th>Area</th>\n",
       "      <th>Item Code</th>\n",
       "      <th>Item</th>\n",
       "      <th>Element Code</th>\n",
       "      <th>Element</th>\n",
       "      <th>Year Code</th>\n",
       "      <th>Year</th>\n",
       "      <th>Unit</th>\n",
       "      <th>Value</th>\n",
       "      <th>Flag</th>\n",
       "    </tr>\n",
       "  </thead>\n",
       "  <tbody>\n",
       "    <tr>\n",
       "      <td>1501762</td>\n",
       "      <td>211</td>\n",
       "      <td>Switzerland</td>\n",
       "      <td>515</td>\n",
       "      <td>Apples</td>\n",
       "      <td>5312</td>\n",
       "      <td>Area harvested</td>\n",
       "      <td>1961</td>\n",
       "      <td>1961</td>\n",
       "      <td>ha</td>\n",
       "      <td>2700.0</td>\n",
       "      <td>F</td>\n",
       "    </tr>\n",
       "    <tr>\n",
       "      <td>1501763</td>\n",
       "      <td>211</td>\n",
       "      <td>Switzerland</td>\n",
       "      <td>515</td>\n",
       "      <td>Apples</td>\n",
       "      <td>5312</td>\n",
       "      <td>Area harvested</td>\n",
       "      <td>1962</td>\n",
       "      <td>1962</td>\n",
       "      <td>ha</td>\n",
       "      <td>4800.0</td>\n",
       "      <td>F</td>\n",
       "    </tr>\n",
       "    <tr>\n",
       "      <td>1501764</td>\n",
       "      <td>211</td>\n",
       "      <td>Switzerland</td>\n",
       "      <td>515</td>\n",
       "      <td>Apples</td>\n",
       "      <td>5312</td>\n",
       "      <td>Area harvested</td>\n",
       "      <td>1963</td>\n",
       "      <td>1963</td>\n",
       "      <td>ha</td>\n",
       "      <td>3600.0</td>\n",
       "      <td>F</td>\n",
       "    </tr>\n",
       "    <tr>\n",
       "      <td>1501765</td>\n",
       "      <td>211</td>\n",
       "      <td>Switzerland</td>\n",
       "      <td>515</td>\n",
       "      <td>Apples</td>\n",
       "      <td>5312</td>\n",
       "      <td>Area harvested</td>\n",
       "      <td>1964</td>\n",
       "      <td>1964</td>\n",
       "      <td>ha</td>\n",
       "      <td>4000.0</td>\n",
       "      <td>F</td>\n",
       "    </tr>\n",
       "    <tr>\n",
       "      <td>1501766</td>\n",
       "      <td>211</td>\n",
       "      <td>Switzerland</td>\n",
       "      <td>515</td>\n",
       "      <td>Apples</td>\n",
       "      <td>5312</td>\n",
       "      <td>Area harvested</td>\n",
       "      <td>1965</td>\n",
       "      <td>1965</td>\n",
       "      <td>ha</td>\n",
       "      <td>2478.0</td>\n",
       "      <td>NaN</td>\n",
       "    </tr>\n",
       "  </tbody>\n",
       "</table>\n",
       "</div>"
      ],
      "text/plain": [
       "         Area Code         Area  Item Code    Item  Element Code  \\\n",
       "1501762        211  Switzerland        515  Apples          5312   \n",
       "1501763        211  Switzerland        515  Apples          5312   \n",
       "1501764        211  Switzerland        515  Apples          5312   \n",
       "1501765        211  Switzerland        515  Apples          5312   \n",
       "1501766        211  Switzerland        515  Apples          5312   \n",
       "\n",
       "                Element  Year Code  Year Unit   Value Flag  \n",
       "1501762  Area harvested       1961  1961   ha  2700.0    F  \n",
       "1501763  Area harvested       1962  1962   ha  4800.0    F  \n",
       "1501764  Area harvested       1963  1963   ha  3600.0    F  \n",
       "1501765  Area harvested       1964  1964   ha  4000.0    F  \n",
       "1501766  Area harvested       1965  1965   ha  2478.0  NaN  "
      ]
     },
     "execution_count": 5,
     "metadata": {},
     "output_type": "execute_result"
    }
   ],
   "source": [
    "\"\"\"Combines the dataframes into one\"\"\"\n",
    "production_df_CH = pd.concat([crops_df_CH, crops_processed_df_CH, livestock_primary_df_CH, livestock_processed_df_CH])\n",
    "production_df_CH.head()"
   ]
  },
  {
   "cell_type": "markdown",
   "metadata": {},
   "source": [
    "In many cases we are only interested in the production quantity rather than the amount of resources needed for the production."
   ]
  },
  {
   "cell_type": "code",
   "execution_count": 6,
   "metadata": {},
   "outputs": [
    {
     "data": {
      "text/html": [
       "<div>\n",
       "<style scoped>\n",
       "    .dataframe tbody tr th:only-of-type {\n",
       "        vertical-align: middle;\n",
       "    }\n",
       "\n",
       "    .dataframe tbody tr th {\n",
       "        vertical-align: top;\n",
       "    }\n",
       "\n",
       "    .dataframe thead th {\n",
       "        text-align: right;\n",
       "    }\n",
       "</style>\n",
       "<table border=\"1\" class=\"dataframe\">\n",
       "  <thead>\n",
       "    <tr style=\"text-align: right;\">\n",
       "      <th></th>\n",
       "      <th>Area Code</th>\n",
       "      <th>Area</th>\n",
       "      <th>Item Code</th>\n",
       "      <th>Item</th>\n",
       "      <th>Element Code</th>\n",
       "      <th>Element</th>\n",
       "      <th>Year Code</th>\n",
       "      <th>Year</th>\n",
       "      <th>Unit</th>\n",
       "      <th>Value</th>\n",
       "      <th>Flag</th>\n",
       "    </tr>\n",
       "  </thead>\n",
       "  <tbody>\n",
       "    <tr>\n",
       "      <td>1501876</td>\n",
       "      <td>211</td>\n",
       "      <td>Switzerland</td>\n",
       "      <td>515</td>\n",
       "      <td>Apples</td>\n",
       "      <td>5510</td>\n",
       "      <td>Production</td>\n",
       "      <td>1961</td>\n",
       "      <td>1961</td>\n",
       "      <td>tonnes</td>\n",
       "      <td>269800.0</td>\n",
       "      <td>NaN</td>\n",
       "    </tr>\n",
       "    <tr>\n",
       "      <td>1501877</td>\n",
       "      <td>211</td>\n",
       "      <td>Switzerland</td>\n",
       "      <td>515</td>\n",
       "      <td>Apples</td>\n",
       "      <td>5510</td>\n",
       "      <td>Production</td>\n",
       "      <td>1962</td>\n",
       "      <td>1962</td>\n",
       "      <td>tonnes</td>\n",
       "      <td>480400.0</td>\n",
       "      <td>NaN</td>\n",
       "    </tr>\n",
       "    <tr>\n",
       "      <td>1501878</td>\n",
       "      <td>211</td>\n",
       "      <td>Switzerland</td>\n",
       "      <td>515</td>\n",
       "      <td>Apples</td>\n",
       "      <td>5510</td>\n",
       "      <td>Production</td>\n",
       "      <td>1963</td>\n",
       "      <td>1963</td>\n",
       "      <td>tonnes</td>\n",
       "      <td>359600.0</td>\n",
       "      <td>NaN</td>\n",
       "    </tr>\n",
       "    <tr>\n",
       "      <td>1501879</td>\n",
       "      <td>211</td>\n",
       "      <td>Switzerland</td>\n",
       "      <td>515</td>\n",
       "      <td>Apples</td>\n",
       "      <td>5510</td>\n",
       "      <td>Production</td>\n",
       "      <td>1964</td>\n",
       "      <td>1964</td>\n",
       "      <td>tonnes</td>\n",
       "      <td>389600.0</td>\n",
       "      <td>NaN</td>\n",
       "    </tr>\n",
       "    <tr>\n",
       "      <td>1501880</td>\n",
       "      <td>211</td>\n",
       "      <td>Switzerland</td>\n",
       "      <td>515</td>\n",
       "      <td>Apples</td>\n",
       "      <td>5510</td>\n",
       "      <td>Production</td>\n",
       "      <td>1965</td>\n",
       "      <td>1965</td>\n",
       "      <td>tonnes</td>\n",
       "      <td>255400.0</td>\n",
       "      <td>NaN</td>\n",
       "    </tr>\n",
       "  </tbody>\n",
       "</table>\n",
       "</div>"
      ],
      "text/plain": [
       "         Area Code         Area  Item Code    Item  Element Code     Element  \\\n",
       "1501876        211  Switzerland        515  Apples          5510  Production   \n",
       "1501877        211  Switzerland        515  Apples          5510  Production   \n",
       "1501878        211  Switzerland        515  Apples          5510  Production   \n",
       "1501879        211  Switzerland        515  Apples          5510  Production   \n",
       "1501880        211  Switzerland        515  Apples          5510  Production   \n",
       "\n",
       "         Year Code  Year    Unit     Value Flag  \n",
       "1501876       1961  1961  tonnes  269800.0  NaN  \n",
       "1501877       1962  1962  tonnes  480400.0  NaN  \n",
       "1501878       1963  1963  tonnes  359600.0  NaN  \n",
       "1501879       1964  1964  tonnes  389600.0  NaN  \n",
       "1501880       1965  1965  tonnes  255400.0  NaN  "
      ]
     },
     "execution_count": 6,
     "metadata": {},
     "output_type": "execute_result"
    }
   ],
   "source": [
    "\"\"\"Only keep production quantity\"\"\"\n",
    "prod_quant_df_CH = production_df_CH[production_df_CH['Element'] == 'Production']\n",
    "prod_quant_df_CH.head()"
   ]
  },
  {
   "cell_type": "code",
   "execution_count": 7,
   "metadata": {},
   "outputs": [
    {
     "data": {
      "text/plain": [
       "tonnes       7414\n",
       "Head          265\n",
       "1000 Head     212\n",
       "1000 No        57\n",
       "Name: Unit, dtype: int64"
      ]
     },
     "execution_count": 7,
     "metadata": {},
     "output_type": "execute_result"
    }
   ],
   "source": [
    "\"\"\"Check Units\"\"\"\n",
    "prod_quant_df_CH['Unit'].value_counts()"
   ]
  },
  {
   "cell_type": "markdown",
   "metadata": {},
   "source": [
    "We notice a few different units, the most frequent one being `tonnes`. We need to check what the other units correspond to to see if we should remove them."
   ]
  },
  {
   "cell_type": "code",
   "execution_count": 8,
   "metadata": {},
   "outputs": [
    {
     "data": {
      "text/plain": [
       "Meat indigenous, goat       53\n",
       "Meat indigenous, poultry    53\n",
       "Meat indigenous, sheep      53\n",
       "Meat indigenous, horse      53\n",
       "Meat indigenous, cattle     53\n",
       "Meat indigenous, rabbit     53\n",
       "Meat indigenous, pig        53\n",
       "Meat indigenous, turkey     53\n",
       "Meat indigenous, chicken    53\n",
       "Name: Item, dtype: int64"
      ]
     },
     "execution_count": 8,
     "metadata": {},
     "output_type": "execute_result"
    }
   ],
   "source": [
    "\"\"\"Items expressed in Head or 1000 Head\"\"\"\n",
    "prod_quant_df_CH[(prod_quant_df_CH['Unit'] == 'Head') | (prod_quant_df_CH['Unit'] == '1000 Head')]['Item'].value_counts()"
   ]
  },
  {
   "cell_type": "code",
   "execution_count": 9,
   "metadata": {},
   "outputs": [
    {
     "data": {
      "text/plain": [
       "Meat indigenous, goat       53\n",
       "Meat indigenous, poultry    53\n",
       "Meat indigenous, sheep      53\n",
       "Meat indigenous, horse      53\n",
       "Meat indigenous, cattle     53\n",
       "Meat indigenous, rabbit     53\n",
       "Meat indigenous, pig        53\n",
       "Meat indigenous, turkey     53\n",
       "Meat indigenous, total      53\n",
       "Meat indigenous, chicken    53\n",
       "Name: Item, dtype: int64"
      ]
     },
     "execution_count": 9,
     "metadata": {},
     "output_type": "execute_result"
    }
   ],
   "source": [
    "\"\"\"Same items expressed in tonnes\"\"\"\n",
    "prod_quant_df_CH[prod_quant_df_CH['Item'].str.contains('Meat indigenous') & (prod_quant_df_CH['Unit'] == 'tonnes')]['Item'].value_counts()"
   ]
  },
  {
   "cell_type": "code",
   "execution_count": 10,
   "metadata": {},
   "outputs": [
    {
     "data": {
      "text/plain": [
       "Eggs, hen, in shell (number)    57\n",
       "Name: Item, dtype: int64"
      ]
     },
     "execution_count": 10,
     "metadata": {},
     "output_type": "execute_result"
    }
   ],
   "source": [
    "\"\"\"Items expressed in 1000 No\"\"\"\n",
    "prod_quant_df_CH[prod_quant_df_CH['Unit'] == '1000 No']['Item'].value_counts()"
   ]
  },
  {
   "cell_type": "code",
   "execution_count": 11,
   "metadata": {},
   "outputs": [
    {
     "data": {
      "text/plain": [
       "Eggs, hen, in shell    57\n",
       "Name: Item, dtype: int64"
      ]
     },
     "execution_count": 11,
     "metadata": {},
     "output_type": "execute_result"
    }
   ],
   "source": [
    "\"\"\"Same items expressed in tonnes\"\"\"\n",
    "prod_quant_df_CH[prod_quant_df_CH['Item'].str.contains('Eggs, hen, in shell') & (prod_quant_df_CH['Unit'] == 'tonnes')]['Item'].value_counts()"
   ]
  },
  {
   "cell_type": "markdown",
   "metadata": {},
   "source": [
    "We notices that the items expressed with those other units also have a values in tonnes. Thus, we can safely remove the rows with the other units as they do not provide extra information.\n",
    "\n",
    "The following dataframe then provides the complete swiss food production in terms of tonnes from 1961 to 2017. A few items have missing data as the starting year of their report is not always similar. "
   ]
  },
  {
   "cell_type": "code",
   "execution_count": 12,
   "metadata": {},
   "outputs": [
    {
     "data": {
      "text/html": [
       "<div>\n",
       "<style scoped>\n",
       "    .dataframe tbody tr th:only-of-type {\n",
       "        vertical-align: middle;\n",
       "    }\n",
       "\n",
       "    .dataframe tbody tr th {\n",
       "        vertical-align: top;\n",
       "    }\n",
       "\n",
       "    .dataframe thead th {\n",
       "        text-align: right;\n",
       "    }\n",
       "</style>\n",
       "<table border=\"1\" class=\"dataframe\">\n",
       "  <thead>\n",
       "    <tr style=\"text-align: right;\">\n",
       "      <th></th>\n",
       "      <th>Area Code</th>\n",
       "      <th>Area</th>\n",
       "      <th>Item Code</th>\n",
       "      <th>Item</th>\n",
       "      <th>Element Code</th>\n",
       "      <th>Element</th>\n",
       "      <th>Year Code</th>\n",
       "      <th>Year</th>\n",
       "      <th>Unit</th>\n",
       "      <th>Value</th>\n",
       "      <th>Flag</th>\n",
       "    </tr>\n",
       "  </thead>\n",
       "  <tbody>\n",
       "    <tr>\n",
       "      <td>1501876</td>\n",
       "      <td>211</td>\n",
       "      <td>Switzerland</td>\n",
       "      <td>515</td>\n",
       "      <td>Apples</td>\n",
       "      <td>5510</td>\n",
       "      <td>Production</td>\n",
       "      <td>1961</td>\n",
       "      <td>1961</td>\n",
       "      <td>tonnes</td>\n",
       "      <td>269800.0</td>\n",
       "      <td>NaN</td>\n",
       "    </tr>\n",
       "    <tr>\n",
       "      <td>1501877</td>\n",
       "      <td>211</td>\n",
       "      <td>Switzerland</td>\n",
       "      <td>515</td>\n",
       "      <td>Apples</td>\n",
       "      <td>5510</td>\n",
       "      <td>Production</td>\n",
       "      <td>1962</td>\n",
       "      <td>1962</td>\n",
       "      <td>tonnes</td>\n",
       "      <td>480400.0</td>\n",
       "      <td>NaN</td>\n",
       "    </tr>\n",
       "    <tr>\n",
       "      <td>1501878</td>\n",
       "      <td>211</td>\n",
       "      <td>Switzerland</td>\n",
       "      <td>515</td>\n",
       "      <td>Apples</td>\n",
       "      <td>5510</td>\n",
       "      <td>Production</td>\n",
       "      <td>1963</td>\n",
       "      <td>1963</td>\n",
       "      <td>tonnes</td>\n",
       "      <td>359600.0</td>\n",
       "      <td>NaN</td>\n",
       "    </tr>\n",
       "    <tr>\n",
       "      <td>1501879</td>\n",
       "      <td>211</td>\n",
       "      <td>Switzerland</td>\n",
       "      <td>515</td>\n",
       "      <td>Apples</td>\n",
       "      <td>5510</td>\n",
       "      <td>Production</td>\n",
       "      <td>1964</td>\n",
       "      <td>1964</td>\n",
       "      <td>tonnes</td>\n",
       "      <td>389600.0</td>\n",
       "      <td>NaN</td>\n",
       "    </tr>\n",
       "    <tr>\n",
       "      <td>1501880</td>\n",
       "      <td>211</td>\n",
       "      <td>Switzerland</td>\n",
       "      <td>515</td>\n",
       "      <td>Apples</td>\n",
       "      <td>5510</td>\n",
       "      <td>Production</td>\n",
       "      <td>1965</td>\n",
       "      <td>1965</td>\n",
       "      <td>tonnes</td>\n",
       "      <td>255400.0</td>\n",
       "      <td>NaN</td>\n",
       "    </tr>\n",
       "  </tbody>\n",
       "</table>\n",
       "</div>"
      ],
      "text/plain": [
       "         Area Code         Area  Item Code    Item  Element Code     Element  \\\n",
       "1501876        211  Switzerland        515  Apples          5510  Production   \n",
       "1501877        211  Switzerland        515  Apples          5510  Production   \n",
       "1501878        211  Switzerland        515  Apples          5510  Production   \n",
       "1501879        211  Switzerland        515  Apples          5510  Production   \n",
       "1501880        211  Switzerland        515  Apples          5510  Production   \n",
       "\n",
       "         Year Code  Year    Unit     Value Flag  \n",
       "1501876       1961  1961  tonnes  269800.0  NaN  \n",
       "1501877       1962  1962  tonnes  480400.0  NaN  \n",
       "1501878       1963  1963  tonnes  359600.0  NaN  \n",
       "1501879       1964  1964  tonnes  389600.0  NaN  \n",
       "1501880       1965  1965  tonnes  255400.0  NaN  "
      ]
     },
     "execution_count": 12,
     "metadata": {},
     "output_type": "execute_result"
    }
   ],
   "source": [
    "\"\"\"Complete Swiss food production fataframe\"\"\"\n",
    "prod_quant_df_CH = prod_quant_df_CH[prod_quant_df_CH['Unit'] == 'tonnes']\n",
    "prod_quant_df_CH.head()"
   ]
  },
  {
   "cell_type": "markdown",
   "metadata": {},
   "source": [
    "#### 1.1.3 Pending Questions\n",
    "* Missing Data: Do we keep it as is? Set to 0?\n",
    "* Flags: Are they useful? How would we use them?\n",
    "* Items: Duplicates?"
   ]
  },
  {
   "cell_type": "markdown",
   "metadata": {},
   "source": [
    "---"
   ]
  },
  {
   "cell_type": "markdown",
   "metadata": {},
   "source": [
    "### 1.2 Swiss imports/exports\n",
    "#### 1.2.1 Data Description\n",
    "The FAO Database offers a variety of datasets containing information about the imports/exports quantities and values of every country for all years between 1961 and 2017.\n",
    "##### Crops and livestock products\n",
    "<details>\n",
    "  <summary>Description</summary> \n",
    "  The trade database includes the following variables: export quantity, export value, import quantity, and import value. The trade database includes all food and agricultural products imported/exported annually by all the countries in the world.\n",
    "</details>\n",
    "\n",
    "<details>\n",
    "  <summary>Path</summary>\n",
    "  \n",
    "  Data/FAOSTAT/Trade_Crops_Livestock_E_All_Data_(Normalized).zip\n",
    "</details>\n",
    "\n",
    "##### Live animals\n",
    "<details>\n",
    "  <summary>Description</summary> \n",
    "  The trade database includes the following variables: export quantity, export value, import quantity, and import value. The trade database includes all live animals imported/exported annually by all the countries in the world.\n",
    "</details>\n",
    "\n",
    "<details>\n",
    "  <summary>Path</summary>\n",
    "  \n",
    "  Data/FAOSTAT/Trade_LiveAnimals_E_All_Data_(Normalized).zip\n",
    "</details>\n",
    "\n",
    "##### Detailed trade matrix\n",
    "<details>\n",
    "  <summary>Description</summary> \n",
    "   The trade database includes the following variables: export quantity, export value, import quantity and import value. The trade database includes all food and agricultural products as well as live animals imported/exported annually by all the countries in the world. It also includes the provenance/destination of each import/export.\n",
    "</details>\n",
    "\n",
    "<details>\n",
    "  <summary>Path</summary>\n",
    "  \n",
    "  Data/FAOSTAT/Trade_DetailedTradeMatrix_E_All_Data_(Normalized).zip\n",
    "</details>\n",
    "\n",
    "##### Trade Indices\n",
    "<details>\n",
    "  <summary>Description</summary> \n",
    "  Import/Exports Indices for every country. This only includes the year 2017 and fits the items into two categories.\n",
    "</details>\n",
    "\n",
    "<details>\n",
    "  <summary>Path</summary>\n",
    "  \n",
    "  Data/FAOSTAT/Trade_Indices_E_All_Data_(Normalized).zip\n",
    "</details>\n",
    "\n",
    "Since we are interested in the provenance of each imports, we will mainly use the Detailed Trade Matrix. The Crops and Livestock products could be useful to us if we do not need the provenance. The Trade Indices dataset does not provide any useful information."
   ]
  },
  {
   "cell_type": "markdown",
   "metadata": {},
   "source": [
    "#### 1.2.2 Data Cleaning"
   ]
  },
  {
   "cell_type": "code",
   "execution_count": 13,
   "metadata": {},
   "outputs": [],
   "source": [
    "\"\"\"Load Data\"\"\"\n",
    "tradematrix_df = pd.read_csv('Data/FAOSTAT/Trade_DetailedTradeMatrix_E_All_Data_(Normalized).zip', sep=',', encoding = \"ISO-8859-1\")"
   ]
  },
  {
   "cell_type": "code",
   "execution_count": 14,
   "metadata": {},
   "outputs": [
    {
     "data": {
      "text/html": [
       "<div>\n",
       "<style scoped>\n",
       "    .dataframe tbody tr th:only-of-type {\n",
       "        vertical-align: middle;\n",
       "    }\n",
       "\n",
       "    .dataframe tbody tr th {\n",
       "        vertical-align: top;\n",
       "    }\n",
       "\n",
       "    .dataframe thead th {\n",
       "        text-align: right;\n",
       "    }\n",
       "</style>\n",
       "<table border=\"1\" class=\"dataframe\">\n",
       "  <thead>\n",
       "    <tr style=\"text-align: right;\">\n",
       "      <th></th>\n",
       "      <th>Reporter Country Code</th>\n",
       "      <th>Reporter Countries</th>\n",
       "      <th>Partner Country Code</th>\n",
       "      <th>Partner Countries</th>\n",
       "      <th>Item Code</th>\n",
       "      <th>Item</th>\n",
       "      <th>Element Code</th>\n",
       "      <th>Element</th>\n",
       "      <th>Year Code</th>\n",
       "      <th>Year</th>\n",
       "      <th>Unit</th>\n",
       "      <th>Value</th>\n",
       "      <th>Flag</th>\n",
       "    </tr>\n",
       "  </thead>\n",
       "  <tbody>\n",
       "    <tr>\n",
       "      <td>0</td>\n",
       "      <td>2</td>\n",
       "      <td>Afghanistan</td>\n",
       "      <td>4</td>\n",
       "      <td>Algeria</td>\n",
       "      <td>230</td>\n",
       "      <td>Cashew nuts, shelled</td>\n",
       "      <td>5910</td>\n",
       "      <td>Export Quantity</td>\n",
       "      <td>2016</td>\n",
       "      <td>2016</td>\n",
       "      <td>tonnes</td>\n",
       "      <td>3.0</td>\n",
       "      <td>*</td>\n",
       "    </tr>\n",
       "    <tr>\n",
       "      <td>1</td>\n",
       "      <td>2</td>\n",
       "      <td>Afghanistan</td>\n",
       "      <td>4</td>\n",
       "      <td>Algeria</td>\n",
       "      <td>230</td>\n",
       "      <td>Cashew nuts, shelled</td>\n",
       "      <td>5922</td>\n",
       "      <td>Export Value</td>\n",
       "      <td>2016</td>\n",
       "      <td>2016</td>\n",
       "      <td>1000 US$</td>\n",
       "      <td>23.0</td>\n",
       "      <td>*</td>\n",
       "    </tr>\n",
       "    <tr>\n",
       "      <td>2</td>\n",
       "      <td>2</td>\n",
       "      <td>Afghanistan</td>\n",
       "      <td>4</td>\n",
       "      <td>Algeria</td>\n",
       "      <td>1293</td>\n",
       "      <td>Crude materials</td>\n",
       "      <td>5922</td>\n",
       "      <td>Export Value</td>\n",
       "      <td>2015</td>\n",
       "      <td>2015</td>\n",
       "      <td>1000 US$</td>\n",
       "      <td>1.0</td>\n",
       "      <td>*</td>\n",
       "    </tr>\n",
       "    <tr>\n",
       "      <td>3</td>\n",
       "      <td>2</td>\n",
       "      <td>Afghanistan</td>\n",
       "      <td>4</td>\n",
       "      <td>Algeria</td>\n",
       "      <td>1293</td>\n",
       "      <td>Crude materials</td>\n",
       "      <td>5922</td>\n",
       "      <td>Export Value</td>\n",
       "      <td>2016</td>\n",
       "      <td>2016</td>\n",
       "      <td>1000 US$</td>\n",
       "      <td>1.0</td>\n",
       "      <td>*</td>\n",
       "    </tr>\n",
       "    <tr>\n",
       "      <td>4</td>\n",
       "      <td>2</td>\n",
       "      <td>Afghanistan</td>\n",
       "      <td>4</td>\n",
       "      <td>Algeria</td>\n",
       "      <td>1293</td>\n",
       "      <td>Crude materials</td>\n",
       "      <td>5922</td>\n",
       "      <td>Export Value</td>\n",
       "      <td>2017</td>\n",
       "      <td>2017</td>\n",
       "      <td>1000 US$</td>\n",
       "      <td>5.0</td>\n",
       "      <td>R</td>\n",
       "    </tr>\n",
       "  </tbody>\n",
       "</table>\n",
       "</div>"
      ],
      "text/plain": [
       "   Reporter Country Code Reporter Countries  Partner Country Code  \\\n",
       "0                      2        Afghanistan                     4   \n",
       "1                      2        Afghanistan                     4   \n",
       "2                      2        Afghanistan                     4   \n",
       "3                      2        Afghanistan                     4   \n",
       "4                      2        Afghanistan                     4   \n",
       "\n",
       "  Partner Countries  Item Code                  Item  Element Code  \\\n",
       "0           Algeria        230  Cashew nuts, shelled          5910   \n",
       "1           Algeria        230  Cashew nuts, shelled          5922   \n",
       "2           Algeria       1293       Crude materials          5922   \n",
       "3           Algeria       1293       Crude materials          5922   \n",
       "4           Algeria       1293       Crude materials          5922   \n",
       "\n",
       "           Element  Year Code  Year      Unit  Value Flag  \n",
       "0  Export Quantity       2016  2016    tonnes    3.0    *  \n",
       "1     Export Value       2016  2016  1000 US$   23.0    *  \n",
       "2     Export Value       2015  2015  1000 US$    1.0    *  \n",
       "3     Export Value       2016  2016  1000 US$    1.0    *  \n",
       "4     Export Value       2017  2017  1000 US$    5.0    R  "
      ]
     },
     "execution_count": 14,
     "metadata": {},
     "output_type": "execute_result"
    }
   ],
   "source": [
    "tradematrix_df.head()"
   ]
  },
  {
   "cell_type": "code",
   "execution_count": 15,
   "metadata": {},
   "outputs": [],
   "source": [
    "\"\"\"Extract Switzerland Trades\"\"\"\n",
    "CH_code = 211 # Switzerland Area Code is 211\n",
    "tradematrix_df_CH = tradematrix_df[tradematrix_df['Reporter Country Code'] == CH_code]"
   ]
  },
  {
   "cell_type": "code",
   "execution_count": 16,
   "metadata": {},
   "outputs": [
    {
     "data": {
      "text/plain": [
       "1000 US$     297067\n",
       "tonnes       291194\n",
       "Head           3106\n",
       "1000 Head       366\n",
       "No               13\n",
       "Name: Unit, dtype: int64"
      ]
     },
     "execution_count": 16,
     "metadata": {},
     "output_type": "execute_result"
    }
   ],
   "source": [
    "\"\"\"Check Units\"\"\"\n",
    "tradematrix_df_CH['Unit'].value_counts()"
   ]
  },
  {
   "cell_type": "markdown",
   "metadata": {},
   "source": [
    "Again, we notice a few different units, the most frequent one being `tonnes` for quantity and `1000 US$` for value. We need to check what the other units correspond to to see if we should remove them."
   ]
  },
  {
   "cell_type": "code",
   "execution_count": 17,
   "metadata": {},
   "outputs": [
    {
     "data": {
      "text/plain": [
       "Horses               1586\n",
       "Cattle                474\n",
       "Chickens              271\n",
       "Sheep                 239\n",
       "Goats                 203\n",
       "Asses                 188\n",
       "Pigs                  184\n",
       "Animals live nes      139\n",
       "Camelids, other        45\n",
       "Ducks                  36\n",
       "Mules                  33\n",
       "Rabbits and hares      31\n",
       "Turkeys                28\n",
       "Buffaloes              15\n",
       "Beehives               13\n",
       "Name: Item, dtype: int64"
      ]
     },
     "execution_count": 17,
     "metadata": {},
     "output_type": "execute_result"
    }
   ],
   "source": [
    "\"\"\"Items expressed in Head, 1000 Head or No\"\"\"\n",
    "tradematrix_df_CH[(tradematrix_df_CH['Unit'] == 'Head') | (tradematrix_df_CH['Unit'] == '1000 Head') | (tradematrix_df_CH['Unit'] == 'No')]['Item'].value_counts()"
   ]
  },
  {
   "cell_type": "markdown",
   "metadata": {},
   "source": [
    "We see these units correspond to all live animals. As mentioned before, since we are interested in consumable food we do not need these items and thus can remove them. However, if we remove them if must make sure to remove also the live animals expressed in 1000 US$."
   ]
  },
  {
   "cell_type": "code",
   "execution_count": 18,
   "metadata": {},
   "outputs": [],
   "source": [
    "\"\"\"Create list of item codes corresponding to live animals\"\"\"\n",
    "liveanimals_codes = tradematrix_df_CH[(tradematrix_df_CH['Unit'] == 'Head') | (tradematrix_df_CH['Unit'] == '1000 Head') | (tradematrix_df_CH['Unit'] == 'No')]['Item Code'].unique()\n",
    "\n",
    "\"\"\"Remove rows with those items\"\"\"\n",
    "tradematrix_df_CH = tradematrix_df_CH[tradematrix_df_CH['Item Code'].apply(lambda code: code in liveanimals_codes) == False]"
   ]
  },
  {
   "cell_type": "code",
   "execution_count": 19,
   "metadata": {},
   "outputs": [
    {
     "data": {
      "text/plain": [
       "1000 US$    293575\n",
       "tonnes      290668\n",
       "Name: Unit, dtype: int64"
      ]
     },
     "execution_count": 19,
     "metadata": {},
     "output_type": "execute_result"
    }
   ],
   "source": [
    "\"\"\"Check units again\"\"\"\n",
    "tradematrix_df_CH['Unit'].value_counts()"
   ]
  },
  {
   "cell_type": "markdown",
   "metadata": {},
   "source": [
    "Now that we have a more homogeneous dataset, we want to separate the four different elements i.e. Export/Import in terms of Quantity/Value."
   ]
  },
  {
   "cell_type": "code",
   "execution_count": 20,
   "metadata": {},
   "outputs": [
    {
     "data": {
      "text/plain": [
       "Import Value       177026\n",
       "Import Quantity    175231\n",
       "Export Value       116549\n",
       "Export Quantity    115437\n",
       "Name: Element, dtype: int64"
      ]
     },
     "execution_count": 20,
     "metadata": {},
     "output_type": "execute_result"
    }
   ],
   "source": [
    "\"\"\"Check different elements\"\"\"\n",
    "tradematrix_df_CH['Element'].value_counts()"
   ]
  },
  {
   "cell_type": "code",
   "execution_count": 21,
   "metadata": {},
   "outputs": [],
   "source": [
    "\"\"\"Separate in four dataframes\"\"\"\n",
    "imports_quant_df_CH = tradematrix_df_CH[tradematrix_df_CH['Element'] == 'Import Quantity']\n",
    "imports_val_df_CH = tradematrix_df_CH[tradematrix_df_CH['Element'] == 'Import Value']\n",
    "exports_quant_df_CH = tradematrix_df_CH[tradematrix_df_CH['Element'] == 'Export Quantity']\n",
    "exports_val_df_CH = tradematrix_df_CH[tradematrix_df_CH['Element'] == 'Export Value']"
   ]
  },
  {
   "cell_type": "markdown",
   "metadata": {},
   "source": [
    "Those four dataframes provide the swiss import/exports in terms of quantity and value from 1961 to 2017. It has no NaN values, only a lot of 0 values. "
   ]
  },
  {
   "cell_type": "markdown",
   "metadata": {},
   "source": [
    "#### 1.2.3 Pending Questions\n",
    "* Flags: Are they useful? How would we use them?\n",
    "* Items: Duplicates?\n",
    "* Join the four dataframes to have the four values in each row? Then ignore flags?"
   ]
  },
  {
   "cell_type": "markdown",
   "metadata": {},
   "source": [
    "---"
   ]
  },
  {
   "cell_type": "markdown",
   "metadata": {},
   "source": [
    "### 1.4 Item Classification"
   ]
  },
  {
   "cell_type": "code",
   "execution_count": 22,
   "metadata": {},
   "outputs": [],
   "source": [
    "\"\"\"Load Data\"\"\"\n",
    "items_codes =pd.read_csv('Data/items_codes.csv', sep=',', encoding = \"ISO-8859-1\")\n",
    "items_subgroups =pd.read_csv('Data/items_subgroups.csv', sep=',', encoding = \"ISO-8859-1\")\n",
    "items_groups =pd.read_csv('Data/items_groups.csv', sep=',', encoding = \"ISO-8859-1\")"
   ]
  },
  {
   "cell_type": "code",
   "execution_count": 23,
   "metadata": {},
   "outputs": [],
   "source": [
    "\"\"\"Filter and rename columns to obtain only what we need for classification\"\"\"\n",
    "items_codes = items_codes[['Item Code', 'Item', 'Description']]\n",
    "items_groups = items_groups[['Item Group Code', 'Item Group', 'Item Code']]\n",
    "items_groups = items_groups.rename(columns={'Item Code': 'Item Subgroup Code'})\n",
    "items_subgroups = items_subgroups[[ 'Item Code', 'Item', 'Description']]\n",
    "items_subgroups = items_subgroups.rename(columns={'Item Code': 'Item Subgroup Code', 'Item': 'Item Subgroup', 'Description': 'Item Code'})"
   ]
  },
  {
   "cell_type": "code",
   "execution_count": 24,
   "metadata": {},
   "outputs": [],
   "source": [
    "\"\"\"Obtain item codes for each subgroup\"\"\"\n",
    "items_subgroups['Item Code'] = items_subgroups['Item Code'].apply(lambda desc : re.findall(r\"\\d+\", str(desc)))"
   ]
  },
  {
   "cell_type": "code",
   "execution_count": 25,
   "metadata": {},
   "outputs": [],
   "source": [
    "\"\"\"Remove subgroups that correspond to groups\"\"\"\n",
    "items_subgroups = items_subgroups[items_subgroups['Item Subgroup'].apply(lambda item_subgroup: item_subgroup in items_groups['Item Group'].unique()) == False]"
   ]
  },
  {
   "cell_type": "code",
   "execution_count": 26,
   "metadata": {},
   "outputs": [],
   "source": [
    "\"\"\"Explode item codes into separate rows\"\"\"\n",
    "items_subgroups = items_subgroups.explode('Item Code')\n",
    "items_subgroups = items_subgroups[items_subgroups['Item Code'].isna() == False]\n",
    "items_subgroups['Item Code'] = items_subgroups['Item Code'].apply(lambda code: int(code))"
   ]
  },
  {
   "cell_type": "code",
   "execution_count": 27,
   "metadata": {},
   "outputs": [],
   "source": [
    "\"\"\"Join the obtained dataframe to get full classification\"\"\"\n",
    "items = items_codes.merge(items_subgroups, on='Item Code', how='left')\n",
    "items = items.merge(items_groups, on='Item Subgroup Code', how='left')"
   ]
  },
  {
   "cell_type": "code",
   "execution_count": 28,
   "metadata": {},
   "outputs": [
    {
     "data": {
      "text/html": [
       "<div>\n",
       "<style scoped>\n",
       "    .dataframe tbody tr th:only-of-type {\n",
       "        vertical-align: middle;\n",
       "    }\n",
       "\n",
       "    .dataframe tbody tr th {\n",
       "        vertical-align: top;\n",
       "    }\n",
       "\n",
       "    .dataframe thead th {\n",
       "        text-align: right;\n",
       "    }\n",
       "</style>\n",
       "<table border=\"1\" class=\"dataframe\">\n",
       "  <thead>\n",
       "    <tr style=\"text-align: right;\">\n",
       "      <th></th>\n",
       "      <th>Item Code</th>\n",
       "      <th>Item</th>\n",
       "      <th>Description</th>\n",
       "      <th>Item Subgroup Code</th>\n",
       "      <th>Item Subgroup</th>\n",
       "      <th>Item Group Code</th>\n",
       "      <th>Item Group</th>\n",
       "    </tr>\n",
       "  </thead>\n",
       "  <tbody>\n",
       "    <tr>\n",
       "      <td>0</td>\n",
       "      <td>862</td>\n",
       "      <td>Alfalfa meal and pellets</td>\n",
       "      <td>Alfalfa (lucerne) dried, whole, cut, chopped, ...</td>\n",
       "      <td>NaN</td>\n",
       "      <td>NaN</td>\n",
       "      <td>NaN</td>\n",
       "      <td>NaN</td>\n",
       "    </tr>\n",
       "    <tr>\n",
       "      <td>1</td>\n",
       "      <td>231</td>\n",
       "      <td>Almonds shelled</td>\n",
       "      <td>Around 55% of the weight in shell.</td>\n",
       "      <td>2551.0</td>\n",
       "      <td>Nuts and products</td>\n",
       "      <td>2901.0</td>\n",
       "      <td>Grand Total</td>\n",
       "    </tr>\n",
       "    <tr>\n",
       "      <td>2</td>\n",
       "      <td>231</td>\n",
       "      <td>Almonds shelled</td>\n",
       "      <td>Around 55% of the weight in shell.</td>\n",
       "      <td>2551.0</td>\n",
       "      <td>Nuts and products</td>\n",
       "      <td>2912.0</td>\n",
       "      <td>Treenuts</td>\n",
       "    </tr>\n",
       "    <tr>\n",
       "      <td>3</td>\n",
       "      <td>231</td>\n",
       "      <td>Almonds shelled</td>\n",
       "      <td>Around 55% of the weight in shell.</td>\n",
       "      <td>2551.0</td>\n",
       "      <td>Nuts and products</td>\n",
       "      <td>2903.0</td>\n",
       "      <td>Vegetal Products</td>\n",
       "    </tr>\n",
       "    <tr>\n",
       "      <td>4</td>\n",
       "      <td>221</td>\n",
       "      <td>Almonds, with shell</td>\n",
       "      <td>Prunus amygdalus; P. communis; Amygdalus commu...</td>\n",
       "      <td>2551.0</td>\n",
       "      <td>Nuts and products</td>\n",
       "      <td>2901.0</td>\n",
       "      <td>Grand Total</td>\n",
       "    </tr>\n",
       "  </tbody>\n",
       "</table>\n",
       "</div>"
      ],
      "text/plain": [
       "   Item Code                      Item  \\\n",
       "0        862  Alfalfa meal and pellets   \n",
       "1        231           Almonds shelled   \n",
       "2        231           Almonds shelled   \n",
       "3        231           Almonds shelled   \n",
       "4        221       Almonds, with shell   \n",
       "\n",
       "                                         Description  Item Subgroup Code  \\\n",
       "0  Alfalfa (lucerne) dried, whole, cut, chopped, ...                 NaN   \n",
       "1                 Around 55% of the weight in shell.              2551.0   \n",
       "2                 Around 55% of the weight in shell.              2551.0   \n",
       "3                 Around 55% of the weight in shell.              2551.0   \n",
       "4  Prunus amygdalus; P. communis; Amygdalus commu...              2551.0   \n",
       "\n",
       "       Item Subgroup  Item Group Code        Item Group  \n",
       "0                NaN              NaN               NaN  \n",
       "1  Nuts and products           2901.0       Grand Total  \n",
       "2  Nuts and products           2912.0          Treenuts  \n",
       "3  Nuts and products           2903.0  Vegetal Products  \n",
       "4  Nuts and products           2901.0       Grand Total  "
      ]
     },
     "execution_count": 28,
     "metadata": {},
     "output_type": "execute_result"
    }
   ],
   "source": [
    "items.head()"
   ]
  },
  {
   "cell_type": "markdown",
   "metadata": {},
   "source": [
    "---"
   ]
  },
  {
   "cell_type": "markdown",
   "metadata": {},
   "source": [
    "### 1.3 Swiss Food Balance\n",
    "#### 1.3.1 Data Description\n",
    "\n",
    "##### Food Balance Sheets\n",
    "<details>\n",
    "  <summary>Description</summary> \n",
    "  \n",
    "</details>\n",
    "\n",
    "<details>\n",
    "  <summary>Path</summary>\n",
    "  \n",
    "  Data/FAOSTAT/\n",
    "</details>"
   ]
  },
  {
   "cell_type": "code",
   "execution_count": 32,
   "metadata": {},
   "outputs": [],
   "source": [
    "\"\"\"Load Data\"\"\"\n",
    "food_balance_df = pd.read_csv('Data/FAOSTAT/FoodBalanceSheets_E_All_Data_(Normalized).zip', encoding=\"ISO-8859-1\")"
   ]
  },
  {
   "cell_type": "code",
   "execution_count": 33,
   "metadata": {},
   "outputs": [],
   "source": [
    "\"\"\"Filter Data to obtain only what we need\"\"\"\n",
    "food_balance_df_CH = food_balance_df[food_balance_df['Area Code'] == CH_code]"
   ]
  },
  {
   "cell_type": "code",
   "execution_count": 34,
   "metadata": {},
   "outputs": [
    {
     "data": {
      "text/html": [
       "<div>\n",
       "<style scoped>\n",
       "    .dataframe tbody tr th:only-of-type {\n",
       "        vertical-align: middle;\n",
       "    }\n",
       "\n",
       "    .dataframe tbody tr th {\n",
       "        vertical-align: top;\n",
       "    }\n",
       "\n",
       "    .dataframe thead th {\n",
       "        text-align: right;\n",
       "    }\n",
       "</style>\n",
       "<table border=\"1\" class=\"dataframe\">\n",
       "  <thead>\n",
       "    <tr style=\"text-align: right;\">\n",
       "      <th></th>\n",
       "      <th>Area</th>\n",
       "      <th>Item</th>\n",
       "      <th>Year</th>\n",
       "      <th>Domestic supply quantity</th>\n",
       "      <th>Export Quantity</th>\n",
       "      <th>Fat supply quantity (g/capita/day)</th>\n",
       "      <th>Feed</th>\n",
       "      <th>Food</th>\n",
       "      <th>Food supply (kcal/capita/day)</th>\n",
       "      <th>Food supply quantity (kg/capita/yr)</th>\n",
       "      <th>Import Quantity</th>\n",
       "      <th>Losses</th>\n",
       "      <th>Other uses</th>\n",
       "      <th>Processing</th>\n",
       "      <th>Production</th>\n",
       "      <th>Protein supply quantity (g/capita/day)</th>\n",
       "      <th>Seed</th>\n",
       "      <th>Stock Variation</th>\n",
       "      <th>Total Population - Both sexes</th>\n",
       "    </tr>\n",
       "  </thead>\n",
       "  <tbody>\n",
       "    <tr>\n",
       "      <td>7741481</td>\n",
       "      <td>Switzerland</td>\n",
       "      <td>Population</td>\n",
       "      <td>1961</td>\n",
       "      <td>NaN</td>\n",
       "      <td>NaN</td>\n",
       "      <td>NaN</td>\n",
       "      <td>NaN</td>\n",
       "      <td>NaN</td>\n",
       "      <td>NaN</td>\n",
       "      <td>NaN</td>\n",
       "      <td>NaN</td>\n",
       "      <td>NaN</td>\n",
       "      <td>NaN</td>\n",
       "      <td>NaN</td>\n",
       "      <td>NaN</td>\n",
       "      <td>NaN</td>\n",
       "      <td>NaN</td>\n",
       "      <td>NaN</td>\n",
       "      <td>5393.0</td>\n",
       "    </tr>\n",
       "    <tr>\n",
       "      <td>7741482</td>\n",
       "      <td>Switzerland</td>\n",
       "      <td>Population</td>\n",
       "      <td>1962</td>\n",
       "      <td>NaN</td>\n",
       "      <td>NaN</td>\n",
       "      <td>NaN</td>\n",
       "      <td>NaN</td>\n",
       "      <td>NaN</td>\n",
       "      <td>NaN</td>\n",
       "      <td>NaN</td>\n",
       "      <td>NaN</td>\n",
       "      <td>NaN</td>\n",
       "      <td>NaN</td>\n",
       "      <td>NaN</td>\n",
       "      <td>NaN</td>\n",
       "      <td>NaN</td>\n",
       "      <td>NaN</td>\n",
       "      <td>NaN</td>\n",
       "      <td>5503.0</td>\n",
       "    </tr>\n",
       "    <tr>\n",
       "      <td>7741483</td>\n",
       "      <td>Switzerland</td>\n",
       "      <td>Population</td>\n",
       "      <td>1963</td>\n",
       "      <td>NaN</td>\n",
       "      <td>NaN</td>\n",
       "      <td>NaN</td>\n",
       "      <td>NaN</td>\n",
       "      <td>NaN</td>\n",
       "      <td>NaN</td>\n",
       "      <td>NaN</td>\n",
       "      <td>NaN</td>\n",
       "      <td>NaN</td>\n",
       "      <td>NaN</td>\n",
       "      <td>NaN</td>\n",
       "      <td>NaN</td>\n",
       "      <td>NaN</td>\n",
       "      <td>NaN</td>\n",
       "      <td>NaN</td>\n",
       "      <td>5618.0</td>\n",
       "    </tr>\n",
       "    <tr>\n",
       "      <td>7741484</td>\n",
       "      <td>Switzerland</td>\n",
       "      <td>Population</td>\n",
       "      <td>1964</td>\n",
       "      <td>NaN</td>\n",
       "      <td>NaN</td>\n",
       "      <td>NaN</td>\n",
       "      <td>NaN</td>\n",
       "      <td>NaN</td>\n",
       "      <td>NaN</td>\n",
       "      <td>NaN</td>\n",
       "      <td>NaN</td>\n",
       "      <td>NaN</td>\n",
       "      <td>NaN</td>\n",
       "      <td>NaN</td>\n",
       "      <td>NaN</td>\n",
       "      <td>NaN</td>\n",
       "      <td>NaN</td>\n",
       "      <td>NaN</td>\n",
       "      <td>5729.0</td>\n",
       "    </tr>\n",
       "    <tr>\n",
       "      <td>7741485</td>\n",
       "      <td>Switzerland</td>\n",
       "      <td>Population</td>\n",
       "      <td>1965</td>\n",
       "      <td>NaN</td>\n",
       "      <td>NaN</td>\n",
       "      <td>NaN</td>\n",
       "      <td>NaN</td>\n",
       "      <td>NaN</td>\n",
       "      <td>NaN</td>\n",
       "      <td>NaN</td>\n",
       "      <td>NaN</td>\n",
       "      <td>NaN</td>\n",
       "      <td>NaN</td>\n",
       "      <td>NaN</td>\n",
       "      <td>NaN</td>\n",
       "      <td>NaN</td>\n",
       "      <td>NaN</td>\n",
       "      <td>NaN</td>\n",
       "      <td>5830.0</td>\n",
       "    </tr>\n",
       "  </tbody>\n",
       "</table>\n",
       "</div>"
      ],
      "text/plain": [
       "                Area        Item  Year  Domestic supply quantity  \\\n",
       "7741481  Switzerland  Population  1961                       NaN   \n",
       "7741482  Switzerland  Population  1962                       NaN   \n",
       "7741483  Switzerland  Population  1963                       NaN   \n",
       "7741484  Switzerland  Population  1964                       NaN   \n",
       "7741485  Switzerland  Population  1965                       NaN   \n",
       "\n",
       "         Export Quantity  Fat supply quantity (g/capita/day)  Feed  Food  \\\n",
       "7741481              NaN                                 NaN   NaN   NaN   \n",
       "7741482              NaN                                 NaN   NaN   NaN   \n",
       "7741483              NaN                                 NaN   NaN   NaN   \n",
       "7741484              NaN                                 NaN   NaN   NaN   \n",
       "7741485              NaN                                 NaN   NaN   NaN   \n",
       "\n",
       "         Food supply (kcal/capita/day)  Food supply quantity (kg/capita/yr)  \\\n",
       "7741481                            NaN                                  NaN   \n",
       "7741482                            NaN                                  NaN   \n",
       "7741483                            NaN                                  NaN   \n",
       "7741484                            NaN                                  NaN   \n",
       "7741485                            NaN                                  NaN   \n",
       "\n",
       "         Import Quantity  Losses  Other uses  Processing  Production  \\\n",
       "7741481              NaN     NaN         NaN         NaN         NaN   \n",
       "7741482              NaN     NaN         NaN         NaN         NaN   \n",
       "7741483              NaN     NaN         NaN         NaN         NaN   \n",
       "7741484              NaN     NaN         NaN         NaN         NaN   \n",
       "7741485              NaN     NaN         NaN         NaN         NaN   \n",
       "\n",
       "         Protein supply quantity (g/capita/day)  Seed  Stock Variation  \\\n",
       "7741481                                     NaN   NaN              NaN   \n",
       "7741482                                     NaN   NaN              NaN   \n",
       "7741483                                     NaN   NaN              NaN   \n",
       "7741484                                     NaN   NaN              NaN   \n",
       "7741485                                     NaN   NaN              NaN   \n",
       "\n",
       "         Total Population - Both sexes  \n",
       "7741481                         5393.0  \n",
       "7741482                         5503.0  \n",
       "7741483                         5618.0  \n",
       "7741484                         5729.0  \n",
       "7741485                         5830.0  "
      ]
     },
     "execution_count": 34,
     "metadata": {},
     "output_type": "execute_result"
    }
   ],
   "source": [
    "\"\"\"Spread the elements in 'Elements' to columns to be able to work on data\"\"\"\n",
    "values_wide = food_balance_df_CH.pivot_table(index=['Area', 'Item', 'Year'], columns='Element', values='Value')\n",
    "food_balance_df_CH_wide = food_balance_df_CH[['Area', 'Item', 'Year']]\\\n",
    "                    .merge(values_wide, right_index=True, left_on=['Area', 'Item', 'Year'])\\\n",
    "                    .drop_duplicates()\n",
    "        \n",
    "food_balance_df_CH_wide.head()"
   ]
  },
  {
   "cell_type": "code",
   "execution_count": 48,
   "metadata": {},
   "outputs": [
    {
     "data": {
      "text/html": [
       "<div>\n",
       "<style scoped>\n",
       "    .dataframe tbody tr th:only-of-type {\n",
       "        vertical-align: middle;\n",
       "    }\n",
       "\n",
       "    .dataframe tbody tr th {\n",
       "        vertical-align: top;\n",
       "    }\n",
       "\n",
       "    .dataframe thead th {\n",
       "        text-align: right;\n",
       "    }\n",
       "</style>\n",
       "<table border=\"1\" class=\"dataframe\">\n",
       "  <thead>\n",
       "    <tr style=\"text-align: right;\">\n",
       "      <th></th>\n",
       "      <th>Domestic supply quantity</th>\n",
       "      <th>Export Quantity</th>\n",
       "      <th>Fat supply quantity (g/capita/day)</th>\n",
       "      <th>Feed</th>\n",
       "      <th>Food</th>\n",
       "      <th>Food supply (kcal/capita/day)</th>\n",
       "      <th>Food supply quantity (kg/capita/yr)</th>\n",
       "      <th>Import Quantity</th>\n",
       "      <th>Losses</th>\n",
       "      <th>Other uses</th>\n",
       "      <th>Processing</th>\n",
       "      <th>Production</th>\n",
       "      <th>Protein supply quantity (g/capita/day)</th>\n",
       "      <th>Seed</th>\n",
       "      <th>Stock Variation</th>\n",
       "      <th>Total Population - Both sexes</th>\n",
       "    </tr>\n",
       "    <tr>\n",
       "      <th>Year</th>\n",
       "      <th></th>\n",
       "      <th></th>\n",
       "      <th></th>\n",
       "      <th></th>\n",
       "      <th></th>\n",
       "      <th></th>\n",
       "      <th></th>\n",
       "      <th></th>\n",
       "      <th></th>\n",
       "      <th></th>\n",
       "      <th></th>\n",
       "      <th></th>\n",
       "      <th></th>\n",
       "      <th></th>\n",
       "      <th></th>\n",
       "      <th></th>\n",
       "    </tr>\n",
       "  </thead>\n",
       "  <tbody>\n",
       "    <tr>\n",
       "      <td>1961</td>\n",
       "      <td>15754.0</td>\n",
       "      <td>756.0</td>\n",
       "      <td>505.34</td>\n",
       "      <td>3799.0</td>\n",
       "      <td>9378.0</td>\n",
       "      <td>13815.0</td>\n",
       "      <td>1739.37</td>\n",
       "      <td>5185.0</td>\n",
       "      <td>451.0</td>\n",
       "      <td>208.0</td>\n",
       "      <td>1627.0</td>\n",
       "      <td>11140.0</td>\n",
       "      <td>351.95</td>\n",
       "      <td>291.0</td>\n",
       "      <td>185.0</td>\n",
       "      <td>5393.0</td>\n",
       "    </tr>\n",
       "    <tr>\n",
       "      <td>1962</td>\n",
       "      <td>16584.0</td>\n",
       "      <td>661.0</td>\n",
       "      <td>524.16</td>\n",
       "      <td>4290.0</td>\n",
       "      <td>9756.0</td>\n",
       "      <td>13459.0</td>\n",
       "      <td>1772.89</td>\n",
       "      <td>5565.0</td>\n",
       "      <td>429.0</td>\n",
       "      <td>240.0</td>\n",
       "      <td>1590.0</td>\n",
       "      <td>11569.0</td>\n",
       "      <td>332.71</td>\n",
       "      <td>285.0</td>\n",
       "      <td>117.0</td>\n",
       "      <td>5503.0</td>\n",
       "    </tr>\n",
       "    <tr>\n",
       "      <td>1963</td>\n",
       "      <td>16670.0</td>\n",
       "      <td>746.0</td>\n",
       "      <td>518.34</td>\n",
       "      <td>4433.0</td>\n",
       "      <td>9668.0</td>\n",
       "      <td>13161.0</td>\n",
       "      <td>1720.57</td>\n",
       "      <td>5438.0</td>\n",
       "      <td>415.0</td>\n",
       "      <td>267.0</td>\n",
       "      <td>1592.0</td>\n",
       "      <td>11485.0</td>\n",
       "      <td>338.38</td>\n",
       "      <td>297.0</td>\n",
       "      <td>495.0</td>\n",
       "      <td>5618.0</td>\n",
       "    </tr>\n",
       "    <tr>\n",
       "      <td>1964</td>\n",
       "      <td>17086.0</td>\n",
       "      <td>712.0</td>\n",
       "      <td>531.93</td>\n",
       "      <td>4316.0</td>\n",
       "      <td>9900.0</td>\n",
       "      <td>13326.0</td>\n",
       "      <td>1727.53</td>\n",
       "      <td>5943.0</td>\n",
       "      <td>398.0</td>\n",
       "      <td>265.0</td>\n",
       "      <td>1941.0</td>\n",
       "      <td>11907.0</td>\n",
       "      <td>336.65</td>\n",
       "      <td>275.0</td>\n",
       "      <td>-52.0</td>\n",
       "      <td>5729.0</td>\n",
       "    </tr>\n",
       "    <tr>\n",
       "      <td>1965</td>\n",
       "      <td>16876.0</td>\n",
       "      <td>723.0</td>\n",
       "      <td>521.01</td>\n",
       "      <td>4114.0</td>\n",
       "      <td>10166.0</td>\n",
       "      <td>13319.0</td>\n",
       "      <td>1743.16</td>\n",
       "      <td>6558.0</td>\n",
       "      <td>351.0</td>\n",
       "      <td>276.0</td>\n",
       "      <td>1717.0</td>\n",
       "      <td>10534.0</td>\n",
       "      <td>340.35</td>\n",
       "      <td>261.0</td>\n",
       "      <td>510.0</td>\n",
       "      <td>5830.0</td>\n",
       "    </tr>\n",
       "  </tbody>\n",
       "</table>\n",
       "</div>"
      ],
      "text/plain": [
       "      Domestic supply quantity  Export Quantity  \\\n",
       "Year                                              \n",
       "1961                   15754.0            756.0   \n",
       "1962                   16584.0            661.0   \n",
       "1963                   16670.0            746.0   \n",
       "1964                   17086.0            712.0   \n",
       "1965                   16876.0            723.0   \n",
       "\n",
       "      Fat supply quantity (g/capita/day)    Feed     Food  \\\n",
       "Year                                                        \n",
       "1961                              505.34  3799.0   9378.0   \n",
       "1962                              524.16  4290.0   9756.0   \n",
       "1963                              518.34  4433.0   9668.0   \n",
       "1964                              531.93  4316.0   9900.0   \n",
       "1965                              521.01  4114.0  10166.0   \n",
       "\n",
       "      Food supply (kcal/capita/day)  Food supply quantity (kg/capita/yr)  \\\n",
       "Year                                                                       \n",
       "1961                        13815.0                              1739.37   \n",
       "1962                        13459.0                              1772.89   \n",
       "1963                        13161.0                              1720.57   \n",
       "1964                        13326.0                              1727.53   \n",
       "1965                        13319.0                              1743.16   \n",
       "\n",
       "      Import Quantity  Losses  Other uses  Processing  Production  \\\n",
       "Year                                                                \n",
       "1961           5185.0   451.0       208.0      1627.0     11140.0   \n",
       "1962           5565.0   429.0       240.0      1590.0     11569.0   \n",
       "1963           5438.0   415.0       267.0      1592.0     11485.0   \n",
       "1964           5943.0   398.0       265.0      1941.0     11907.0   \n",
       "1965           6558.0   351.0       276.0      1717.0     10534.0   \n",
       "\n",
       "      Protein supply quantity (g/capita/day)   Seed  Stock Variation  \\\n",
       "Year                                                                   \n",
       "1961                                  351.95  291.0            185.0   \n",
       "1962                                  332.71  285.0            117.0   \n",
       "1963                                  338.38  297.0            495.0   \n",
       "1964                                  336.65  275.0            -52.0   \n",
       "1965                                  340.35  261.0            510.0   \n",
       "\n",
       "      Total Population - Both sexes  \n",
       "Year                                 \n",
       "1961                         5393.0  \n",
       "1962                         5503.0  \n",
       "1963                         5618.0  \n",
       "1964                         5729.0  \n",
       "1965                         5830.0  "
      ]
     },
     "execution_count": 48,
     "metadata": {},
     "output_type": "execute_result"
    }
   ],
   "source": [
    "\"\"\"Inspect the food supply and others per year\"\"\"\n",
    "food_balance_df_CH_wide.groupby('Year').sum().head()"
   ]
  },
  {
   "cell_type": "markdown",
   "metadata": {},
   "source": [
    "## Food Balance Comments\n",
    "\n",
    "We clearly see that some numbers were totally unexpected while inspecting `food_balance`. For example, having +13'000 kcal/capita/day seem too much since we know we are eating around 2000-3000 kcal/capita/day.\n",
    "We did some researches and found that some elements in `Item` are the group of other elements, and hence we have some duplicates values.\n",
    "\n",
    "To resolve this problem, we need to separate the group items from the items. As we already investigate on the items and their groups, we can use our results to split `food_balance` into 2 dataframes, one which contain the elements and another one which contain only the groups."
   ]
  },
  {
   "cell_type": "code",
   "execution_count": 45,
   "metadata": {},
   "outputs": [
    {
     "data": {
      "text/plain": [
       "array(['Alcoholic Beverages', 'Animal fats', 'Animal Products',\n",
       "       'Aquatic Products, Other', 'Cereals - Excluding Beer', 'Eggs',\n",
       "       'Fish, Seafood', 'Fruits - Excluding Wine', 'Grand Total', 'Meat',\n",
       "       'Milk - Excluding Butter', 'Miscellaneous', 'Offals', 'Oilcrops',\n",
       "       'Pulses', 'Spices', 'Starchy Roots', 'Stimulants',\n",
       "       'Sugar & Sweeteners', 'Sugar Crops', 'Treenuts', 'Vegetable Oils',\n",
       "       'Vegetables', 'Vegetal Products'], dtype=object)"
      ]
     },
     "execution_count": 45,
     "metadata": {},
     "output_type": "execute_result"
    }
   ],
   "source": [
    "items_groups['Item Group'].unique()"
   ]
  },
  {
   "cell_type": "code",
   "execution_count": 51,
   "metadata": {},
   "outputs": [
    {
     "data": {
      "text/plain": [
       "array(['Alcohol, Non-Food', 'Apples and products',\n",
       "       'Aquatic Animals, Others', 'Aquatic Plants', 'Bananas',\n",
       "       'Barley and products', 'Beans', 'Beer', 'Beverages, Alcoholic',\n",
       "       'Beverages, Fermented', 'Bovine Meat', 'Butter, Ghee',\n",
       "       'Cassava and products', 'Cephalopods', 'Cereals, Other',\n",
       "       'Citrus, Other', 'Cloves', 'Cocoa Beans and products',\n",
       "       'Coconut Oil', 'Coconuts - Incl Copra', 'Coffee and products',\n",
       "       'Cottonseed', 'Cottonseed Oil', 'Cream', 'Crustaceans', 'Dates',\n",
       "       'Demersal Fish', 'Fats, Animals, Raw', 'Fish, Body Oil',\n",
       "       'Fish, Liver Oil', 'Freshwater Fish', 'Fruits, Other',\n",
       "       'Grapefruit and products', 'Grapes and products (excl wine)',\n",
       "       'Groundnut Oil', 'Groundnuts (Shelled Eq)', 'Honey', 'Infant food',\n",
       "       'Lemons, Limes and products', 'Maize and products',\n",
       "       'Maize Germ Oil', 'Marine Fish, Other', 'Meat, Aquatic Mammals',\n",
       "       'Meat, Other', 'Millet and products', 'Molluscs, Other',\n",
       "       'Mutton & Goat Meat', 'Nuts and products', 'Oats',\n",
       "       'Offals, Edible', 'Oilcrops Oil, Other', 'Oilcrops, Other',\n",
       "       'Olive Oil', 'Olives (including preserved)', 'Onions',\n",
       "       'Oranges, Mandarines', 'Palm kernels', 'Palm Oil',\n",
       "       'Palmkernel Oil', 'Peas', 'Pelagic Fish', 'Pepper', 'Pigmeat',\n",
       "       'Pimento', 'Pineapples and products', 'Plantains',\n",
       "       'Potatoes and products', 'Poultry Meat',\n",
       "       'Pulses, Other and products', 'Rape and Mustard Oil',\n",
       "       'Rape and Mustardseed', 'Rice (Milled Equivalent)', 'Ricebran Oil',\n",
       "       'Roots, Other', 'Rye and products', 'Sesame seed',\n",
       "       'Sesameseed Oil', 'Sorghum and products', 'Soyabean Oil',\n",
       "       'Soyabeans', 'Spices, Other', 'Sugar (Raw Equivalent)',\n",
       "       'Sugar beet', 'Sugar cane', 'Sugar non-centrifugal',\n",
       "       'Sunflower seed', 'Sunflowerseed Oil', 'Sweet potatoes',\n",
       "       'Sweeteners, Other', 'Tea (including mate)',\n",
       "       'Tomatoes and products', 'Vegetables, Other', 'Wheat and products',\n",
       "       'Wine', 'Yams'], dtype=object)"
      ]
     },
     "execution_count": 51,
     "metadata": {},
     "output_type": "execute_result"
    }
   ],
   "source": [
    "items_subgroups['Item Subgroup'].unique()"
   ]
  },
  {
   "cell_type": "markdown",
   "metadata": {},
   "source": [
    "---"
   ]
  },
  {
   "cell_type": "code",
   "execution_count": 54,
   "metadata": {},
   "outputs": [
    {
     "data": {
      "text/plain": [
       "array(['Population', 'Grand Total', 'Vegetal Products', 'Animal Products',\n",
       "       'Cereals - Excluding Beer', 'Wheat and products',\n",
       "       'Rice (Milled Equivalent)', 'Barley and products',\n",
       "       'Maize and products', 'Rye and products', 'Oats',\n",
       "       'Millet and products', 'Sorghum and products', 'Cereals, Other',\n",
       "       'Starchy Roots', 'Cassava and products', 'Potatoes and products',\n",
       "       'Sweet potatoes', 'Yams', 'Roots, Other', 'Sugar Crops',\n",
       "       'Sugar cane', 'Sugar beet', 'Sugar & Sweeteners',\n",
       "       'Sugar (Raw Equivalent)', 'Sweeteners, Other', 'Honey', 'Pulses',\n",
       "       'Beans', 'Peas', 'Pulses, Other and products', 'Treenuts',\n",
       "       'Nuts and products', 'Oilcrops', 'Soyabeans',\n",
       "       'Groundnuts (Shelled Eq)', 'Sunflower seed',\n",
       "       'Rape and Mustardseed', 'Cottonseed', 'Coconuts - Incl Copra',\n",
       "       'Sesame seed', 'Palm kernels', 'Olives (including preserved)',\n",
       "       'Oilcrops, Other', 'Vegetable Oils', 'Soyabean Oil',\n",
       "       'Groundnut Oil', 'Sunflowerseed Oil', 'Rape and Mustard Oil',\n",
       "       'Cottonseed Oil', 'Palmkernel Oil', 'Palm Oil', 'Coconut Oil',\n",
       "       'Sesameseed Oil', 'Olive Oil', 'Maize Germ Oil',\n",
       "       'Oilcrops Oil, Other', 'Vegetables', 'Tomatoes and products',\n",
       "       'Onions', 'Vegetables, Other', 'Fruits - Excluding Wine',\n",
       "       'Oranges, Mandarines', 'Lemons, Limes and products',\n",
       "       'Grapefruit and products', 'Citrus, Other', 'Bananas', 'Plantains',\n",
       "       'Apples and products', 'Pineapples and products', 'Dates',\n",
       "       'Grapes and products (excl wine)', 'Fruits, Other', 'Stimulants',\n",
       "       'Coffee and products', 'Cocoa Beans and products',\n",
       "       'Tea (including mate)', 'Spices', 'Pepper', 'Pimento', 'Cloves',\n",
       "       'Spices, Other', 'Alcoholic Beverages', 'Wine', 'Beer',\n",
       "       'Beverages, Fermented', 'Beverages, Alcoholic',\n",
       "       'Alcohol, Non-Food', 'Meat', 'Bovine Meat', 'Mutton & Goat Meat',\n",
       "       'Pigmeat', 'Poultry Meat', 'Meat, Other', 'Offals',\n",
       "       'Offals, Edible', 'Animal fats', 'Butter, Ghee', 'Cream',\n",
       "       'Fats, Animals, Raw', 'Fish, Body Oil', 'Fish, Liver Oil', 'Eggs',\n",
       "       'Milk - Excluding Butter', 'Fish, Seafood', 'Freshwater Fish',\n",
       "       'Demersal Fish', 'Pelagic Fish', 'Marine Fish, Other',\n",
       "       'Crustaceans', 'Cephalopods', 'Molluscs, Other',\n",
       "       'Aquatic Products, Other', 'Aquatic Animals, Others',\n",
       "       'Aquatic Plants', 'Miscellaneous', 'Infant food'], dtype=object)"
      ]
     },
     "execution_count": 54,
     "metadata": {},
     "output_type": "execute_result"
    }
   ],
   "source": [
    "food_balance_df_CH_wide.Item.unique()"
   ]
  },
  {
   "cell_type": "code",
   "execution_count": null,
   "metadata": {},
   "outputs": [],
   "source": []
  }
 ],
 "metadata": {
  "kernelspec": {
   "display_name": "Python 3",
   "language": "python",
   "name": "python3"
  },
  "language_info": {
   "codemirror_mode": {
    "name": "ipython",
    "version": 3
   },
   "file_extension": ".py",
   "mimetype": "text/x-python",
   "name": "python",
   "nbconvert_exporter": "python",
   "pygments_lexer": "ipython3",
   "version": "3.7.4"
  }
 },
 "nbformat": 4,
 "nbformat_minor": 4
}
