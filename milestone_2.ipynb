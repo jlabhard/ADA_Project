{
 "cells": [
  {
   "cell_type": "markdown",
   "metadata": {},
   "source": [
    "# Swiss food consumption and provenance (ML2)\n",
    "\n",
    "In this notebook you will find the preliminary analysis of the UN FAOSTAT dataset in which we study in depth the possibilities offered by the data. \n",
    "\n",
    "The purpose of this analysis is to provide with the needed intuition about what can be answered with the dataset and what's not. While in the same time discover the data types, units, codes, hidden content or possible missing data. This is a mandatory step that we need to do before starting digging in the problem and set the first building blocks for the data story design.\n"
   ]
  },
  {
   "cell_type": "markdown",
   "metadata": {},
   "source": [
    "## General Imports"
   ]
  },
  {
   "cell_type": "code",
   "execution_count": 1,
   "metadata": {},
   "outputs": [],
   "source": [
    "%matplotlib inline\n",
    "import pandas as pd\n",
    "import numpy as np\n",
    "import re\n",
    "from matplotlib.ticker import MaxNLocator\n",
    "import matplotlib.pyplot as plt\n",
    "from requests import get\n",
    "from bs4 import BeautifulSoup\n",
    "from scipy import stats\n",
    "import seaborn as sns\n",
    "import warnings\n",
    "warnings.filterwarnings('ignore')"
   ]
  },
  {
   "cell_type": "markdown",
   "metadata": {
    "jupyter": {
     "source_hidden": true
    }
   },
   "source": [
    "## 1. Data preparation"
   ]
  },
  {
   "cell_type": "markdown",
   "metadata": {},
   "source": [
    "<!-- toc -->\n",
    "### 1.1 Swiss production\n",
    "#### 1.1.1 Data Description\n",
    "The FAO Database offers a variety of datasets containing information about the production of every country for all years between 1961 and 2017.\n",
    "##### Crops\n",
    "<details>\n",
    "  <summary>Description</summary> \n",
    "  Crop statistics are recorded for 173 products, covering the following categories: Crops Primary, Fibre Crops Primary, Cereals, Coarse Grain, Citrus Fruit, Fruit, Jute Jute-like Fibres, Oilcakes Equivalent, Oil crops Primary, Pulses, Roots and Tubers, Treenuts and Vegetables and Melons. Data are expressed in terms of area harvested, production quantity and yield. The objective is to comprehensively cover production of all primary crops for all countries and regions in the world.\n",
    "</details>\n",
    "\n",
    "<details>\n",
    "  <summary>Path</summary>\n",
    "  \n",
    "  Data/FAOSTAT/Production_Crops_E_All_Data_(Normalized).zip\n",
    "</details>\n",
    "\n",
    "##### Crops Processed\n",
    "<details>\n",
    "  <summary>Description</summary>  \n",
    "  The dataset covers the following commodities: Beer of barley; Cotton lint; Cottonseed; Margarine, short; Molasses; Oil, coconut (copra); Oil, cottonseed; Oil, groundnut; Oil, linseed; Oil, maize; Oil, olive, virgin; Oil, palm; Oil, palm kernel; Oil, rapeseed; Oil, safflower; Oil, sesame; Oil, soybean; Oil, sunflower; Palm kernels; Sugar Raw Centrifugal; Wine.\n",
    "</details>\n",
    "\n",
    "<details>\n",
    "  <summary>Path</summary>  \n",
    "  Data/FAOSTAT/Production_CropsProcessed_E_All_Data_(Normalized).zip\n",
    "</details>\n",
    "\n",
    "##### Live Animals\n",
    "<details>\n",
    "  <summary>Description</summary>  \n",
    "  The dataset contains the following commodities and commodity aggregates thereof : Animals live n.e.s.; Asses; Beehives; Buffaloes; Camelids, other; Camels; Cattle; Chickens; Ducks; Geese and guinea fowls; Goats; Horses; Mules; Pigeons, other birds; Pigs; Rabbits and hares; Rodents, other; Sheep; Turkeys.\n",
    "</details>\n",
    "\n",
    "<details>\n",
    "  <summary>Path</summary>  \n",
    "  Data/FAOSTAT/Production_Livestock_E_All_Data_(Normalized).zip\n",
    "</details>\n",
    "\n",
    "##### Livestock Primary\n",
    "<details>\n",
    "  <summary>Description</summary>  \n",
    "  The dataset contains the following commodities and commodity aggregates thereof : Beeswax; Eggs (various types); Hair, horse; Hides buffalo, fresh; Hides, cattle, fresh; Honey, natural; Meat indigenous (ass, bird nes, buffalo, camel, cattle, chicken, duck, geese, goat, horse, mule, other camelids, pig, rabbit, rodents, sheep, turkey); Meat (ass, bird nes, buffalo, camel, cattle, chicken, duck, game, goat, goose and guinea fowl, horse, mule, Meat nes, meat other camelids, Meat other rodents, pig, rabbit, sheep, turkey); Milk (buffalo, camel, cow, goat, sheep); Offals, nes; Silk-worm cocoons, reelable; Skins, furs; Skins (goat, sheep); Snails, not sea; Wool, greasy. \n",
    "    The data presented in the table are incomplete, particularly with regard to African and Asian countries.\n",
    "    \n",
    "</details>\n",
    "\n",
    "<details>\n",
    "  <summary>Path</summary>  \n",
    "  Data/FAOSTAT/Production_LivestockPrimary_E_All_Data_(Normalized).zip\n",
    "</details>\n",
    "\n",
    "##### Livestock Processed\n",
    "<details>\n",
    "  <summary>Description</summary>  \n",
    "  The dataset covers the following commodities: Butter and ghee, sheep milk; Butter of goat milk; Butter, buffalo milk; Butter, cow milk; Cheese of goat milk; Cheese, buffalo milk; Cheese, sheep milk; Cheese, skimmed cow milk; Cheese, whole cow milk; Cream fresh; Ghee, butteroil of cow milk; Ghee, of buffalo milk; Lard; Milk, dry buttermilk; Milk, skimmed condensed; Milk, skimmed cow; Milk, skimmed dried; Milk, skimmed evaporated; Milk, whole condensed; Milk, whole dried; Milk, whole evaporated; Silk raw; Tallow; Whey, condensed; Whey, dry; Yoghurt\n",
    "</details>\n",
    "\n",
    "<details>\n",
    "  <summary>Path</summary>  \n",
    "  Data/FAOSTAT/Production_LivestockProcessed_E_All_Data_(Normalized).zip\n",
    "</details>\n",
    "\n",
    "##### Production Indices\n",
    "<details>\n",
    "  <summary>Description</summary>  \n",
    "  The dataset includes data on gross and net production indices for various food and agriculture aggregates expressed in both totals and per capita.\n",
    "    The FAO indices of agricultural production show the relative level of the aggregate volume of agricultural production for each year in comparison with the base period 2004-2006. They are based on the sum of price-weighted quantities of different agricultural commodities produced after deductions of quantities used as seed and feed weighted in a similar manner.\n",
    "</details>\n",
    "\n",
    "<details>\n",
    "  <summary>Path</summary>  \n",
    "  Data/FAOSTAT/Production_Indices_E_All_Data_(Normalized).zip\n",
    "</details>\n",
    "\n",
    "##### Value of Agricultural Production\n",
    "<details>\n",
    "  <summary>Description</summary>  \n",
    "  The data set includes data on gross and net production values, in constant international US\\$, and gross production values, in constant and current US\\$ and Local Currency Units, for various food and agriculture commodities and aggregates thereof, expressed in both total value and value per capita\n",
    "</details>\n",
    "\n",
    "<details>\n",
    "  <summary>Path</summary>  \n",
    "  Data/FAOSTAT/Value_of_Production_E_All_Data_(Normalized).zip\n",
    "</details>"
   ]
  },
  {
   "cell_type": "markdown",
   "metadata": {},
   "source": [
    "We are mainly interested in the production of all different type of food in Switzerland. For this reason we will not use \"Live Animals\", but rather combine the Crops and Livestock produced in Switzerland.\n",
    "\n",
    "We will not use \"Production Indices\" and \"Value of Agricultural Production\" for now because they only contain monetary value and do not contain all data; in particular they only take into consideration Primary Crops and Livestock. We can use them as is if we want a simpler dataset."
   ]
  },
  {
   "cell_type": "markdown",
   "metadata": {},
   "source": [
    "#### 1.1.2 Data Cleaning"
   ]
  },
  {
   "cell_type": "code",
   "execution_count": 2,
   "metadata": {},
   "outputs": [],
   "source": [
    "\"\"\"Load the Data\"\"\"\n",
    "crops_df = pd.read_csv('Data/FAOSTAT/Production_Crops_E_All_Data_(Normalized).zip', sep=',', encoding = \"ISO-8859-1\")\n",
    "crops_processed_df = pd.read_csv('Data/FAOSTAT/Production_CropsProcessed_E_All_Data_(Normalized).zip', sep=',', encoding = \"ISO-8859-1\")\n",
    "livestock_primary_df = pd.read_csv('Data/FAOSTAT/Production_LivestockPrimary_E_All_Data_(Normalized).zip', sep=',', encoding = \"ISO-8859-1\")\n",
    "livestock_processed_df = pd.read_csv('Data/FAOSTAT/Production_LivestockProcessed_E_All_Data_(Normalized).zip', sep=',', encoding = \"ISO-8859-1\")"
   ]
  },
  {
   "cell_type": "code",
   "execution_count": 3,
   "metadata": {},
   "outputs": [],
   "source": [
    "\"\"\"Extract Switzerland Production\"\"\"\n",
    "CH_code = 211 # Switzerland Area Code is 211\n",
    "crops_df_CH = crops_df[crops_df['Area Code'] == CH_code]\n",
    "crops_processed_df_CH = crops_processed_df[crops_processed_df['Area Code'] == CH_code]\n",
    "livestock_primary_df_CH = livestock_primary_df[livestock_primary_df['Area Code'] == CH_code]\n",
    "livestock_processed_df_CH = livestock_processed_df[livestock_processed_df['Area Code'] == CH_code]"
   ]
  },
  {
   "cell_type": "code",
   "execution_count": 4,
   "metadata": {},
   "outputs": [
    {
     "data": {
      "text/html": [
       "<div>\n",
       "<style scoped>\n",
       "    .dataframe tbody tr th:only-of-type {\n",
       "        vertical-align: middle;\n",
       "    }\n",
       "\n",
       "    .dataframe tbody tr th {\n",
       "        vertical-align: top;\n",
       "    }\n",
       "\n",
       "    .dataframe thead th {\n",
       "        text-align: right;\n",
       "    }\n",
       "</style>\n",
       "<table border=\"1\" class=\"dataframe\">\n",
       "  <thead>\n",
       "    <tr style=\"text-align: right;\">\n",
       "      <th></th>\n",
       "      <th>Area Code</th>\n",
       "      <th>Area</th>\n",
       "      <th>Item Code</th>\n",
       "      <th>Item</th>\n",
       "      <th>Element Code</th>\n",
       "      <th>Element</th>\n",
       "      <th>Year Code</th>\n",
       "      <th>Year</th>\n",
       "      <th>Unit</th>\n",
       "      <th>Value</th>\n",
       "      <th>Flag</th>\n",
       "    </tr>\n",
       "  </thead>\n",
       "  <tbody>\n",
       "    <tr>\n",
       "      <td>1501762</td>\n",
       "      <td>211</td>\n",
       "      <td>Switzerland</td>\n",
       "      <td>515</td>\n",
       "      <td>Apples</td>\n",
       "      <td>5312</td>\n",
       "      <td>Area harvested</td>\n",
       "      <td>1961</td>\n",
       "      <td>1961</td>\n",
       "      <td>ha</td>\n",
       "      <td>2700.0</td>\n",
       "      <td>F</td>\n",
       "    </tr>\n",
       "    <tr>\n",
       "      <td>1501763</td>\n",
       "      <td>211</td>\n",
       "      <td>Switzerland</td>\n",
       "      <td>515</td>\n",
       "      <td>Apples</td>\n",
       "      <td>5312</td>\n",
       "      <td>Area harvested</td>\n",
       "      <td>1962</td>\n",
       "      <td>1962</td>\n",
       "      <td>ha</td>\n",
       "      <td>4800.0</td>\n",
       "      <td>F</td>\n",
       "    </tr>\n",
       "    <tr>\n",
       "      <td>1501764</td>\n",
       "      <td>211</td>\n",
       "      <td>Switzerland</td>\n",
       "      <td>515</td>\n",
       "      <td>Apples</td>\n",
       "      <td>5312</td>\n",
       "      <td>Area harvested</td>\n",
       "      <td>1963</td>\n",
       "      <td>1963</td>\n",
       "      <td>ha</td>\n",
       "      <td>3600.0</td>\n",
       "      <td>F</td>\n",
       "    </tr>\n",
       "    <tr>\n",
       "      <td>1501765</td>\n",
       "      <td>211</td>\n",
       "      <td>Switzerland</td>\n",
       "      <td>515</td>\n",
       "      <td>Apples</td>\n",
       "      <td>5312</td>\n",
       "      <td>Area harvested</td>\n",
       "      <td>1964</td>\n",
       "      <td>1964</td>\n",
       "      <td>ha</td>\n",
       "      <td>4000.0</td>\n",
       "      <td>F</td>\n",
       "    </tr>\n",
       "    <tr>\n",
       "      <td>1501766</td>\n",
       "      <td>211</td>\n",
       "      <td>Switzerland</td>\n",
       "      <td>515</td>\n",
       "      <td>Apples</td>\n",
       "      <td>5312</td>\n",
       "      <td>Area harvested</td>\n",
       "      <td>1965</td>\n",
       "      <td>1965</td>\n",
       "      <td>ha</td>\n",
       "      <td>2478.0</td>\n",
       "      <td>NaN</td>\n",
       "    </tr>\n",
       "  </tbody>\n",
       "</table>\n",
       "</div>"
      ],
      "text/plain": [
       "         Area Code         Area  Item Code    Item  Element Code  \\\n",
       "1501762        211  Switzerland        515  Apples          5312   \n",
       "1501763        211  Switzerland        515  Apples          5312   \n",
       "1501764        211  Switzerland        515  Apples          5312   \n",
       "1501765        211  Switzerland        515  Apples          5312   \n",
       "1501766        211  Switzerland        515  Apples          5312   \n",
       "\n",
       "                Element  Year Code  Year Unit   Value Flag  \n",
       "1501762  Area harvested       1961  1961   ha  2700.0    F  \n",
       "1501763  Area harvested       1962  1962   ha  4800.0    F  \n",
       "1501764  Area harvested       1963  1963   ha  3600.0    F  \n",
       "1501765  Area harvested       1964  1964   ha  4000.0    F  \n",
       "1501766  Area harvested       1965  1965   ha  2478.0  NaN  "
      ]
     },
     "execution_count": 4,
     "metadata": {},
     "output_type": "execute_result"
    }
   ],
   "source": [
    "\"\"\"Combines the dataframes into one\"\"\"\n",
    "production_df_CH = pd.concat([crops_df_CH, crops_processed_df_CH, livestock_primary_df_CH, livestock_processed_df_CH])\n",
    "production_df_CH.head()"
   ]
  },
  {
   "cell_type": "markdown",
   "metadata": {},
   "source": [
    "In many cases we are only interested in the production quantity rather than the amount of resources needed for the production."
   ]
  },
  {
   "cell_type": "code",
   "execution_count": 5,
   "metadata": {},
   "outputs": [
    {
     "data": {
      "text/html": [
       "<div>\n",
       "<style scoped>\n",
       "    .dataframe tbody tr th:only-of-type {\n",
       "        vertical-align: middle;\n",
       "    }\n",
       "\n",
       "    .dataframe tbody tr th {\n",
       "        vertical-align: top;\n",
       "    }\n",
       "\n",
       "    .dataframe thead th {\n",
       "        text-align: right;\n",
       "    }\n",
       "</style>\n",
       "<table border=\"1\" class=\"dataframe\">\n",
       "  <thead>\n",
       "    <tr style=\"text-align: right;\">\n",
       "      <th></th>\n",
       "      <th>Area Code</th>\n",
       "      <th>Area</th>\n",
       "      <th>Item Code</th>\n",
       "      <th>Item</th>\n",
       "      <th>Element Code</th>\n",
       "      <th>Element</th>\n",
       "      <th>Year Code</th>\n",
       "      <th>Year</th>\n",
       "      <th>Unit</th>\n",
       "      <th>Value</th>\n",
       "      <th>Flag</th>\n",
       "    </tr>\n",
       "  </thead>\n",
       "  <tbody>\n",
       "    <tr>\n",
       "      <td>1501876</td>\n",
       "      <td>211</td>\n",
       "      <td>Switzerland</td>\n",
       "      <td>515</td>\n",
       "      <td>Apples</td>\n",
       "      <td>5510</td>\n",
       "      <td>Production</td>\n",
       "      <td>1961</td>\n",
       "      <td>1961</td>\n",
       "      <td>tonnes</td>\n",
       "      <td>269800.0</td>\n",
       "      <td>NaN</td>\n",
       "    </tr>\n",
       "    <tr>\n",
       "      <td>1501877</td>\n",
       "      <td>211</td>\n",
       "      <td>Switzerland</td>\n",
       "      <td>515</td>\n",
       "      <td>Apples</td>\n",
       "      <td>5510</td>\n",
       "      <td>Production</td>\n",
       "      <td>1962</td>\n",
       "      <td>1962</td>\n",
       "      <td>tonnes</td>\n",
       "      <td>480400.0</td>\n",
       "      <td>NaN</td>\n",
       "    </tr>\n",
       "    <tr>\n",
       "      <td>1501878</td>\n",
       "      <td>211</td>\n",
       "      <td>Switzerland</td>\n",
       "      <td>515</td>\n",
       "      <td>Apples</td>\n",
       "      <td>5510</td>\n",
       "      <td>Production</td>\n",
       "      <td>1963</td>\n",
       "      <td>1963</td>\n",
       "      <td>tonnes</td>\n",
       "      <td>359600.0</td>\n",
       "      <td>NaN</td>\n",
       "    </tr>\n",
       "    <tr>\n",
       "      <td>1501879</td>\n",
       "      <td>211</td>\n",
       "      <td>Switzerland</td>\n",
       "      <td>515</td>\n",
       "      <td>Apples</td>\n",
       "      <td>5510</td>\n",
       "      <td>Production</td>\n",
       "      <td>1964</td>\n",
       "      <td>1964</td>\n",
       "      <td>tonnes</td>\n",
       "      <td>389600.0</td>\n",
       "      <td>NaN</td>\n",
       "    </tr>\n",
       "    <tr>\n",
       "      <td>1501880</td>\n",
       "      <td>211</td>\n",
       "      <td>Switzerland</td>\n",
       "      <td>515</td>\n",
       "      <td>Apples</td>\n",
       "      <td>5510</td>\n",
       "      <td>Production</td>\n",
       "      <td>1965</td>\n",
       "      <td>1965</td>\n",
       "      <td>tonnes</td>\n",
       "      <td>255400.0</td>\n",
       "      <td>NaN</td>\n",
       "    </tr>\n",
       "  </tbody>\n",
       "</table>\n",
       "</div>"
      ],
      "text/plain": [
       "         Area Code         Area  Item Code    Item  Element Code     Element  \\\n",
       "1501876        211  Switzerland        515  Apples          5510  Production   \n",
       "1501877        211  Switzerland        515  Apples          5510  Production   \n",
       "1501878        211  Switzerland        515  Apples          5510  Production   \n",
       "1501879        211  Switzerland        515  Apples          5510  Production   \n",
       "1501880        211  Switzerland        515  Apples          5510  Production   \n",
       "\n",
       "         Year Code  Year    Unit     Value Flag  \n",
       "1501876       1961  1961  tonnes  269800.0  NaN  \n",
       "1501877       1962  1962  tonnes  480400.0  NaN  \n",
       "1501878       1963  1963  tonnes  359600.0  NaN  \n",
       "1501879       1964  1964  tonnes  389600.0  NaN  \n",
       "1501880       1965  1965  tonnes  255400.0  NaN  "
      ]
     },
     "execution_count": 5,
     "metadata": {},
     "output_type": "execute_result"
    }
   ],
   "source": [
    "\"\"\"Only keep production quantity\"\"\"\n",
    "prod_quant_df_CH = production_df_CH[production_df_CH['Element'] == 'Production']\n",
    "prod_quant_df_CH.head()"
   ]
  },
  {
   "cell_type": "code",
   "execution_count": 6,
   "metadata": {},
   "outputs": [
    {
     "data": {
      "text/plain": [
       "tonnes       7414\n",
       "Head          265\n",
       "1000 Head     212\n",
       "1000 No        57\n",
       "Name: Unit, dtype: int64"
      ]
     },
     "execution_count": 6,
     "metadata": {},
     "output_type": "execute_result"
    }
   ],
   "source": [
    "\"\"\"Check Units\"\"\"\n",
    "prod_quant_df_CH['Unit'].value_counts()"
   ]
  },
  {
   "cell_type": "markdown",
   "metadata": {},
   "source": [
    "We notice a few different units, the most frequent one being `tonnes`. We need to check what the other units correspond to to see if we should remove them."
   ]
  },
  {
   "cell_type": "code",
   "execution_count": 7,
   "metadata": {},
   "outputs": [
    {
     "data": {
      "text/plain": [
       "Meat indigenous, horse      53\n",
       "Meat indigenous, rabbit     53\n",
       "Meat indigenous, poultry    53\n",
       "Meat indigenous, sheep      53\n",
       "Meat indigenous, turkey     53\n",
       "Meat indigenous, cattle     53\n",
       "Meat indigenous, goat       53\n",
       "Meat indigenous, chicken    53\n",
       "Meat indigenous, pig        53\n",
       "Name: Item, dtype: int64"
      ]
     },
     "execution_count": 7,
     "metadata": {},
     "output_type": "execute_result"
    }
   ],
   "source": [
    "\"\"\"Items expressed in Head or 1000 Head\"\"\"\n",
    "prod_quant_df_CH[(prod_quant_df_CH['Unit'] == 'Head') | (prod_quant_df_CH['Unit'] == '1000 Head')]['Item'].value_counts()"
   ]
  },
  {
   "cell_type": "code",
   "execution_count": 8,
   "metadata": {},
   "outputs": [
    {
     "data": {
      "text/plain": [
       "Meat indigenous, horse      53\n",
       "Meat indigenous, total      53\n",
       "Meat indigenous, rabbit     53\n",
       "Meat indigenous, poultry    53\n",
       "Meat indigenous, sheep      53\n",
       "Meat indigenous, turkey     53\n",
       "Meat indigenous, cattle     53\n",
       "Meat indigenous, goat       53\n",
       "Meat indigenous, chicken    53\n",
       "Meat indigenous, pig        53\n",
       "Name: Item, dtype: int64"
      ]
     },
     "execution_count": 8,
     "metadata": {},
     "output_type": "execute_result"
    }
   ],
   "source": [
    "\"\"\"Same items expressed in tonnes\"\"\"\n",
    "prod_quant_df_CH[prod_quant_df_CH['Item'].str.contains('Meat indigenous') & (prod_quant_df_CH['Unit'] == 'tonnes')]['Item'].value_counts()"
   ]
  },
  {
   "cell_type": "code",
   "execution_count": 9,
   "metadata": {},
   "outputs": [
    {
     "data": {
      "text/plain": [
       "Eggs, hen, in shell (number)    57\n",
       "Name: Item, dtype: int64"
      ]
     },
     "execution_count": 9,
     "metadata": {},
     "output_type": "execute_result"
    }
   ],
   "source": [
    "\"\"\"Items expressed in 1000 No\"\"\"\n",
    "prod_quant_df_CH[prod_quant_df_CH['Unit'] == '1000 No']['Item'].value_counts()"
   ]
  },
  {
   "cell_type": "code",
   "execution_count": 10,
   "metadata": {},
   "outputs": [
    {
     "data": {
      "text/plain": [
       "Eggs, hen, in shell    57\n",
       "Name: Item, dtype: int64"
      ]
     },
     "execution_count": 10,
     "metadata": {},
     "output_type": "execute_result"
    }
   ],
   "source": [
    "\"\"\"Same items expressed in tonnes\"\"\"\n",
    "prod_quant_df_CH[prod_quant_df_CH['Item'].str.contains('Eggs, hen, in shell') & (prod_quant_df_CH['Unit'] == 'tonnes')]['Item'].value_counts()"
   ]
  },
  {
   "cell_type": "markdown",
   "metadata": {},
   "source": [
    "We notices that the items expressed with those other units also have a values in tonnes. Thus, we can safely remove the rows with the other units as they do not provide extra information.\n",
    "\n",
    "The following dataframe then provides the complete swiss food production in terms of tonnes from 1961 to 2017. A few items have missing data as the starting year of their report is not always similar. "
   ]
  },
  {
   "cell_type": "code",
   "execution_count": 11,
   "metadata": {},
   "outputs": [
    {
     "data": {
      "text/html": [
       "<div>\n",
       "<style scoped>\n",
       "    .dataframe tbody tr th:only-of-type {\n",
       "        vertical-align: middle;\n",
       "    }\n",
       "\n",
       "    .dataframe tbody tr th {\n",
       "        vertical-align: top;\n",
       "    }\n",
       "\n",
       "    .dataframe thead th {\n",
       "        text-align: right;\n",
       "    }\n",
       "</style>\n",
       "<table border=\"1\" class=\"dataframe\">\n",
       "  <thead>\n",
       "    <tr style=\"text-align: right;\">\n",
       "      <th></th>\n",
       "      <th>Area Code</th>\n",
       "      <th>Area</th>\n",
       "      <th>Item Code</th>\n",
       "      <th>Item</th>\n",
       "      <th>Element Code</th>\n",
       "      <th>Element</th>\n",
       "      <th>Year Code</th>\n",
       "      <th>Year</th>\n",
       "      <th>Unit</th>\n",
       "      <th>Value</th>\n",
       "      <th>Flag</th>\n",
       "    </tr>\n",
       "  </thead>\n",
       "  <tbody>\n",
       "    <tr>\n",
       "      <td>1501876</td>\n",
       "      <td>211</td>\n",
       "      <td>Switzerland</td>\n",
       "      <td>515</td>\n",
       "      <td>Apples</td>\n",
       "      <td>5510</td>\n",
       "      <td>Production</td>\n",
       "      <td>1961</td>\n",
       "      <td>1961</td>\n",
       "      <td>tonnes</td>\n",
       "      <td>269800.0</td>\n",
       "      <td>NaN</td>\n",
       "    </tr>\n",
       "    <tr>\n",
       "      <td>1501877</td>\n",
       "      <td>211</td>\n",
       "      <td>Switzerland</td>\n",
       "      <td>515</td>\n",
       "      <td>Apples</td>\n",
       "      <td>5510</td>\n",
       "      <td>Production</td>\n",
       "      <td>1962</td>\n",
       "      <td>1962</td>\n",
       "      <td>tonnes</td>\n",
       "      <td>480400.0</td>\n",
       "      <td>NaN</td>\n",
       "    </tr>\n",
       "    <tr>\n",
       "      <td>1501878</td>\n",
       "      <td>211</td>\n",
       "      <td>Switzerland</td>\n",
       "      <td>515</td>\n",
       "      <td>Apples</td>\n",
       "      <td>5510</td>\n",
       "      <td>Production</td>\n",
       "      <td>1963</td>\n",
       "      <td>1963</td>\n",
       "      <td>tonnes</td>\n",
       "      <td>359600.0</td>\n",
       "      <td>NaN</td>\n",
       "    </tr>\n",
       "    <tr>\n",
       "      <td>1501879</td>\n",
       "      <td>211</td>\n",
       "      <td>Switzerland</td>\n",
       "      <td>515</td>\n",
       "      <td>Apples</td>\n",
       "      <td>5510</td>\n",
       "      <td>Production</td>\n",
       "      <td>1964</td>\n",
       "      <td>1964</td>\n",
       "      <td>tonnes</td>\n",
       "      <td>389600.0</td>\n",
       "      <td>NaN</td>\n",
       "    </tr>\n",
       "    <tr>\n",
       "      <td>1501880</td>\n",
       "      <td>211</td>\n",
       "      <td>Switzerland</td>\n",
       "      <td>515</td>\n",
       "      <td>Apples</td>\n",
       "      <td>5510</td>\n",
       "      <td>Production</td>\n",
       "      <td>1965</td>\n",
       "      <td>1965</td>\n",
       "      <td>tonnes</td>\n",
       "      <td>255400.0</td>\n",
       "      <td>NaN</td>\n",
       "    </tr>\n",
       "  </tbody>\n",
       "</table>\n",
       "</div>"
      ],
      "text/plain": [
       "         Area Code         Area  Item Code    Item  Element Code     Element  \\\n",
       "1501876        211  Switzerland        515  Apples          5510  Production   \n",
       "1501877        211  Switzerland        515  Apples          5510  Production   \n",
       "1501878        211  Switzerland        515  Apples          5510  Production   \n",
       "1501879        211  Switzerland        515  Apples          5510  Production   \n",
       "1501880        211  Switzerland        515  Apples          5510  Production   \n",
       "\n",
       "         Year Code  Year    Unit     Value Flag  \n",
       "1501876       1961  1961  tonnes  269800.0  NaN  \n",
       "1501877       1962  1962  tonnes  480400.0  NaN  \n",
       "1501878       1963  1963  tonnes  359600.0  NaN  \n",
       "1501879       1964  1964  tonnes  389600.0  NaN  \n",
       "1501880       1965  1965  tonnes  255400.0  NaN  "
      ]
     },
     "execution_count": 11,
     "metadata": {},
     "output_type": "execute_result"
    }
   ],
   "source": [
    "\"\"\"Complete Swiss food production fataframe\"\"\"\n",
    "prod_quant_df_CH = prod_quant_df_CH[prod_quant_df_CH['Unit'] == 'tonnes']\n",
    "prod_quant_df_CH.head()"
   ]
  },
  {
   "cell_type": "markdown",
   "metadata": {},
   "source": [
    "#### 1.1.3 Pending Questions\n",
    "* Missing Data: Do we keep it as is? Set to 0?\n",
    "* Flags: Are they useful? How would we use them?\n",
    "* Items: Duplicates?"
   ]
  },
  {
   "cell_type": "markdown",
   "metadata": {},
   "source": [
    "---"
   ]
  },
  {
   "cell_type": "markdown",
   "metadata": {},
   "source": [
    "### 1.2 Swiss imports/exports\n",
    "#### 1.2.1 Data Description\n",
    "The FAO Database offers a variety of datasets containing information about the imports/exports quantities and values of every country for all years between 1961 and 2017.\n",
    "##### Crops and livestock products\n",
    "<details>\n",
    "  <summary>Description</summary> \n",
    "  The trade database includes the following variables: export quantity, export value, import quantity, and import value. The trade database includes all food and agricultural products imported/exported annually by all the countries in the world.\n",
    "</details>\n",
    "\n",
    "<details>\n",
    "  <summary>Path</summary>\n",
    "  \n",
    "  Data/FAOSTAT/Trade_Crops_Livestock_E_All_Data_(Normalized).zip\n",
    "</details>\n",
    "\n",
    "##### Live animals\n",
    "<details>\n",
    "  <summary>Description</summary> \n",
    "  The trade database includes the following variables: export quantity, export value, import quantity, and import value. The trade database includes all live animals imported/exported annually by all the countries in the world.\n",
    "</details>\n",
    "\n",
    "<details>\n",
    "  <summary>Path</summary>\n",
    "  \n",
    "  Data/FAOSTAT/Trade_LiveAnimals_E_All_Data_(Normalized).zip\n",
    "</details>\n",
    "\n",
    "##### Detailed trade matrix\n",
    "<details>\n",
    "  <summary>Description</summary> \n",
    "   The trade database includes the following variables: export quantity, export value, import quantity and import value. The trade database includes all food and agricultural products as well as live animals imported/exported annually by all the countries in the world. It also includes the provenance/destination of each import/export.\n",
    "</details>\n",
    "\n",
    "<details>\n",
    "  <summary>Path</summary>\n",
    "  \n",
    "  Data/FAOSTAT/Trade_DetailedTradeMatrix_E_All_Data_(Normalized).zip\n",
    "</details>\n",
    "\n",
    "##### Trade Indices\n",
    "<details>\n",
    "  <summary>Description</summary> \n",
    "  Import/Exports Indices for every country. This only includes the year 2017 and fits the items into two categories.\n",
    "</details>\n",
    "\n",
    "<details>\n",
    "  <summary>Path</summary>\n",
    "  \n",
    "  Data/FAOSTAT/Trade_Indices_E_All_Data_(Normalized).zip\n",
    "</details>\n",
    "\n",
    "Since we are interested in the provenance of each imports, we will mainly use the Detailed Trade Matrix. The Crops and Livestock products could be useful to us if we do not need the provenance. The Trade Indices dataset does not provide any useful information."
   ]
  },
  {
   "cell_type": "markdown",
   "metadata": {},
   "source": [
    "#### 1.2.2 Data Cleaning"
   ]
  },
  {
   "cell_type": "code",
   "execution_count": 12,
   "metadata": {},
   "outputs": [],
   "source": [
    "\"\"\"Load Data\"\"\"\n",
    "tradematrix_df = pd.read_csv('Data/FAOSTAT/Trade_DetailedTradeMatrix_E_All_Data_(Normalized).zip', sep=',', encoding = \"ISO-8859-1\")"
   ]
  },
  {
   "cell_type": "code",
   "execution_count": 13,
   "metadata": {},
   "outputs": [
    {
     "data": {
      "text/html": [
       "<div>\n",
       "<style scoped>\n",
       "    .dataframe tbody tr th:only-of-type {\n",
       "        vertical-align: middle;\n",
       "    }\n",
       "\n",
       "    .dataframe tbody tr th {\n",
       "        vertical-align: top;\n",
       "    }\n",
       "\n",
       "    .dataframe thead th {\n",
       "        text-align: right;\n",
       "    }\n",
       "</style>\n",
       "<table border=\"1\" class=\"dataframe\">\n",
       "  <thead>\n",
       "    <tr style=\"text-align: right;\">\n",
       "      <th></th>\n",
       "      <th>Reporter Country Code</th>\n",
       "      <th>Reporter Countries</th>\n",
       "      <th>Partner Country Code</th>\n",
       "      <th>Partner Countries</th>\n",
       "      <th>Item Code</th>\n",
       "      <th>Item</th>\n",
       "      <th>Element Code</th>\n",
       "      <th>Element</th>\n",
       "      <th>Year Code</th>\n",
       "      <th>Year</th>\n",
       "      <th>Unit</th>\n",
       "      <th>Value</th>\n",
       "      <th>Flag</th>\n",
       "    </tr>\n",
       "  </thead>\n",
       "  <tbody>\n",
       "    <tr>\n",
       "      <td>0</td>\n",
       "      <td>2</td>\n",
       "      <td>Afghanistan</td>\n",
       "      <td>4</td>\n",
       "      <td>Algeria</td>\n",
       "      <td>230</td>\n",
       "      <td>Cashew nuts, shelled</td>\n",
       "      <td>5910</td>\n",
       "      <td>Export Quantity</td>\n",
       "      <td>2016</td>\n",
       "      <td>2016</td>\n",
       "      <td>tonnes</td>\n",
       "      <td>3.0</td>\n",
       "      <td>*</td>\n",
       "    </tr>\n",
       "    <tr>\n",
       "      <td>1</td>\n",
       "      <td>2</td>\n",
       "      <td>Afghanistan</td>\n",
       "      <td>4</td>\n",
       "      <td>Algeria</td>\n",
       "      <td>230</td>\n",
       "      <td>Cashew nuts, shelled</td>\n",
       "      <td>5922</td>\n",
       "      <td>Export Value</td>\n",
       "      <td>2016</td>\n",
       "      <td>2016</td>\n",
       "      <td>1000 US$</td>\n",
       "      <td>23.0</td>\n",
       "      <td>*</td>\n",
       "    </tr>\n",
       "    <tr>\n",
       "      <td>2</td>\n",
       "      <td>2</td>\n",
       "      <td>Afghanistan</td>\n",
       "      <td>4</td>\n",
       "      <td>Algeria</td>\n",
       "      <td>1293</td>\n",
       "      <td>Crude materials</td>\n",
       "      <td>5922</td>\n",
       "      <td>Export Value</td>\n",
       "      <td>2015</td>\n",
       "      <td>2015</td>\n",
       "      <td>1000 US$</td>\n",
       "      <td>1.0</td>\n",
       "      <td>*</td>\n",
       "    </tr>\n",
       "    <tr>\n",
       "      <td>3</td>\n",
       "      <td>2</td>\n",
       "      <td>Afghanistan</td>\n",
       "      <td>4</td>\n",
       "      <td>Algeria</td>\n",
       "      <td>1293</td>\n",
       "      <td>Crude materials</td>\n",
       "      <td>5922</td>\n",
       "      <td>Export Value</td>\n",
       "      <td>2016</td>\n",
       "      <td>2016</td>\n",
       "      <td>1000 US$</td>\n",
       "      <td>1.0</td>\n",
       "      <td>*</td>\n",
       "    </tr>\n",
       "    <tr>\n",
       "      <td>4</td>\n",
       "      <td>2</td>\n",
       "      <td>Afghanistan</td>\n",
       "      <td>4</td>\n",
       "      <td>Algeria</td>\n",
       "      <td>1293</td>\n",
       "      <td>Crude materials</td>\n",
       "      <td>5922</td>\n",
       "      <td>Export Value</td>\n",
       "      <td>2017</td>\n",
       "      <td>2017</td>\n",
       "      <td>1000 US$</td>\n",
       "      <td>5.0</td>\n",
       "      <td>R</td>\n",
       "    </tr>\n",
       "  </tbody>\n",
       "</table>\n",
       "</div>"
      ],
      "text/plain": [
       "   Reporter Country Code Reporter Countries  Partner Country Code  \\\n",
       "0                      2        Afghanistan                     4   \n",
       "1                      2        Afghanistan                     4   \n",
       "2                      2        Afghanistan                     4   \n",
       "3                      2        Afghanistan                     4   \n",
       "4                      2        Afghanistan                     4   \n",
       "\n",
       "  Partner Countries  Item Code                  Item  Element Code  \\\n",
       "0           Algeria        230  Cashew nuts, shelled          5910   \n",
       "1           Algeria        230  Cashew nuts, shelled          5922   \n",
       "2           Algeria       1293       Crude materials          5922   \n",
       "3           Algeria       1293       Crude materials          5922   \n",
       "4           Algeria       1293       Crude materials          5922   \n",
       "\n",
       "           Element  Year Code  Year      Unit  Value Flag  \n",
       "0  Export Quantity       2016  2016    tonnes    3.0    *  \n",
       "1     Export Value       2016  2016  1000 US$   23.0    *  \n",
       "2     Export Value       2015  2015  1000 US$    1.0    *  \n",
       "3     Export Value       2016  2016  1000 US$    1.0    *  \n",
       "4     Export Value       2017  2017  1000 US$    5.0    R  "
      ]
     },
     "execution_count": 13,
     "metadata": {},
     "output_type": "execute_result"
    }
   ],
   "source": [
    "tradematrix_df.head()"
   ]
  },
  {
   "cell_type": "code",
   "execution_count": 14,
   "metadata": {},
   "outputs": [],
   "source": [
    "\"\"\"Extract Switzerland Trades\"\"\"\n",
    "CH_code = 211 # Switzerland Area Code is 211\n",
    "tradematrix_df_CH = tradematrix_df[tradematrix_df['Reporter Country Code'] == CH_code]"
   ]
  },
  {
   "cell_type": "code",
   "execution_count": 15,
   "metadata": {},
   "outputs": [
    {
     "data": {
      "text/plain": [
       "1000 US$     297067\n",
       "tonnes       291194\n",
       "Head           3106\n",
       "1000 Head       366\n",
       "No               13\n",
       "Name: Unit, dtype: int64"
      ]
     },
     "execution_count": 15,
     "metadata": {},
     "output_type": "execute_result"
    }
   ],
   "source": [
    "\"\"\"Check Units\"\"\"\n",
    "tradematrix_df_CH['Unit'].value_counts()"
   ]
  },
  {
   "cell_type": "markdown",
   "metadata": {},
   "source": [
    "Again, we notice a few different units, the most frequent one being `tonnes` for quantity and `1000 US$` for value. We need to check what the other units correspond to to see if we should remove them."
   ]
  },
  {
   "cell_type": "code",
   "execution_count": 16,
   "metadata": {},
   "outputs": [
    {
     "data": {
      "text/plain": [
       "Horses               1586\n",
       "Cattle                474\n",
       "Chickens              271\n",
       "Sheep                 239\n",
       "Goats                 203\n",
       "Asses                 188\n",
       "Pigs                  184\n",
       "Animals live nes      139\n",
       "Camelids, other        45\n",
       "Ducks                  36\n",
       "Mules                  33\n",
       "Rabbits and hares      31\n",
       "Turkeys                28\n",
       "Buffaloes              15\n",
       "Beehives               13\n",
       "Name: Item, dtype: int64"
      ]
     },
     "execution_count": 16,
     "metadata": {},
     "output_type": "execute_result"
    }
   ],
   "source": [
    "\"\"\"Items expressed in Head, 1000 Head or No\"\"\"\n",
    "tradematrix_df_CH[(tradematrix_df_CH['Unit'] == 'Head') | (tradematrix_df_CH['Unit'] == '1000 Head') | (tradematrix_df_CH['Unit'] == 'No')]['Item'].value_counts()"
   ]
  },
  {
   "cell_type": "markdown",
   "metadata": {},
   "source": [
    "We see these units correspond to all live animals. As mentioned before, since we are interested in consumable food we do not need these items and thus can remove them. However, if we remove them if must make sure to remove also the live animals expressed in 1000 US$."
   ]
  },
  {
   "cell_type": "code",
   "execution_count": 17,
   "metadata": {},
   "outputs": [],
   "source": [
    "\"\"\"Create list of item codes corresponding to live animals\"\"\"\n",
    "liveanimals_codes = tradematrix_df_CH[(tradematrix_df_CH['Unit'] == 'Head') | (tradematrix_df_CH['Unit'] == '1000 Head') | (tradematrix_df_CH['Unit'] == 'No')]['Item Code'].unique()\n",
    "\n",
    "\"\"\"Remove rows with those items\"\"\"\n",
    "tradematrix_df_CH = tradematrix_df_CH[tradematrix_df_CH['Item Code'].apply(lambda code: code in liveanimals_codes) == False]"
   ]
  },
  {
   "cell_type": "code",
   "execution_count": 18,
   "metadata": {},
   "outputs": [
    {
     "data": {
      "text/plain": [
       "1000 US$    293575\n",
       "tonnes      290668\n",
       "Name: Unit, dtype: int64"
      ]
     },
     "execution_count": 18,
     "metadata": {},
     "output_type": "execute_result"
    }
   ],
   "source": [
    "\"\"\"Check units again\"\"\"\n",
    "tradematrix_df_CH['Unit'].value_counts()"
   ]
  },
  {
   "cell_type": "markdown",
   "metadata": {},
   "source": [
    "Now that we have a more homogeneous dataset, we want to separate the four different elements i.e. Export/Import in terms of Quantity/Value."
   ]
  },
  {
   "cell_type": "code",
   "execution_count": 19,
   "metadata": {},
   "outputs": [
    {
     "data": {
      "text/plain": [
       "Import Value       177026\n",
       "Import Quantity    175231\n",
       "Export Value       116549\n",
       "Export Quantity    115437\n",
       "Name: Element, dtype: int64"
      ]
     },
     "execution_count": 19,
     "metadata": {},
     "output_type": "execute_result"
    }
   ],
   "source": [
    "\"\"\"Check different elements\"\"\"\n",
    "tradematrix_df_CH['Element'].value_counts()"
   ]
  },
  {
   "cell_type": "code",
   "execution_count": 20,
   "metadata": {},
   "outputs": [],
   "source": [
    "\"\"\"Separate in four dataframes\"\"\"\n",
    "imports_quant_df_CH = tradematrix_df_CH[tradematrix_df_CH['Element'] == 'Import Quantity']\n",
    "imports_val_df_CH = tradematrix_df_CH[tradematrix_df_CH['Element'] == 'Import Value']\n",
    "exports_quant_df_CH = tradematrix_df_CH[tradematrix_df_CH['Element'] == 'Export Quantity']\n",
    "exports_val_df_CH = tradematrix_df_CH[tradematrix_df_CH['Element'] == 'Export Value']"
   ]
  },
  {
   "cell_type": "markdown",
   "metadata": {},
   "source": [
    "Those four dataframes provide the swiss import/exports in terms of quantity and value from 1961 to 2017. It has no NaN values, only a lot of 0 values. "
   ]
  },
  {
   "cell_type": "markdown",
   "metadata": {},
   "source": [
    "#### 1.2.3 Pending Questions\n",
    "* Flags: Are they useful? How would we use them?\n",
    "* Items: Duplicates?\n",
    "* Join the four dataframes to have the four values in each row? Then ignore flags?"
   ]
  },
  {
   "cell_type": "markdown",
   "metadata": {},
   "source": [
    "---"
   ]
  },
  {
   "cell_type": "markdown",
   "metadata": {},
   "source": [
    "### 1.3 Item Classification"
   ]
  },
  {
   "cell_type": "markdown",
   "metadata": {},
   "source": [
    "#### 1.3.1 Data Description\n",
    "The FAO database use different items forms for different datasets. To be able to make the connection between the datasets we must create a link between the different items forms.\n",
    "By analyzing the different datasets we observed that each item is classified with the following hierarchy.\n",
    "##### Classification Hierarchy\n",
    "<details>\n",
    "  <summary>Type</summary> \n",
    "  Vegetal or Animal\n",
    "</details>\n",
    "\n",
    "<details>\n",
    "  <summary>Group</summary> \n",
    "  One of the following:\n",
    "    \n",
    "    'Treenuts', 'Spices', 'Fruits - Excluding Wine', 'Vegetables',\n",
    "       'Meat', 'Pulses', 'Cereals - Excluding Beer',\n",
    "       'Alcoholic Beverages', 'Sugar & Sweeteners', 'Vegetable Oils',\n",
    "       'Animal fats', 'Starchy Roots', 'Stimulants', 'Oilcrops',\n",
    "       'Miscellaneous', 'Offals', 'Sugar Crops'\n",
    "</details>\n",
    "\n",
    "<details>\n",
    "  <summary>Subgroup</summary> \n",
    "  One of the following:\n",
    "    \n",
    "    'Nuts and products', 'Spices, Other', 'Apples and products',\n",
    "       'Fruits, Other', 'Vegetables, Other', 'Pigmeat',\n",
    "       'Pulses, Other and products', 'Bananas', 'Barley and products',\n",
    "       'Beans', 'Beer', 'Beverages, Fermented', 'Beverages, Alcoholic',\n",
    "       'Sweeteners, Other', 'Cereals, Other', 'Maize and products',\n",
    "       'Millet and products', 'Sorghum and products',\n",
    "       'Wheat and products', 'Oilcrops Oil, Other', 'Butter, Ghee',\n",
    "       'Cassava and products', 'Pimento', 'Cocoa Beans and products',\n",
    "       'Cloves', 'Coconuts - Incl Copra', 'Coffee and products',\n",
    "       'Cottonseed', 'Cream', 'Dates', 'Fats, Animals, Raw',\n",
    "       'Poultry Meat', 'Palm Oil', 'Rape and Mustardseed',\n",
    "       'Potatoes and products', 'Rice (Milled Equivalent)',\n",
    "       'Roots, Other', 'Grapefruit and products',\n",
    "       'Grapes and products (excl wine)', 'Groundnuts (Shelled Eq)',\n",
    "       'Honey', 'Infant food', 'Citrus, Other',\n",
    "       'Lemons, Limes and products', 'Oranges, Mandarines',\n",
    "       'Pineapples and products', 'Tomatoes and products',\n",
    "       'Oilcrops, Other', 'Tea (including mate)', 'Meat, Other',\n",
    "       'Bovine Meat', 'Mutton & Goat Meat', 'Oats', 'Offals, Edible',\n",
    "       'Coconut Oil', 'Cottonseed Oil', 'Groundnut Oil', 'Maize Germ Oil',\n",
    "       'Olive Oil', 'Palmkernel Oil', 'Rape and Mustard Oil',\n",
    "       'Ricebran Oil', 'Sesameseed Oil', 'Soyabean Oil',\n",
    "       'Sunflowerseed Oil', 'Olives (including preserved)', 'Onions',\n",
    "       'Peas', 'Pepper', 'Plantains', 'Rye and products', 'Sesame seed',\n",
    "       'Soyabeans', 'Sugar beet', 'Sugar (Raw Equivalent)',\n",
    "       'Sugar non-centrifugal', 'Sunflower seed', 'Sweet potatoes',\n",
    "       'Wine'\n",
    "</details>"
   ]
  },
  {
   "cell_type": "markdown",
   "metadata": {},
   "source": [
    "\n",
    "Unfortunately, the FAO database does not provide an immediate dataset corresponding to this hierarchy. However it does provide some files allowing us the make the connection between each hierarchy levels.\n",
    "\n",
    "##### Items Codes\n",
    "<details>\n",
    "  <summary>Description</summary> \n",
    "  This dataset contains every product names as well as their FAO code.\n",
    "</details>\n",
    "\n",
    "<details>\n",
    "  <summary>Path</summary> \n",
    "  Data/items_codes.csv\n",
    "</details>\n",
    "\n",
    "##### Items Subgroups\n",
    "<details>\n",
    "  <summary>Description</summary> \n",
    "  This dataset contains every groups and subgroups names as well as their FAO code. The description of each subgroups includes all the items contained in the subgroup\n",
    "</details>\n",
    "\n",
    "<details>\n",
    "  <summary>Path</summary> \n",
    "  Data/items_subgroups.csv\n",
    "</details>\n",
    "\n",
    "##### Items Groups\n",
    "<details>\n",
    "  <summary>Description</summary> \n",
    "  This dataset contains every group and subgroups as well as their FAO code. It has the relation between groups and subgroups\n",
    "</details>\n",
    "\n",
    "<details>\n",
    "  <summary>Path</summary> \n",
    "  Data/items_groups.csv\n",
    "</details>\n"
   ]
  },
  {
   "cell_type": "markdown",
   "metadata": {},
   "source": [
    "To obtain the hierarchy in one dataset we need to clean up and combine those three datasets.\n",
    "#### 1.3.2 Data Cleaning"
   ]
  },
  {
   "cell_type": "code",
   "execution_count": 125,
   "metadata": {},
   "outputs": [],
   "source": [
    "\"\"\"Load Data\"\"\"\n",
    "items_codes =pd.read_csv('Data/items_codes.csv', sep=',', encoding = \"ISO-8859-1\")\n",
    "items_subgroups =pd.read_csv('Data/items_subgroups.csv', sep=',', encoding = \"ISO-8859-1\")\n",
    "items_groups =pd.read_csv('Data/items_groups.csv', sep=',', encoding = \"ISO-8859-1\")"
   ]
  },
  {
   "cell_type": "code",
   "execution_count": 126,
   "metadata": {},
   "outputs": [],
   "source": [
    "\"\"\"Filter and rename columns to obtain only what we need for classification\"\"\"\n",
    "items_codes = items_codes[['Item Code', 'Item', 'Description']]\n",
    "\n",
    "items_subgroups = items_subgroups[['Item Code', 'Item', 'Description']]\n",
    "items_subgroups = items_subgroups.rename(columns={'Item Code': 'Item Subgroup Code', 'Item': 'Item Subgroup', 'Description': 'Item Code'})\n",
    "\n",
    "items_groups = items_groups[['Item Group Code', 'Item Group', 'Item Code']]\n",
    "items_groups = items_groups.rename(columns={'Item Code': 'Item Subgroup Code'})"
   ]
  },
  {
   "cell_type": "code",
   "execution_count": 127,
   "metadata": {},
   "outputs": [
    {
     "data": {
      "text/html": [
       "<div>\n",
       "<style scoped>\n",
       "    .dataframe tbody tr th:only-of-type {\n",
       "        vertical-align: middle;\n",
       "    }\n",
       "\n",
       "    .dataframe tbody tr th {\n",
       "        vertical-align: top;\n",
       "    }\n",
       "\n",
       "    .dataframe thead th {\n",
       "        text-align: right;\n",
       "    }\n",
       "</style>\n",
       "<table border=\"1\" class=\"dataframe\">\n",
       "  <thead>\n",
       "    <tr style=\"text-align: right;\">\n",
       "      <th></th>\n",
       "      <th>Item Subgroup Code</th>\n",
       "      <th>Item Subgroup</th>\n",
       "      <th>Item Code</th>\n",
       "    </tr>\n",
       "  </thead>\n",
       "  <tbody>\n",
       "    <tr>\n",
       "      <td>0</td>\n",
       "      <td>2659</td>\n",
       "      <td>Alcohol, Non-Food</td>\n",
       "      <td>Default composition: 632 Alcohol non food</td>\n",
       "    </tr>\n",
       "    <tr>\n",
       "      <td>1</td>\n",
       "      <td>2924</td>\n",
       "      <td>Alcoholic Beverages</td>\n",
       "      <td>NaN</td>\n",
       "    </tr>\n",
       "    <tr>\n",
       "      <td>2</td>\n",
       "      <td>2946</td>\n",
       "      <td>Animal fats</td>\n",
       "      <td>NaN</td>\n",
       "    </tr>\n",
       "    <tr>\n",
       "      <td>3</td>\n",
       "      <td>2941</td>\n",
       "      <td>Animal Products</td>\n",
       "      <td>NaN</td>\n",
       "    </tr>\n",
       "    <tr>\n",
       "      <td>4</td>\n",
       "      <td>2617</td>\n",
       "      <td>Apples and products</td>\n",
       "      <td>Default composition: 515 Apples, 518 Juice, ap...</td>\n",
       "    </tr>\n",
       "  </tbody>\n",
       "</table>\n",
       "</div>"
      ],
      "text/plain": [
       "   Item Subgroup Code        Item Subgroup  \\\n",
       "0                2659    Alcohol, Non-Food   \n",
       "1                2924  Alcoholic Beverages   \n",
       "2                2946          Animal fats   \n",
       "3                2941      Animal Products   \n",
       "4                2617  Apples and products   \n",
       "\n",
       "                                           Item Code  \n",
       "0          Default composition: 632 Alcohol non food  \n",
       "1                                                NaN  \n",
       "2                                                NaN  \n",
       "3                                                NaN  \n",
       "4  Default composition: 515 Apples, 518 Juice, ap...  "
      ]
     },
     "execution_count": 127,
     "metadata": {},
     "output_type": "execute_result"
    }
   ],
   "source": [
    "items_subgroups.head()"
   ]
  },
  {
   "cell_type": "markdown",
   "metadata": {},
   "source": [
    "In `items_subgroups` we notice that the item codes are contained in the description. We need to use a regular expression to extract the codes from the textual descriptions."
   ]
  },
  {
   "cell_type": "code",
   "execution_count": 128,
   "metadata": {},
   "outputs": [],
   "source": [
    "\"\"\"Obtain item codes for each subgroup\"\"\"\n",
    "items_subgroups['Item Code'] = items_subgroups['Item Code'].apply(lambda desc : re.findall(r\"\\d+\", str(desc)))"
   ]
  },
  {
   "cell_type": "markdown",
   "metadata": {},
   "source": [
    "We also see that some subgroups do not seem to have a description. However, a quick observation shows that these are actually groups and not subgroups. We choose to delete them to focus on subgroups for this dataset."
   ]
  },
  {
   "cell_type": "code",
   "execution_count": 129,
   "metadata": {},
   "outputs": [
    {
     "data": {
      "text/html": [
       "<div>\n",
       "<style scoped>\n",
       "    .dataframe tbody tr th:only-of-type {\n",
       "        vertical-align: middle;\n",
       "    }\n",
       "\n",
       "    .dataframe tbody tr th {\n",
       "        vertical-align: top;\n",
       "    }\n",
       "\n",
       "    .dataframe thead th {\n",
       "        text-align: right;\n",
       "    }\n",
       "</style>\n",
       "<table border=\"1\" class=\"dataframe\">\n",
       "  <thead>\n",
       "    <tr style=\"text-align: right;\">\n",
       "      <th></th>\n",
       "      <th>Item Subgroup Code</th>\n",
       "      <th>Item Subgroup</th>\n",
       "      <th>Item Code</th>\n",
       "    </tr>\n",
       "  </thead>\n",
       "  <tbody>\n",
       "    <tr>\n",
       "      <td>1</td>\n",
       "      <td>2924</td>\n",
       "      <td>Alcoholic Beverages</td>\n",
       "      <td>[]</td>\n",
       "    </tr>\n",
       "    <tr>\n",
       "      <td>2</td>\n",
       "      <td>2946</td>\n",
       "      <td>Animal fats</td>\n",
       "      <td>[]</td>\n",
       "    </tr>\n",
       "    <tr>\n",
       "      <td>3</td>\n",
       "      <td>2941</td>\n",
       "      <td>Animal Products</td>\n",
       "      <td>[]</td>\n",
       "    </tr>\n",
       "    <tr>\n",
       "      <td>7</td>\n",
       "      <td>2961</td>\n",
       "      <td>Aquatic Products, Other</td>\n",
       "      <td>[]</td>\n",
       "    </tr>\n",
       "    <tr>\n",
       "      <td>18</td>\n",
       "      <td>2905</td>\n",
       "      <td>Cereals - Excluding Beer</td>\n",
       "      <td>[]</td>\n",
       "    </tr>\n",
       "    <tr>\n",
       "      <td>33</td>\n",
       "      <td>2949</td>\n",
       "      <td>Eggs</td>\n",
       "      <td>[]</td>\n",
       "    </tr>\n",
       "    <tr>\n",
       "      <td>37</td>\n",
       "      <td>2960</td>\n",
       "      <td>Fish, Seafood</td>\n",
       "      <td>[]</td>\n",
       "    </tr>\n",
       "    <tr>\n",
       "      <td>39</td>\n",
       "      <td>2919</td>\n",
       "      <td>Fruits - Excluding Wine</td>\n",
       "      <td>[]</td>\n",
       "    </tr>\n",
       "    <tr>\n",
       "      <td>41</td>\n",
       "      <td>2901</td>\n",
       "      <td>Grand Total</td>\n",
       "      <td>[]</td>\n",
       "    </tr>\n",
       "    <tr>\n",
       "      <td>52</td>\n",
       "      <td>2943</td>\n",
       "      <td>Meat</td>\n",
       "      <td>[]</td>\n",
       "    </tr>\n",
       "    <tr>\n",
       "      <td>56</td>\n",
       "      <td>2948</td>\n",
       "      <td>Milk - Excluding Butter</td>\n",
       "      <td>[]</td>\n",
       "    </tr>\n",
       "    <tr>\n",
       "      <td>58</td>\n",
       "      <td>2928</td>\n",
       "      <td>Miscellaneous</td>\n",
       "      <td>[]</td>\n",
       "    </tr>\n",
       "    <tr>\n",
       "      <td>59</td>\n",
       "      <td>2899</td>\n",
       "      <td>Miscellaneous</td>\n",
       "      <td>[]</td>\n",
       "    </tr>\n",
       "    <tr>\n",
       "      <td>64</td>\n",
       "      <td>2945</td>\n",
       "      <td>Offals</td>\n",
       "      <td>[]</td>\n",
       "    </tr>\n",
       "    <tr>\n",
       "      <td>66</td>\n",
       "      <td>2913</td>\n",
       "      <td>Oilcrops</td>\n",
       "      <td>[]</td>\n",
       "    </tr>\n",
       "    <tr>\n",
       "      <td>83</td>\n",
       "      <td>2501</td>\n",
       "      <td>Population</td>\n",
       "      <td>[]</td>\n",
       "    </tr>\n",
       "    <tr>\n",
       "      <td>86</td>\n",
       "      <td>2911</td>\n",
       "      <td>Pulses</td>\n",
       "      <td>[]</td>\n",
       "    </tr>\n",
       "    <tr>\n",
       "      <td>99</td>\n",
       "      <td>2923</td>\n",
       "      <td>Spices</td>\n",
       "      <td>[]</td>\n",
       "    </tr>\n",
       "    <tr>\n",
       "      <td>101</td>\n",
       "      <td>2907</td>\n",
       "      <td>Starchy Roots</td>\n",
       "      <td>[]</td>\n",
       "    </tr>\n",
       "    <tr>\n",
       "      <td>102</td>\n",
       "      <td>2922</td>\n",
       "      <td>Stimulants</td>\n",
       "      <td>[]</td>\n",
       "    </tr>\n",
       "    <tr>\n",
       "      <td>103</td>\n",
       "      <td>2909</td>\n",
       "      <td>Sugar &amp; Sweeteners</td>\n",
       "      <td>[]</td>\n",
       "    </tr>\n",
       "    <tr>\n",
       "      <td>107</td>\n",
       "      <td>2908</td>\n",
       "      <td>Sugar Crops</td>\n",
       "      <td>[]</td>\n",
       "    </tr>\n",
       "    <tr>\n",
       "      <td>115</td>\n",
       "      <td>2912</td>\n",
       "      <td>Treenuts</td>\n",
       "      <td>[]</td>\n",
       "    </tr>\n",
       "    <tr>\n",
       "      <td>116</td>\n",
       "      <td>2914</td>\n",
       "      <td>Vegetable Oils</td>\n",
       "      <td>[]</td>\n",
       "    </tr>\n",
       "    <tr>\n",
       "      <td>117</td>\n",
       "      <td>2918</td>\n",
       "      <td>Vegetables</td>\n",
       "      <td>[]</td>\n",
       "    </tr>\n",
       "    <tr>\n",
       "      <td>119</td>\n",
       "      <td>2903</td>\n",
       "      <td>Vegetal Products</td>\n",
       "      <td>[]</td>\n",
       "    </tr>\n",
       "  </tbody>\n",
       "</table>\n",
       "</div>"
      ],
      "text/plain": [
       "     Item Subgroup Code             Item Subgroup Item Code\n",
       "1                  2924       Alcoholic Beverages        []\n",
       "2                  2946               Animal fats        []\n",
       "3                  2941           Animal Products        []\n",
       "7                  2961   Aquatic Products, Other        []\n",
       "18                 2905  Cereals - Excluding Beer        []\n",
       "33                 2949                      Eggs        []\n",
       "37                 2960             Fish, Seafood        []\n",
       "39                 2919   Fruits - Excluding Wine        []\n",
       "41                 2901               Grand Total        []\n",
       "52                 2943                      Meat        []\n",
       "56                 2948   Milk - Excluding Butter        []\n",
       "58                 2928             Miscellaneous        []\n",
       "59                 2899             Miscellaneous        []\n",
       "64                 2945                    Offals        []\n",
       "66                 2913                  Oilcrops        []\n",
       "83                 2501                Population        []\n",
       "86                 2911                    Pulses        []\n",
       "99                 2923                    Spices        []\n",
       "101                2907             Starchy Roots        []\n",
       "102                2922                Stimulants        []\n",
       "103                2909        Sugar & Sweeteners        []\n",
       "107                2908               Sugar Crops        []\n",
       "115                2912                  Treenuts        []\n",
       "116                2914            Vegetable Oils        []\n",
       "117                2918                Vegetables        []\n",
       "119                2903          Vegetal Products        []"
      ]
     },
     "execution_count": 129,
     "metadata": {},
     "output_type": "execute_result"
    }
   ],
   "source": [
    "\"\"\"Check subgroups with no items\"\"\"\n",
    "items_subgroups[items_subgroups['Item Code'].apply(lambda codes: len(codes) == 0)]"
   ]
  },
  {
   "cell_type": "markdown",
   "metadata": {},
   "source": [
    "We can see that removing the groups left us with only one element with no items. This element is the population and does not correspond to either a group or a subgroup so we can remove it."
   ]
  },
  {
   "cell_type": "code",
   "execution_count": 130,
   "metadata": {},
   "outputs": [],
   "source": [
    "\"\"\"Remove items with no category\"\"\"\n",
    "items_subgroups = items_subgroups[items_subgroups['Item Code'].apply(lambda codes: len(codes) > 0)]"
   ]
  },
  {
   "cell_type": "code",
   "execution_count": 131,
   "metadata": {},
   "outputs": [],
   "source": [
    "\"\"\"Explode item codes into separate rows\"\"\"\n",
    "items_subgroups = items_subgroups.explode('Item Code')\n",
    "items_subgroups['Item Code'] = items_subgroups['Item Code'].apply(lambda code: int(code))"
   ]
  },
  {
   "cell_type": "markdown",
   "metadata": {},
   "source": [
    "We can now form the complete classification dataframe by joining our three dataframes."
   ]
  },
  {
   "cell_type": "code",
   "execution_count": 132,
   "metadata": {},
   "outputs": [],
   "source": [
    "\"\"\"Join the obtained dataframe to get full classification\"\"\"\n",
    "items = items_codes.merge(items_subgroups, on='Item Code', how='inner')\n",
    "items = items.merge(items_groups, on='Item Subgroup Code', how='inner')"
   ]
  },
  {
   "cell_type": "code",
   "execution_count": 133,
   "metadata": {},
   "outputs": [
    {
     "data": {
      "text/plain": [
       "Grand Total                 329\n",
       "Vegetal Products            265\n",
       "Animal Products              64\n",
       "Fruits - Excluding Wine      57\n",
       "Cereals - Excluding Beer     43\n",
       "Vegetables                   39\n",
       "Vegetable Oils               27\n",
       "Oilcrops                     24\n",
       "Meat                         23\n",
       "Milk - Excluding Butter      18\n",
       "Treenuts                     15\n",
       "Sugar & Sweeteners           14\n",
       "Animal fats                  11\n",
       "Starchy Roots                10\n",
       "Stimulants                   10\n",
       "Spices                        9\n",
       "Pulses                        8\n",
       "Offals                        8\n",
       "Alcoholic Beverages           7\n",
       "Eggs                          4\n",
       "Sugar Crops                   1\n",
       "Miscellaneous                 1\n",
       "Name: Item Group, dtype: int64"
      ]
     },
     "execution_count": 133,
     "metadata": {},
     "output_type": "execute_result"
    }
   ],
   "source": [
    "\"\"\"Check values of groups\"\"\"\n",
    "items['Item Group'].value_counts()"
   ]
  },
  {
   "cell_type": "markdown",
   "metadata": {},
   "source": [
    "We observe that some groups are not of the same hierarchy. In particular, `Grand Total` contains every item, `Vegetal Products` contain all vegetal products and `Animal Products` contain all animal products. We need to separate them from the other groups as they are a level higher in the hierarchy."
   ]
  },
  {
   "cell_type": "code",
   "execution_count": 134,
   "metadata": {},
   "outputs": [],
   "source": [
    "\"\"\"Remove Grand Total Category\"\"\"\n",
    "items_no_total = items[items['Item Group'] != 'Grand Total']\n",
    "\n",
    "\"\"\"Get index of animal and vegetal products\"\"\"\n",
    "animal_vegetal_products = items[(items['Item Group'] == 'Animal Products') | (items['Item Group'] == 'Vegetal Products')]\n",
    "\"\"\"Remove vegetal and animal products category to transform them into columns\"\"\"\n",
    "items_only = items_no_total[(items_no_total['Item Group'] != 'Vegetal Products') & (items_no_total['Item Group'] != 'Animal Products')]\n",
    "\n",
    "\"\"\"Add column 'Type' to determine if a product is vegetal or animal\"\"\"\n",
    "items_only['Type'] = 'Vegetal'\n",
    "items_only['Type'][np.array(animal_vegetal_products['Item Group'] == 'Animal Products')] = 'Animal'"
   ]
  },
  {
   "cell_type": "markdown",
   "metadata": {},
   "source": [
    "We finally obtain the full classification dataframe."
   ]
  },
  {
   "cell_type": "code",
   "execution_count": 135,
   "metadata": {
    "scrolled": false
   },
   "outputs": [
    {
     "data": {
      "text/html": [
       "<div>\n",
       "<style scoped>\n",
       "    .dataframe tbody tr th:only-of-type {\n",
       "        vertical-align: middle;\n",
       "    }\n",
       "\n",
       "    .dataframe tbody tr th {\n",
       "        vertical-align: top;\n",
       "    }\n",
       "\n",
       "    .dataframe thead th {\n",
       "        text-align: right;\n",
       "    }\n",
       "</style>\n",
       "<table border=\"1\" class=\"dataframe\">\n",
       "  <thead>\n",
       "    <tr style=\"text-align: right;\">\n",
       "      <th></th>\n",
       "      <th>Item Code</th>\n",
       "      <th>Item</th>\n",
       "      <th>Description</th>\n",
       "      <th>Item Subgroup Code</th>\n",
       "      <th>Item Subgroup</th>\n",
       "      <th>Item Group Code</th>\n",
       "      <th>Item Group</th>\n",
       "    </tr>\n",
       "  </thead>\n",
       "  <tbody>\n",
       "    <tr>\n",
       "      <td>0</td>\n",
       "      <td>231</td>\n",
       "      <td>Almonds shelled</td>\n",
       "      <td>Around 55% of the weight in shell.</td>\n",
       "      <td>2551</td>\n",
       "      <td>Nuts and products</td>\n",
       "      <td>2901</td>\n",
       "      <td>Grand Total</td>\n",
       "    </tr>\n",
       "    <tr>\n",
       "      <td>1</td>\n",
       "      <td>231</td>\n",
       "      <td>Almonds shelled</td>\n",
       "      <td>Around 55% of the weight in shell.</td>\n",
       "      <td>2551</td>\n",
       "      <td>Nuts and products</td>\n",
       "      <td>2912</td>\n",
       "      <td>Treenuts</td>\n",
       "    </tr>\n",
       "    <tr>\n",
       "      <td>2</td>\n",
       "      <td>231</td>\n",
       "      <td>Almonds shelled</td>\n",
       "      <td>Around 55% of the weight in shell.</td>\n",
       "      <td>2551</td>\n",
       "      <td>Nuts and products</td>\n",
       "      <td>2903</td>\n",
       "      <td>Vegetal Products</td>\n",
       "    </tr>\n",
       "    <tr>\n",
       "      <td>3</td>\n",
       "      <td>221</td>\n",
       "      <td>Almonds, with shell</td>\n",
       "      <td>Prunus amygdalus; P. communis; Amygdalus commu...</td>\n",
       "      <td>2551</td>\n",
       "      <td>Nuts and products</td>\n",
       "      <td>2901</td>\n",
       "      <td>Grand Total</td>\n",
       "    </tr>\n",
       "    <tr>\n",
       "      <td>4</td>\n",
       "      <td>221</td>\n",
       "      <td>Almonds, with shell</td>\n",
       "      <td>Prunus amygdalus; P. communis; Amygdalus commu...</td>\n",
       "      <td>2551</td>\n",
       "      <td>Nuts and products</td>\n",
       "      <td>2912</td>\n",
       "      <td>Treenuts</td>\n",
       "    </tr>\n",
       "  </tbody>\n",
       "</table>\n",
       "</div>"
      ],
      "text/plain": [
       "   Item Code                 Item  \\\n",
       "0        231      Almonds shelled   \n",
       "1        231      Almonds shelled   \n",
       "2        231      Almonds shelled   \n",
       "3        221  Almonds, with shell   \n",
       "4        221  Almonds, with shell   \n",
       "\n",
       "                                         Description  Item Subgroup Code  \\\n",
       "0                 Around 55% of the weight in shell.                2551   \n",
       "1                 Around 55% of the weight in shell.                2551   \n",
       "2                 Around 55% of the weight in shell.                2551   \n",
       "3  Prunus amygdalus; P. communis; Amygdalus commu...                2551   \n",
       "4  Prunus amygdalus; P. communis; Amygdalus commu...                2551   \n",
       "\n",
       "       Item Subgroup  Item Group Code        Item Group  \n",
       "0  Nuts and products             2901       Grand Total  \n",
       "1  Nuts and products             2912          Treenuts  \n",
       "2  Nuts and products             2903  Vegetal Products  \n",
       "3  Nuts and products             2901       Grand Total  \n",
       "4  Nuts and products             2912          Treenuts  "
      ]
     },
     "execution_count": 135,
     "metadata": {},
     "output_type": "execute_result"
    }
   ],
   "source": [
    "items.head()"
   ]
  },
  {
   "cell_type": "markdown",
   "metadata": {},
   "source": [
    "---"
   ]
  },
  {
   "cell_type": "markdown",
   "metadata": {},
   "source": [
    "### 1.4 Swiss Food Balance\n",
    "#### 1.4.1 Data Description\n",
    "\n",
    "##### Food Balance Sheets\n",
    "<details>\n",
    "  <summary>Description</summary> \n",
    "  This dataset contains all the informations about the food supply, the import/export quantity, the losses and also the feed/seed of each food for each country and for each year.\n",
    "</details>\n",
    "\n",
    "<details>\n",
    "  <summary>Path</summary>\n",
    "  \n",
    "  Data/FAOSTAT/FoodBalanceSheets_E_All_Data_(Normalized).zip\n",
    "</details>"
   ]
  },
  {
   "cell_type": "markdown",
   "metadata": {},
   "source": [
    "#### 1.4.2 Data Cleaning"
   ]
  },
  {
   "cell_type": "code",
   "execution_count": 413,
   "metadata": {},
   "outputs": [],
   "source": [
    "CH_code = 211 # Switzerland Area Code is 211"
   ]
  },
  {
   "cell_type": "code",
   "execution_count": 414,
   "metadata": {},
   "outputs": [],
   "source": [
    "\"\"\"Load Data\"\"\"\n",
    "food_balance_df = pd.read_csv('Data/FAOSTAT/FoodBalanceSheets_E_All_Data_(Normalized).zip', encoding=\"ISO-8859-1\")"
   ]
  },
  {
   "cell_type": "code",
   "execution_count": 415,
   "metadata": {},
   "outputs": [],
   "source": [
    "\"\"\"Filter Data to obtain only what we need\"\"\"\n",
    "food_balance_df_CH = food_balance_df[food_balance_df['Area Code'] == CH_code]"
   ]
  },
  {
   "cell_type": "code",
   "execution_count": 416,
   "metadata": {},
   "outputs": [
    {
     "data": {
      "text/html": [
       "<div>\n",
       "<style scoped>\n",
       "    .dataframe tbody tr th:only-of-type {\n",
       "        vertical-align: middle;\n",
       "    }\n",
       "\n",
       "    .dataframe tbody tr th {\n",
       "        vertical-align: top;\n",
       "    }\n",
       "\n",
       "    .dataframe thead th {\n",
       "        text-align: right;\n",
       "    }\n",
       "</style>\n",
       "<table border=\"1\" class=\"dataframe\">\n",
       "  <thead>\n",
       "    <tr style=\"text-align: right;\">\n",
       "      <th></th>\n",
       "      <th>Area</th>\n",
       "      <th>Item</th>\n",
       "      <th>Year</th>\n",
       "      <th>Domestic supply quantity</th>\n",
       "      <th>Export Quantity</th>\n",
       "      <th>Fat supply quantity (g/capita/day)</th>\n",
       "      <th>Feed</th>\n",
       "      <th>Food</th>\n",
       "      <th>Food supply (kcal/capita/day)</th>\n",
       "      <th>Food supply quantity (kg/capita/yr)</th>\n",
       "      <th>Import Quantity</th>\n",
       "      <th>Losses</th>\n",
       "      <th>Other uses</th>\n",
       "      <th>Processing</th>\n",
       "      <th>Production</th>\n",
       "      <th>Protein supply quantity (g/capita/day)</th>\n",
       "      <th>Seed</th>\n",
       "      <th>Stock Variation</th>\n",
       "      <th>Total Population - Both sexes</th>\n",
       "    </tr>\n",
       "  </thead>\n",
       "  <tbody>\n",
       "    <tr>\n",
       "      <td>7741481</td>\n",
       "      <td>Switzerland</td>\n",
       "      <td>Population</td>\n",
       "      <td>1961</td>\n",
       "      <td>NaN</td>\n",
       "      <td>NaN</td>\n",
       "      <td>NaN</td>\n",
       "      <td>NaN</td>\n",
       "      <td>NaN</td>\n",
       "      <td>NaN</td>\n",
       "      <td>NaN</td>\n",
       "      <td>NaN</td>\n",
       "      <td>NaN</td>\n",
       "      <td>NaN</td>\n",
       "      <td>NaN</td>\n",
       "      <td>NaN</td>\n",
       "      <td>NaN</td>\n",
       "      <td>NaN</td>\n",
       "      <td>NaN</td>\n",
       "      <td>5393.0</td>\n",
       "    </tr>\n",
       "    <tr>\n",
       "      <td>7741482</td>\n",
       "      <td>Switzerland</td>\n",
       "      <td>Population</td>\n",
       "      <td>1962</td>\n",
       "      <td>NaN</td>\n",
       "      <td>NaN</td>\n",
       "      <td>NaN</td>\n",
       "      <td>NaN</td>\n",
       "      <td>NaN</td>\n",
       "      <td>NaN</td>\n",
       "      <td>NaN</td>\n",
       "      <td>NaN</td>\n",
       "      <td>NaN</td>\n",
       "      <td>NaN</td>\n",
       "      <td>NaN</td>\n",
       "      <td>NaN</td>\n",
       "      <td>NaN</td>\n",
       "      <td>NaN</td>\n",
       "      <td>NaN</td>\n",
       "      <td>5503.0</td>\n",
       "    </tr>\n",
       "    <tr>\n",
       "      <td>7741483</td>\n",
       "      <td>Switzerland</td>\n",
       "      <td>Population</td>\n",
       "      <td>1963</td>\n",
       "      <td>NaN</td>\n",
       "      <td>NaN</td>\n",
       "      <td>NaN</td>\n",
       "      <td>NaN</td>\n",
       "      <td>NaN</td>\n",
       "      <td>NaN</td>\n",
       "      <td>NaN</td>\n",
       "      <td>NaN</td>\n",
       "      <td>NaN</td>\n",
       "      <td>NaN</td>\n",
       "      <td>NaN</td>\n",
       "      <td>NaN</td>\n",
       "      <td>NaN</td>\n",
       "      <td>NaN</td>\n",
       "      <td>NaN</td>\n",
       "      <td>5618.0</td>\n",
       "    </tr>\n",
       "    <tr>\n",
       "      <td>7741484</td>\n",
       "      <td>Switzerland</td>\n",
       "      <td>Population</td>\n",
       "      <td>1964</td>\n",
       "      <td>NaN</td>\n",
       "      <td>NaN</td>\n",
       "      <td>NaN</td>\n",
       "      <td>NaN</td>\n",
       "      <td>NaN</td>\n",
       "      <td>NaN</td>\n",
       "      <td>NaN</td>\n",
       "      <td>NaN</td>\n",
       "      <td>NaN</td>\n",
       "      <td>NaN</td>\n",
       "      <td>NaN</td>\n",
       "      <td>NaN</td>\n",
       "      <td>NaN</td>\n",
       "      <td>NaN</td>\n",
       "      <td>NaN</td>\n",
       "      <td>5729.0</td>\n",
       "    </tr>\n",
       "    <tr>\n",
       "      <td>7741485</td>\n",
       "      <td>Switzerland</td>\n",
       "      <td>Population</td>\n",
       "      <td>1965</td>\n",
       "      <td>NaN</td>\n",
       "      <td>NaN</td>\n",
       "      <td>NaN</td>\n",
       "      <td>NaN</td>\n",
       "      <td>NaN</td>\n",
       "      <td>NaN</td>\n",
       "      <td>NaN</td>\n",
       "      <td>NaN</td>\n",
       "      <td>NaN</td>\n",
       "      <td>NaN</td>\n",
       "      <td>NaN</td>\n",
       "      <td>NaN</td>\n",
       "      <td>NaN</td>\n",
       "      <td>NaN</td>\n",
       "      <td>NaN</td>\n",
       "      <td>5830.0</td>\n",
       "    </tr>\n",
       "  </tbody>\n",
       "</table>\n",
       "</div>"
      ],
      "text/plain": [
       "                Area        Item  Year  Domestic supply quantity  \\\n",
       "7741481  Switzerland  Population  1961                       NaN   \n",
       "7741482  Switzerland  Population  1962                       NaN   \n",
       "7741483  Switzerland  Population  1963                       NaN   \n",
       "7741484  Switzerland  Population  1964                       NaN   \n",
       "7741485  Switzerland  Population  1965                       NaN   \n",
       "\n",
       "         Export Quantity  Fat supply quantity (g/capita/day)  Feed  Food  \\\n",
       "7741481              NaN                                 NaN   NaN   NaN   \n",
       "7741482              NaN                                 NaN   NaN   NaN   \n",
       "7741483              NaN                                 NaN   NaN   NaN   \n",
       "7741484              NaN                                 NaN   NaN   NaN   \n",
       "7741485              NaN                                 NaN   NaN   NaN   \n",
       "\n",
       "         Food supply (kcal/capita/day)  Food supply quantity (kg/capita/yr)  \\\n",
       "7741481                            NaN                                  NaN   \n",
       "7741482                            NaN                                  NaN   \n",
       "7741483                            NaN                                  NaN   \n",
       "7741484                            NaN                                  NaN   \n",
       "7741485                            NaN                                  NaN   \n",
       "\n",
       "         Import Quantity  Losses  Other uses  Processing  Production  \\\n",
       "7741481              NaN     NaN         NaN         NaN         NaN   \n",
       "7741482              NaN     NaN         NaN         NaN         NaN   \n",
       "7741483              NaN     NaN         NaN         NaN         NaN   \n",
       "7741484              NaN     NaN         NaN         NaN         NaN   \n",
       "7741485              NaN     NaN         NaN         NaN         NaN   \n",
       "\n",
       "         Protein supply quantity (g/capita/day)  Seed  Stock Variation  \\\n",
       "7741481                                     NaN   NaN              NaN   \n",
       "7741482                                     NaN   NaN              NaN   \n",
       "7741483                                     NaN   NaN              NaN   \n",
       "7741484                                     NaN   NaN              NaN   \n",
       "7741485                                     NaN   NaN              NaN   \n",
       "\n",
       "         Total Population - Both sexes  \n",
       "7741481                         5393.0  \n",
       "7741482                         5503.0  \n",
       "7741483                         5618.0  \n",
       "7741484                         5729.0  \n",
       "7741485                         5830.0  "
      ]
     },
     "execution_count": 416,
     "metadata": {},
     "output_type": "execute_result"
    }
   ],
   "source": [
    "\"\"\"Spread the elements in 'Elements' to columns to be able to work on data\"\"\"\n",
    "values_wide = food_balance_df_CH.pivot_table(index=['Area', 'Item', 'Year'], columns='Element', values='Value')\n",
    "food_balance_df_CH_wide = food_balance_df_CH[['Area', 'Item', 'Year']]\\\n",
    "                    .merge(values_wide, right_index=True, left_on=['Area', 'Item', 'Year'])\\\n",
    "                    .drop_duplicates()\n",
    "        \n",
    "food_balance_df_CH_wide.head()"
   ]
  },
  {
   "cell_type": "code",
   "execution_count": 417,
   "metadata": {},
   "outputs": [
    {
     "data": {
      "text/html": [
       "<div>\n",
       "<style scoped>\n",
       "    .dataframe tbody tr th:only-of-type {\n",
       "        vertical-align: middle;\n",
       "    }\n",
       "\n",
       "    .dataframe tbody tr th {\n",
       "        vertical-align: top;\n",
       "    }\n",
       "\n",
       "    .dataframe thead th {\n",
       "        text-align: right;\n",
       "    }\n",
       "</style>\n",
       "<table border=\"1\" class=\"dataframe\">\n",
       "  <thead>\n",
       "    <tr style=\"text-align: right;\">\n",
       "      <th></th>\n",
       "      <th>Domestic supply quantity</th>\n",
       "      <th>Export Quantity</th>\n",
       "      <th>Fat supply quantity (g/capita/day)</th>\n",
       "      <th>Feed</th>\n",
       "      <th>Food</th>\n",
       "      <th>Food supply (kcal/capita/day)</th>\n",
       "      <th>Food supply quantity (kg/capita/yr)</th>\n",
       "      <th>Import Quantity</th>\n",
       "      <th>Losses</th>\n",
       "      <th>Other uses</th>\n",
       "      <th>Processing</th>\n",
       "      <th>Production</th>\n",
       "      <th>Protein supply quantity (g/capita/day)</th>\n",
       "      <th>Seed</th>\n",
       "      <th>Stock Variation</th>\n",
       "      <th>Total Population - Both sexes</th>\n",
       "    </tr>\n",
       "    <tr>\n",
       "      <th>Year</th>\n",
       "      <th></th>\n",
       "      <th></th>\n",
       "      <th></th>\n",
       "      <th></th>\n",
       "      <th></th>\n",
       "      <th></th>\n",
       "      <th></th>\n",
       "      <th></th>\n",
       "      <th></th>\n",
       "      <th></th>\n",
       "      <th></th>\n",
       "      <th></th>\n",
       "      <th></th>\n",
       "      <th></th>\n",
       "      <th></th>\n",
       "      <th></th>\n",
       "    </tr>\n",
       "  </thead>\n",
       "  <tbody>\n",
       "    <tr>\n",
       "      <td>1961</td>\n",
       "      <td>15754.0</td>\n",
       "      <td>756.0</td>\n",
       "      <td>505.34</td>\n",
       "      <td>3799.0</td>\n",
       "      <td>9378.0</td>\n",
       "      <td>13815.0</td>\n",
       "      <td>1739.37</td>\n",
       "      <td>5185.0</td>\n",
       "      <td>451.0</td>\n",
       "      <td>208.0</td>\n",
       "      <td>1627.0</td>\n",
       "      <td>11140.0</td>\n",
       "      <td>351.95</td>\n",
       "      <td>291.0</td>\n",
       "      <td>185.0</td>\n",
       "      <td>5393.0</td>\n",
       "    </tr>\n",
       "    <tr>\n",
       "      <td>1962</td>\n",
       "      <td>16584.0</td>\n",
       "      <td>661.0</td>\n",
       "      <td>524.16</td>\n",
       "      <td>4290.0</td>\n",
       "      <td>9756.0</td>\n",
       "      <td>13459.0</td>\n",
       "      <td>1772.89</td>\n",
       "      <td>5565.0</td>\n",
       "      <td>429.0</td>\n",
       "      <td>240.0</td>\n",
       "      <td>1590.0</td>\n",
       "      <td>11569.0</td>\n",
       "      <td>332.71</td>\n",
       "      <td>285.0</td>\n",
       "      <td>117.0</td>\n",
       "      <td>5503.0</td>\n",
       "    </tr>\n",
       "    <tr>\n",
       "      <td>1963</td>\n",
       "      <td>16670.0</td>\n",
       "      <td>746.0</td>\n",
       "      <td>518.34</td>\n",
       "      <td>4433.0</td>\n",
       "      <td>9668.0</td>\n",
       "      <td>13161.0</td>\n",
       "      <td>1720.57</td>\n",
       "      <td>5438.0</td>\n",
       "      <td>415.0</td>\n",
       "      <td>267.0</td>\n",
       "      <td>1592.0</td>\n",
       "      <td>11485.0</td>\n",
       "      <td>338.38</td>\n",
       "      <td>297.0</td>\n",
       "      <td>495.0</td>\n",
       "      <td>5618.0</td>\n",
       "    </tr>\n",
       "    <tr>\n",
       "      <td>1964</td>\n",
       "      <td>17086.0</td>\n",
       "      <td>712.0</td>\n",
       "      <td>531.93</td>\n",
       "      <td>4316.0</td>\n",
       "      <td>9900.0</td>\n",
       "      <td>13326.0</td>\n",
       "      <td>1727.53</td>\n",
       "      <td>5943.0</td>\n",
       "      <td>398.0</td>\n",
       "      <td>265.0</td>\n",
       "      <td>1941.0</td>\n",
       "      <td>11907.0</td>\n",
       "      <td>336.65</td>\n",
       "      <td>275.0</td>\n",
       "      <td>-52.0</td>\n",
       "      <td>5729.0</td>\n",
       "    </tr>\n",
       "    <tr>\n",
       "      <td>1965</td>\n",
       "      <td>16876.0</td>\n",
       "      <td>723.0</td>\n",
       "      <td>521.01</td>\n",
       "      <td>4114.0</td>\n",
       "      <td>10166.0</td>\n",
       "      <td>13319.0</td>\n",
       "      <td>1743.16</td>\n",
       "      <td>6558.0</td>\n",
       "      <td>351.0</td>\n",
       "      <td>276.0</td>\n",
       "      <td>1717.0</td>\n",
       "      <td>10534.0</td>\n",
       "      <td>340.35</td>\n",
       "      <td>261.0</td>\n",
       "      <td>510.0</td>\n",
       "      <td>5830.0</td>\n",
       "    </tr>\n",
       "  </tbody>\n",
       "</table>\n",
       "</div>"
      ],
      "text/plain": [
       "      Domestic supply quantity  Export Quantity  \\\n",
       "Year                                              \n",
       "1961                   15754.0            756.0   \n",
       "1962                   16584.0            661.0   \n",
       "1963                   16670.0            746.0   \n",
       "1964                   17086.0            712.0   \n",
       "1965                   16876.0            723.0   \n",
       "\n",
       "      Fat supply quantity (g/capita/day)    Feed     Food  \\\n",
       "Year                                                        \n",
       "1961                              505.34  3799.0   9378.0   \n",
       "1962                              524.16  4290.0   9756.0   \n",
       "1963                              518.34  4433.0   9668.0   \n",
       "1964                              531.93  4316.0   9900.0   \n",
       "1965                              521.01  4114.0  10166.0   \n",
       "\n",
       "      Food supply (kcal/capita/day)  Food supply quantity (kg/capita/yr)  \\\n",
       "Year                                                                       \n",
       "1961                        13815.0                              1739.37   \n",
       "1962                        13459.0                              1772.89   \n",
       "1963                        13161.0                              1720.57   \n",
       "1964                        13326.0                              1727.53   \n",
       "1965                        13319.0                              1743.16   \n",
       "\n",
       "      Import Quantity  Losses  Other uses  Processing  Production  \\\n",
       "Year                                                                \n",
       "1961           5185.0   451.0       208.0      1627.0     11140.0   \n",
       "1962           5565.0   429.0       240.0      1590.0     11569.0   \n",
       "1963           5438.0   415.0       267.0      1592.0     11485.0   \n",
       "1964           5943.0   398.0       265.0      1941.0     11907.0   \n",
       "1965           6558.0   351.0       276.0      1717.0     10534.0   \n",
       "\n",
       "      Protein supply quantity (g/capita/day)   Seed  Stock Variation  \\\n",
       "Year                                                                   \n",
       "1961                                  351.95  291.0            185.0   \n",
       "1962                                  332.71  285.0            117.0   \n",
       "1963                                  338.38  297.0            495.0   \n",
       "1964                                  336.65  275.0            -52.0   \n",
       "1965                                  340.35  261.0            510.0   \n",
       "\n",
       "      Total Population - Both sexes  \n",
       "Year                                 \n",
       "1961                         5393.0  \n",
       "1962                         5503.0  \n",
       "1963                         5618.0  \n",
       "1964                         5729.0  \n",
       "1965                         5830.0  "
      ]
     },
     "execution_count": 417,
     "metadata": {},
     "output_type": "execute_result"
    }
   ],
   "source": [
    "\"\"\"Inspect the food supply and others per year\"\"\"\n",
    "food_balance_df_CH_wide.groupby('Year').sum().head()"
   ]
  },
  {
   "cell_type": "markdown",
   "metadata": {},
   "source": [
    "#### Food Balance Comments 1\n",
    "\n",
    "We clearly see that some numbers were totally unexpected while inspecting `food_balance`. For example, having +13'000 kcal/capita/day seem too much since we know we are eating around 2000-3000 kcal/capita/day.\n",
    "We did some researches and found that some elements in `Item` are the group of other elements, and hence we have some duplicates values.\n",
    "\n",
    "To resolve this problem, we need to separate the group items from the items. As we already investigate on the items and their groups, we can use our results to split `food_balance` into 2 dataframes, one which contain the elements and another one which contain only the groups.\n",
    "\n",
    "We can also note that for all the columns that don't have any unit precision, the unit is '1000 tonnes'."
   ]
  },
  {
   "cell_type": "code",
   "execution_count": 418,
   "metadata": {},
   "outputs": [
    {
     "data": {
      "text/plain": [
       "array(['Alcoholic Beverages', 'Animal fats', 'Animal Products',\n",
       "       'Aquatic Products, Other', 'Cereals - Excluding Beer', 'Eggs',\n",
       "       'Fish, Seafood', 'Fruits - Excluding Wine', 'Grand Total', 'Meat',\n",
       "       'Milk - Excluding Butter', 'Miscellaneous', 'Offals', 'Oilcrops',\n",
       "       'Pulses', 'Spices', 'Starchy Roots', 'Stimulants',\n",
       "       'Sugar & Sweeteners', 'Sugar Crops', 'Treenuts', 'Vegetable Oils',\n",
       "       'Vegetables', 'Vegetal Products'], dtype=object)"
      ]
     },
     "execution_count": 418,
     "metadata": {},
     "output_type": "execute_result"
    }
   ],
   "source": [
    "items_groups_array = items_groups['Item Group'].unique()\n",
    "items_groups_array"
   ]
  },
  {
   "cell_type": "code",
   "execution_count": 419,
   "metadata": {},
   "outputs": [
    {
     "data": {
      "text/plain": [
       "array(['Alcohol, Non-Food', 'Apples and products',\n",
       "       'Aquatic Animals, Others', 'Aquatic Plants', 'Bananas',\n",
       "       'Barley and products', 'Beans', 'Beer', 'Beverages, Alcoholic',\n",
       "       'Beverages, Fermented', 'Bovine Meat', 'Butter, Ghee',\n",
       "       'Cassava and products', 'Cephalopods', 'Cereals, Other',\n",
       "       'Citrus, Other', 'Cloves', 'Cocoa Beans and products',\n",
       "       'Coconut Oil', 'Coconuts - Incl Copra', 'Coffee and products',\n",
       "       'Cottonseed', 'Cottonseed Oil', 'Cream', 'Crustaceans', 'Dates',\n",
       "       'Demersal Fish', 'Eggs', 'Fats, Animals, Raw', 'Fish, Body Oil',\n",
       "       'Fish, Liver Oil', 'Freshwater Fish', 'Fruits, Other',\n",
       "       'Grapefruit and products', 'Grapes and products (excl wine)',\n",
       "       'Groundnut Oil', 'Groundnuts (Shelled Eq)', 'Honey', 'Infant food',\n",
       "       'Lemons, Limes and products', 'Maize and products',\n",
       "       'Maize Germ Oil', 'Marine Fish, Other', 'Meat, Aquatic Mammals',\n",
       "       'Meat, Other', 'Milk - Excluding Butter', 'Millet and products',\n",
       "       'Molluscs, Other', 'Mutton & Goat Meat', 'Nuts and products',\n",
       "       'Oats', 'Offals, Edible', 'Oilcrops Oil, Other', 'Oilcrops, Other',\n",
       "       'Olive Oil', 'Olives (including preserved)', 'Onions',\n",
       "       'Oranges, Mandarines', 'Palm kernels', 'Palm Oil',\n",
       "       'Palmkernel Oil', 'Peas', 'Pelagic Fish', 'Pepper', 'Pigmeat',\n",
       "       'Pimento', 'Pineapples and products', 'Plantains',\n",
       "       'Potatoes and products', 'Poultry Meat',\n",
       "       'Pulses, Other and products', 'Rape and Mustard Oil',\n",
       "       'Rape and Mustardseed', 'Rice (Milled Equivalent)', 'Ricebran Oil',\n",
       "       'Roots, Other', 'Rye and products', 'Sesame seed',\n",
       "       'Sesameseed Oil', 'Sorghum and products', 'Soyabean Oil',\n",
       "       'Soyabeans', 'Spices, Other', 'Sugar (Raw Equivalent)',\n",
       "       'Sugar beet', 'Sugar cane', 'Sugar non-centrifugal',\n",
       "       'Sunflower seed', 'Sunflowerseed Oil', 'Sweet potatoes',\n",
       "       'Sweeteners, Other', 'Tea (including mate)',\n",
       "       'Tomatoes and products', 'Vegetables, Other', 'Wheat and products',\n",
       "       'Wine', 'Yams'], dtype=object)"
      ]
     },
     "execution_count": 419,
     "metadata": {},
     "output_type": "execute_result"
    }
   ],
   "source": [
    "items_subgroups_array = items_subgroups['Item Subgroup'].unique()\n",
    "items_subgroups_array"
   ]
  },
  {
   "cell_type": "code",
   "execution_count": 420,
   "metadata": {},
   "outputs": [
    {
     "data": {
      "text/html": [
       "<div>\n",
       "<style scoped>\n",
       "    .dataframe tbody tr th:only-of-type {\n",
       "        vertical-align: middle;\n",
       "    }\n",
       "\n",
       "    .dataframe tbody tr th {\n",
       "        vertical-align: top;\n",
       "    }\n",
       "\n",
       "    .dataframe thead th {\n",
       "        text-align: right;\n",
       "    }\n",
       "</style>\n",
       "<table border=\"1\" class=\"dataframe\">\n",
       "  <thead>\n",
       "    <tr style=\"text-align: right;\">\n",
       "      <th></th>\n",
       "      <th>Area</th>\n",
       "      <th>Item</th>\n",
       "      <th>Year</th>\n",
       "      <th>Domestic supply quantity</th>\n",
       "      <th>Export Quantity</th>\n",
       "      <th>Fat supply quantity (g/capita/day)</th>\n",
       "      <th>Feed</th>\n",
       "      <th>Food</th>\n",
       "      <th>Food supply (kcal/capita/day)</th>\n",
       "      <th>Food supply quantity (kg/capita/yr)</th>\n",
       "      <th>Import Quantity</th>\n",
       "      <th>Losses</th>\n",
       "      <th>Other uses</th>\n",
       "      <th>Processing</th>\n",
       "      <th>Production</th>\n",
       "      <th>Protein supply quantity (g/capita/day)</th>\n",
       "      <th>Seed</th>\n",
       "      <th>Stock Variation</th>\n",
       "      <th>Total Population - Both sexes</th>\n",
       "    </tr>\n",
       "  </thead>\n",
       "  <tbody>\n",
       "    <tr>\n",
       "      <td>7741534</td>\n",
       "      <td>Switzerland</td>\n",
       "      <td>Grand Total</td>\n",
       "      <td>1961</td>\n",
       "      <td>NaN</td>\n",
       "      <td>NaN</td>\n",
       "      <td>133.82</td>\n",
       "      <td>NaN</td>\n",
       "      <td>NaN</td>\n",
       "      <td>3576.0</td>\n",
       "      <td>NaN</td>\n",
       "      <td>NaN</td>\n",
       "      <td>NaN</td>\n",
       "      <td>NaN</td>\n",
       "      <td>NaN</td>\n",
       "      <td>NaN</td>\n",
       "      <td>94.98</td>\n",
       "      <td>NaN</td>\n",
       "      <td>NaN</td>\n",
       "      <td>NaN</td>\n",
       "    </tr>\n",
       "    <tr>\n",
       "      <td>7741535</td>\n",
       "      <td>Switzerland</td>\n",
       "      <td>Grand Total</td>\n",
       "      <td>1962</td>\n",
       "      <td>NaN</td>\n",
       "      <td>NaN</td>\n",
       "      <td>138.26</td>\n",
       "      <td>NaN</td>\n",
       "      <td>NaN</td>\n",
       "      <td>3483.0</td>\n",
       "      <td>NaN</td>\n",
       "      <td>NaN</td>\n",
       "      <td>NaN</td>\n",
       "      <td>NaN</td>\n",
       "      <td>NaN</td>\n",
       "      <td>NaN</td>\n",
       "      <td>89.96</td>\n",
       "      <td>NaN</td>\n",
       "      <td>NaN</td>\n",
       "      <td>NaN</td>\n",
       "    </tr>\n",
       "    <tr>\n",
       "      <td>7741536</td>\n",
       "      <td>Switzerland</td>\n",
       "      <td>Grand Total</td>\n",
       "      <td>1963</td>\n",
       "      <td>NaN</td>\n",
       "      <td>NaN</td>\n",
       "      <td>136.66</td>\n",
       "      <td>NaN</td>\n",
       "      <td>NaN</td>\n",
       "      <td>3405.0</td>\n",
       "      <td>NaN</td>\n",
       "      <td>NaN</td>\n",
       "      <td>NaN</td>\n",
       "      <td>NaN</td>\n",
       "      <td>NaN</td>\n",
       "      <td>NaN</td>\n",
       "      <td>91.29</td>\n",
       "      <td>NaN</td>\n",
       "      <td>NaN</td>\n",
       "      <td>NaN</td>\n",
       "    </tr>\n",
       "    <tr>\n",
       "      <td>7741537</td>\n",
       "      <td>Switzerland</td>\n",
       "      <td>Grand Total</td>\n",
       "      <td>1964</td>\n",
       "      <td>NaN</td>\n",
       "      <td>NaN</td>\n",
       "      <td>140.03</td>\n",
       "      <td>NaN</td>\n",
       "      <td>NaN</td>\n",
       "      <td>3446.0</td>\n",
       "      <td>NaN</td>\n",
       "      <td>NaN</td>\n",
       "      <td>NaN</td>\n",
       "      <td>NaN</td>\n",
       "      <td>NaN</td>\n",
       "      <td>NaN</td>\n",
       "      <td>90.83</td>\n",
       "      <td>NaN</td>\n",
       "      <td>NaN</td>\n",
       "      <td>NaN</td>\n",
       "    </tr>\n",
       "    <tr>\n",
       "      <td>7741538</td>\n",
       "      <td>Switzerland</td>\n",
       "      <td>Grand Total</td>\n",
       "      <td>1965</td>\n",
       "      <td>NaN</td>\n",
       "      <td>NaN</td>\n",
       "      <td>137.32</td>\n",
       "      <td>NaN</td>\n",
       "      <td>NaN</td>\n",
       "      <td>3445.0</td>\n",
       "      <td>NaN</td>\n",
       "      <td>NaN</td>\n",
       "      <td>NaN</td>\n",
       "      <td>NaN</td>\n",
       "      <td>NaN</td>\n",
       "      <td>NaN</td>\n",
       "      <td>91.93</td>\n",
       "      <td>NaN</td>\n",
       "      <td>NaN</td>\n",
       "      <td>NaN</td>\n",
       "    </tr>\n",
       "  </tbody>\n",
       "</table>\n",
       "</div>"
      ],
      "text/plain": [
       "                Area         Item  Year  Domestic supply quantity  \\\n",
       "7741534  Switzerland  Grand Total  1961                       NaN   \n",
       "7741535  Switzerland  Grand Total  1962                       NaN   \n",
       "7741536  Switzerland  Grand Total  1963                       NaN   \n",
       "7741537  Switzerland  Grand Total  1964                       NaN   \n",
       "7741538  Switzerland  Grand Total  1965                       NaN   \n",
       "\n",
       "         Export Quantity  Fat supply quantity (g/capita/day)  Feed  Food  \\\n",
       "7741534              NaN                              133.82   NaN   NaN   \n",
       "7741535              NaN                              138.26   NaN   NaN   \n",
       "7741536              NaN                              136.66   NaN   NaN   \n",
       "7741537              NaN                              140.03   NaN   NaN   \n",
       "7741538              NaN                              137.32   NaN   NaN   \n",
       "\n",
       "         Food supply (kcal/capita/day)  Food supply quantity (kg/capita/yr)  \\\n",
       "7741534                         3576.0                                  NaN   \n",
       "7741535                         3483.0                                  NaN   \n",
       "7741536                         3405.0                                  NaN   \n",
       "7741537                         3446.0                                  NaN   \n",
       "7741538                         3445.0                                  NaN   \n",
       "\n",
       "         Import Quantity  Losses  Other uses  Processing  Production  \\\n",
       "7741534              NaN     NaN         NaN         NaN         NaN   \n",
       "7741535              NaN     NaN         NaN         NaN         NaN   \n",
       "7741536              NaN     NaN         NaN         NaN         NaN   \n",
       "7741537              NaN     NaN         NaN         NaN         NaN   \n",
       "7741538              NaN     NaN         NaN         NaN         NaN   \n",
       "\n",
       "         Protein supply quantity (g/capita/day)  Seed  Stock Variation  \\\n",
       "7741534                                   94.98   NaN              NaN   \n",
       "7741535                                   89.96   NaN              NaN   \n",
       "7741536                                   91.29   NaN              NaN   \n",
       "7741537                                   90.83   NaN              NaN   \n",
       "7741538                                   91.93   NaN              NaN   \n",
       "\n",
       "         Total Population - Both sexes  \n",
       "7741534                            NaN  \n",
       "7741535                            NaN  \n",
       "7741536                            NaN  \n",
       "7741537                            NaN  \n",
       "7741538                            NaN  "
      ]
     },
     "execution_count": 420,
     "metadata": {},
     "output_type": "execute_result"
    }
   ],
   "source": [
    "food_balance_df_CH_wide_groups_items = food_balance_df_CH_wide.loc[food_balance_df_CH_wide.Item.isin(items_groups_array)]\n",
    "food_balance_df_CH_wide_groups_items.head()"
   ]
  },
  {
   "cell_type": "code",
   "execution_count": 421,
   "metadata": {},
   "outputs": [
    {
     "data": {
      "text/html": [
       "<div>\n",
       "<style scoped>\n",
       "    .dataframe tbody tr th:only-of-type {\n",
       "        vertical-align: middle;\n",
       "    }\n",
       "\n",
       "    .dataframe tbody tr th {\n",
       "        vertical-align: top;\n",
       "    }\n",
       "\n",
       "    .dataframe thead th {\n",
       "        text-align: right;\n",
       "    }\n",
       "</style>\n",
       "<table border=\"1\" class=\"dataframe\">\n",
       "  <thead>\n",
       "    <tr style=\"text-align: right;\">\n",
       "      <th></th>\n",
       "      <th>Area</th>\n",
       "      <th>Item</th>\n",
       "      <th>Year</th>\n",
       "      <th>Domestic supply quantity</th>\n",
       "      <th>Export Quantity</th>\n",
       "      <th>Fat supply quantity (g/capita/day)</th>\n",
       "      <th>Feed</th>\n",
       "      <th>Food</th>\n",
       "      <th>Food supply (kcal/capita/day)</th>\n",
       "      <th>Food supply quantity (kg/capita/yr)</th>\n",
       "      <th>Import Quantity</th>\n",
       "      <th>Losses</th>\n",
       "      <th>Other uses</th>\n",
       "      <th>Processing</th>\n",
       "      <th>Production</th>\n",
       "      <th>Protein supply quantity (g/capita/day)</th>\n",
       "      <th>Seed</th>\n",
       "      <th>Stock Variation</th>\n",
       "      <th>Total Population - Both sexes</th>\n",
       "    </tr>\n",
       "  </thead>\n",
       "  <tbody>\n",
       "    <tr>\n",
       "      <td>7742806</td>\n",
       "      <td>Switzerland</td>\n",
       "      <td>Wheat and products</td>\n",
       "      <td>1961</td>\n",
       "      <td>711.0</td>\n",
       "      <td>5.0</td>\n",
       "      <td>3.55</td>\n",
       "      <td>24.0</td>\n",
       "      <td>649.0</td>\n",
       "      <td>896.0</td>\n",
       "      <td>120.31</td>\n",
       "      <td>403.0</td>\n",
       "      <td>9.0</td>\n",
       "      <td>7.0</td>\n",
       "      <td>0.0</td>\n",
       "      <td>316.0</td>\n",
       "      <td>29.18</td>\n",
       "      <td>22.0</td>\n",
       "      <td>-3.0</td>\n",
       "      <td>NaN</td>\n",
       "    </tr>\n",
       "    <tr>\n",
       "      <td>7742807</td>\n",
       "      <td>Switzerland</td>\n",
       "      <td>Wheat and products</td>\n",
       "      <td>1962</td>\n",
       "      <td>775.0</td>\n",
       "      <td>6.0</td>\n",
       "      <td>2.95</td>\n",
       "      <td>187.0</td>\n",
       "      <td>550.0</td>\n",
       "      <td>745.0</td>\n",
       "      <td>99.98</td>\n",
       "      <td>433.0</td>\n",
       "      <td>12.0</td>\n",
       "      <td>6.0</td>\n",
       "      <td>0.0</td>\n",
       "      <td>420.0</td>\n",
       "      <td>24.24</td>\n",
       "      <td>20.0</td>\n",
       "      <td>-72.0</td>\n",
       "      <td>NaN</td>\n",
       "    </tr>\n",
       "    <tr>\n",
       "      <td>7742808</td>\n",
       "      <td>Switzerland</td>\n",
       "      <td>Wheat and products</td>\n",
       "      <td>1963</td>\n",
       "      <td>741.0</td>\n",
       "      <td>6.0</td>\n",
       "      <td>3.08</td>\n",
       "      <td>120.0</td>\n",
       "      <td>587.0</td>\n",
       "      <td>778.0</td>\n",
       "      <td>104.42</td>\n",
       "      <td>356.0</td>\n",
       "      <td>8.0</td>\n",
       "      <td>7.0</td>\n",
       "      <td>0.0</td>\n",
       "      <td>303.0</td>\n",
       "      <td>25.32</td>\n",
       "      <td>20.0</td>\n",
       "      <td>89.0</td>\n",
       "      <td>NaN</td>\n",
       "    </tr>\n",
       "    <tr>\n",
       "      <td>7742809</td>\n",
       "      <td>Switzerland</td>\n",
       "      <td>Wheat and products</td>\n",
       "      <td>1964</td>\n",
       "      <td>711.0</td>\n",
       "      <td>7.0</td>\n",
       "      <td>2.86</td>\n",
       "      <td>115.0</td>\n",
       "      <td>555.0</td>\n",
       "      <td>722.0</td>\n",
       "      <td>96.91</td>\n",
       "      <td>370.0</td>\n",
       "      <td>11.0</td>\n",
       "      <td>8.0</td>\n",
       "      <td>0.0</td>\n",
       "      <td>388.0</td>\n",
       "      <td>23.50</td>\n",
       "      <td>21.0</td>\n",
       "      <td>-41.0</td>\n",
       "      <td>NaN</td>\n",
       "    </tr>\n",
       "    <tr>\n",
       "      <td>7742810</td>\n",
       "      <td>Switzerland</td>\n",
       "      <td>Wheat and products</td>\n",
       "      <td>1965</td>\n",
       "      <td>736.0</td>\n",
       "      <td>7.0</td>\n",
       "      <td>2.94</td>\n",
       "      <td>119.0</td>\n",
       "      <td>581.0</td>\n",
       "      <td>742.0</td>\n",
       "      <td>99.58</td>\n",
       "      <td>427.0</td>\n",
       "      <td>10.0</td>\n",
       "      <td>5.0</td>\n",
       "      <td>0.0</td>\n",
       "      <td>352.0</td>\n",
       "      <td>24.15</td>\n",
       "      <td>21.0</td>\n",
       "      <td>-36.0</td>\n",
       "      <td>NaN</td>\n",
       "    </tr>\n",
       "  </tbody>\n",
       "</table>\n",
       "</div>"
      ],
      "text/plain": [
       "                Area                Item  Year  Domestic supply quantity  \\\n",
       "7742806  Switzerland  Wheat and products  1961                     711.0   \n",
       "7742807  Switzerland  Wheat and products  1962                     775.0   \n",
       "7742808  Switzerland  Wheat and products  1963                     741.0   \n",
       "7742809  Switzerland  Wheat and products  1964                     711.0   \n",
       "7742810  Switzerland  Wheat and products  1965                     736.0   \n",
       "\n",
       "         Export Quantity  Fat supply quantity (g/capita/day)   Feed   Food  \\\n",
       "7742806              5.0                                3.55   24.0  649.0   \n",
       "7742807              6.0                                2.95  187.0  550.0   \n",
       "7742808              6.0                                3.08  120.0  587.0   \n",
       "7742809              7.0                                2.86  115.0  555.0   \n",
       "7742810              7.0                                2.94  119.0  581.0   \n",
       "\n",
       "         Food supply (kcal/capita/day)  Food supply quantity (kg/capita/yr)  \\\n",
       "7742806                          896.0                               120.31   \n",
       "7742807                          745.0                                99.98   \n",
       "7742808                          778.0                               104.42   \n",
       "7742809                          722.0                                96.91   \n",
       "7742810                          742.0                                99.58   \n",
       "\n",
       "         Import Quantity  Losses  Other uses  Processing  Production  \\\n",
       "7742806            403.0     9.0         7.0         0.0       316.0   \n",
       "7742807            433.0    12.0         6.0         0.0       420.0   \n",
       "7742808            356.0     8.0         7.0         0.0       303.0   \n",
       "7742809            370.0    11.0         8.0         0.0       388.0   \n",
       "7742810            427.0    10.0         5.0         0.0       352.0   \n",
       "\n",
       "         Protein supply quantity (g/capita/day)  Seed  Stock Variation  \\\n",
       "7742806                                   29.18  22.0             -3.0   \n",
       "7742807                                   24.24  20.0            -72.0   \n",
       "7742808                                   25.32  20.0             89.0   \n",
       "7742809                                   23.50  21.0            -41.0   \n",
       "7742810                                   24.15  21.0            -36.0   \n",
       "\n",
       "         Total Population - Both sexes  \n",
       "7742806                            NaN  \n",
       "7742807                            NaN  \n",
       "7742808                            NaN  \n",
       "7742809                            NaN  \n",
       "7742810                            NaN  "
      ]
     },
     "execution_count": 421,
     "metadata": {},
     "output_type": "execute_result"
    }
   ],
   "source": [
    "food_balance_df_CH_wide_subgroups_items = food_balance_df_CH_wide.loc[food_balance_df_CH_wide.Item.isin(items_subgroups_array)]\n",
    "food_balance_df_CH_wide_subgroups_items.head()"
   ]
  },
  {
   "cell_type": "code",
   "execution_count": 422,
   "metadata": {},
   "outputs": [
    {
     "data": {
      "text/html": [
       "<div>\n",
       "<style scoped>\n",
       "    .dataframe tbody tr th:only-of-type {\n",
       "        vertical-align: middle;\n",
       "    }\n",
       "\n",
       "    .dataframe tbody tr th {\n",
       "        vertical-align: top;\n",
       "    }\n",
       "\n",
       "    .dataframe thead th {\n",
       "        text-align: right;\n",
       "    }\n",
       "</style>\n",
       "<table border=\"1\" class=\"dataframe\">\n",
       "  <thead>\n",
       "    <tr style=\"text-align: right;\">\n",
       "      <th></th>\n",
       "      <th>Domestic supply quantity</th>\n",
       "      <th>Export Quantity</th>\n",
       "      <th>Fat supply quantity (g/capita/day)</th>\n",
       "      <th>Feed</th>\n",
       "      <th>Food</th>\n",
       "      <th>Food supply (kcal/capita/day)</th>\n",
       "      <th>Food supply quantity (kg/capita/yr)</th>\n",
       "      <th>Import Quantity</th>\n",
       "      <th>Losses</th>\n",
       "      <th>Other uses</th>\n",
       "      <th>Processing</th>\n",
       "      <th>Production</th>\n",
       "      <th>Protein supply quantity (g/capita/day)</th>\n",
       "      <th>Seed</th>\n",
       "      <th>Stock Variation</th>\n",
       "      <th>Total Population - Both sexes</th>\n",
       "    </tr>\n",
       "    <tr>\n",
       "      <th>Year</th>\n",
       "      <th></th>\n",
       "      <th></th>\n",
       "      <th></th>\n",
       "      <th></th>\n",
       "      <th></th>\n",
       "      <th></th>\n",
       "      <th></th>\n",
       "      <th></th>\n",
       "      <th></th>\n",
       "      <th></th>\n",
       "      <th></th>\n",
       "      <th></th>\n",
       "      <th></th>\n",
       "      <th></th>\n",
       "      <th></th>\n",
       "      <th></th>\n",
       "    </tr>\n",
       "  </thead>\n",
       "  <tbody>\n",
       "    <tr>\n",
       "      <td>1961</td>\n",
       "      <td>9315.0</td>\n",
       "      <td>618.0</td>\n",
       "      <td>401.44</td>\n",
       "      <td>2422.0</td>\n",
       "      <td>5565.0</td>\n",
       "      <td>10728.0</td>\n",
       "      <td>1032.04</td>\n",
       "      <td>2693.0</td>\n",
       "      <td>227.0</td>\n",
       "      <td>144.0</td>\n",
       "      <td>813.0</td>\n",
       "      <td>7132.0</td>\n",
       "      <td>284.95</td>\n",
       "      <td>146.0</td>\n",
       "      <td>110.0</td>\n",
       "      <td>0.0</td>\n",
       "    </tr>\n",
       "    <tr>\n",
       "      <td>1962</td>\n",
       "      <td>9768.0</td>\n",
       "      <td>563.0</td>\n",
       "      <td>414.78</td>\n",
       "      <td>2695.0</td>\n",
       "      <td>5749.0</td>\n",
       "      <td>10449.0</td>\n",
       "      <td>1044.90</td>\n",
       "      <td>2906.0</td>\n",
       "      <td>216.0</td>\n",
       "      <td>172.0</td>\n",
       "      <td>795.0</td>\n",
       "      <td>7368.0</td>\n",
       "      <td>269.90</td>\n",
       "      <td>143.0</td>\n",
       "      <td>58.0</td>\n",
       "      <td>0.0</td>\n",
       "    </tr>\n",
       "    <tr>\n",
       "      <td>1963</td>\n",
       "      <td>9796.0</td>\n",
       "      <td>613.0</td>\n",
       "      <td>409.97</td>\n",
       "      <td>2746.0</td>\n",
       "      <td>5711.0</td>\n",
       "      <td>10216.0</td>\n",
       "      <td>1016.72</td>\n",
       "      <td>2846.0</td>\n",
       "      <td>209.0</td>\n",
       "      <td>186.0</td>\n",
       "      <td>795.0</td>\n",
       "      <td>7315.0</td>\n",
       "      <td>273.85</td>\n",
       "      <td>149.0</td>\n",
       "      <td>250.0</td>\n",
       "      <td>0.0</td>\n",
       "    </tr>\n",
       "    <tr>\n",
       "      <td>1964</td>\n",
       "      <td>9985.0</td>\n",
       "      <td>598.0</td>\n",
       "      <td>420.12</td>\n",
       "      <td>2663.0</td>\n",
       "      <td>5846.0</td>\n",
       "      <td>10340.0</td>\n",
       "      <td>1020.30</td>\n",
       "      <td>3153.0</td>\n",
       "      <td>200.0</td>\n",
       "      <td>173.0</td>\n",
       "      <td>970.0</td>\n",
       "      <td>7487.0</td>\n",
       "      <td>272.51</td>\n",
       "      <td>138.0</td>\n",
       "      <td>-53.0</td>\n",
       "      <td>0.0</td>\n",
       "    </tr>\n",
       "    <tr>\n",
       "      <td>1965</td>\n",
       "      <td>9990.0</td>\n",
       "      <td>612.0</td>\n",
       "      <td>411.94</td>\n",
       "      <td>2620.0</td>\n",
       "      <td>6017.0</td>\n",
       "      <td>10335.0</td>\n",
       "      <td>1031.84</td>\n",
       "      <td>3514.0</td>\n",
       "      <td>176.0</td>\n",
       "      <td>190.0</td>\n",
       "      <td>858.0</td>\n",
       "      <td>6843.0</td>\n",
       "      <td>275.80</td>\n",
       "      <td>131.0</td>\n",
       "      <td>245.0</td>\n",
       "      <td>0.0</td>\n",
       "    </tr>\n",
       "  </tbody>\n",
       "</table>\n",
       "</div>"
      ],
      "text/plain": [
       "      Domestic supply quantity  Export Quantity  \\\n",
       "Year                                              \n",
       "1961                    9315.0            618.0   \n",
       "1962                    9768.0            563.0   \n",
       "1963                    9796.0            613.0   \n",
       "1964                    9985.0            598.0   \n",
       "1965                    9990.0            612.0   \n",
       "\n",
       "      Fat supply quantity (g/capita/day)    Feed    Food  \\\n",
       "Year                                                       \n",
       "1961                              401.44  2422.0  5565.0   \n",
       "1962                              414.78  2695.0  5749.0   \n",
       "1963                              409.97  2746.0  5711.0   \n",
       "1964                              420.12  2663.0  5846.0   \n",
       "1965                              411.94  2620.0  6017.0   \n",
       "\n",
       "      Food supply (kcal/capita/day)  Food supply quantity (kg/capita/yr)  \\\n",
       "Year                                                                       \n",
       "1961                        10728.0                              1032.04   \n",
       "1962                        10449.0                              1044.90   \n",
       "1963                        10216.0                              1016.72   \n",
       "1964                        10340.0                              1020.30   \n",
       "1965                        10335.0                              1031.84   \n",
       "\n",
       "      Import Quantity  Losses  Other uses  Processing  Production  \\\n",
       "Year                                                                \n",
       "1961           2693.0   227.0       144.0       813.0      7132.0   \n",
       "1962           2906.0   216.0       172.0       795.0      7368.0   \n",
       "1963           2846.0   209.0       186.0       795.0      7315.0   \n",
       "1964           3153.0   200.0       173.0       970.0      7487.0   \n",
       "1965           3514.0   176.0       190.0       858.0      6843.0   \n",
       "\n",
       "      Protein supply quantity (g/capita/day)   Seed  Stock Variation  \\\n",
       "Year                                                                   \n",
       "1961                                  284.95  146.0            110.0   \n",
       "1962                                  269.90  143.0             58.0   \n",
       "1963                                  273.85  149.0            250.0   \n",
       "1964                                  272.51  138.0            -53.0   \n",
       "1965                                  275.80  131.0            245.0   \n",
       "\n",
       "      Total Population - Both sexes  \n",
       "Year                                 \n",
       "1961                            0.0  \n",
       "1962                            0.0  \n",
       "1963                            0.0  \n",
       "1964                            0.0  \n",
       "1965                            0.0  "
      ]
     },
     "execution_count": 422,
     "metadata": {},
     "output_type": "execute_result"
    }
   ],
   "source": [
    "\"\"\"Inspect the food supply and others per year for groups items\"\"\"\n",
    "food_balance_df_CH_wide_groups_items.groupby('Year').sum().head()"
   ]
  },
  {
   "cell_type": "code",
   "execution_count": 423,
   "metadata": {},
   "outputs": [
    {
     "data": {
      "text/html": [
       "<div>\n",
       "<style scoped>\n",
       "    .dataframe tbody tr th:only-of-type {\n",
       "        vertical-align: middle;\n",
       "    }\n",
       "\n",
       "    .dataframe tbody tr th {\n",
       "        vertical-align: top;\n",
       "    }\n",
       "\n",
       "    .dataframe thead th {\n",
       "        text-align: right;\n",
       "    }\n",
       "</style>\n",
       "<table border=\"1\" class=\"dataframe\">\n",
       "  <thead>\n",
       "    <tr style=\"text-align: right;\">\n",
       "      <th></th>\n",
       "      <th>Domestic supply quantity</th>\n",
       "      <th>Export Quantity</th>\n",
       "      <th>Fat supply quantity (g/capita/day)</th>\n",
       "      <th>Feed</th>\n",
       "      <th>Food</th>\n",
       "      <th>Food supply (kcal/capita/day)</th>\n",
       "      <th>Food supply quantity (kg/capita/yr)</th>\n",
       "      <th>Import Quantity</th>\n",
       "      <th>Losses</th>\n",
       "      <th>Other uses</th>\n",
       "      <th>Processing</th>\n",
       "      <th>Production</th>\n",
       "      <th>Protein supply quantity (g/capita/day)</th>\n",
       "      <th>Seed</th>\n",
       "      <th>Stock Variation</th>\n",
       "      <th>Total Population - Both sexes</th>\n",
       "    </tr>\n",
       "    <tr>\n",
       "      <th>Year</th>\n",
       "      <th></th>\n",
       "      <th></th>\n",
       "      <th></th>\n",
       "      <th></th>\n",
       "      <th></th>\n",
       "      <th></th>\n",
       "      <th></th>\n",
       "      <th></th>\n",
       "      <th></th>\n",
       "      <th></th>\n",
       "      <th></th>\n",
       "      <th></th>\n",
       "      <th></th>\n",
       "      <th></th>\n",
       "      <th></th>\n",
       "      <th></th>\n",
       "    </tr>\n",
       "  </thead>\n",
       "  <tbody>\n",
       "    <tr>\n",
       "      <td>1961</td>\n",
       "      <td>9316.0</td>\n",
       "      <td>618.0</td>\n",
       "      <td>133.66</td>\n",
       "      <td>2422.0</td>\n",
       "      <td>5563.0</td>\n",
       "      <td>3573.0</td>\n",
       "      <td>1031.86</td>\n",
       "      <td>2690.0</td>\n",
       "      <td>226.0</td>\n",
       "      <td>143.0</td>\n",
       "      <td>814.0</td>\n",
       "      <td>7131.0</td>\n",
       "      <td>94.83</td>\n",
       "      <td>146.0</td>\n",
       "      <td>110.0</td>\n",
       "      <td>0.0</td>\n",
       "    </tr>\n",
       "    <tr>\n",
       "      <td>1962</td>\n",
       "      <td>9764.0</td>\n",
       "      <td>563.0</td>\n",
       "      <td>138.16</td>\n",
       "      <td>2695.0</td>\n",
       "      <td>5750.0</td>\n",
       "      <td>3480.0</td>\n",
       "      <td>1044.81</td>\n",
       "      <td>2904.0</td>\n",
       "      <td>215.0</td>\n",
       "      <td>171.0</td>\n",
       "      <td>795.0</td>\n",
       "      <td>7369.0</td>\n",
       "      <td>89.91</td>\n",
       "      <td>143.0</td>\n",
       "      <td>59.0</td>\n",
       "      <td>0.0</td>\n",
       "    </tr>\n",
       "    <tr>\n",
       "      <td>1963</td>\n",
       "      <td>9796.0</td>\n",
       "      <td>614.0</td>\n",
       "      <td>136.52</td>\n",
       "      <td>2746.0</td>\n",
       "      <td>5714.0</td>\n",
       "      <td>3405.0</td>\n",
       "      <td>1016.60</td>\n",
       "      <td>2844.0</td>\n",
       "      <td>208.0</td>\n",
       "      <td>185.0</td>\n",
       "      <td>797.0</td>\n",
       "      <td>7317.0</td>\n",
       "      <td>91.18</td>\n",
       "      <td>149.0</td>\n",
       "      <td>249.0</td>\n",
       "      <td>0.0</td>\n",
       "    </tr>\n",
       "    <tr>\n",
       "      <td>1964</td>\n",
       "      <td>9986.0</td>\n",
       "      <td>597.0</td>\n",
       "      <td>139.92</td>\n",
       "      <td>2662.0</td>\n",
       "      <td>5847.0</td>\n",
       "      <td>3444.0</td>\n",
       "      <td>1020.12</td>\n",
       "      <td>3145.0</td>\n",
       "      <td>200.0</td>\n",
       "      <td>173.0</td>\n",
       "      <td>971.0</td>\n",
       "      <td>7488.0</td>\n",
       "      <td>90.75</td>\n",
       "      <td>138.0</td>\n",
       "      <td>-54.0</td>\n",
       "      <td>0.0</td>\n",
       "    </tr>\n",
       "    <tr>\n",
       "      <td>1965</td>\n",
       "      <td>9986.0</td>\n",
       "      <td>609.0</td>\n",
       "      <td>137.15</td>\n",
       "      <td>2620.0</td>\n",
       "      <td>6017.0</td>\n",
       "      <td>3446.0</td>\n",
       "      <td>1031.64</td>\n",
       "      <td>3511.0</td>\n",
       "      <td>177.0</td>\n",
       "      <td>189.0</td>\n",
       "      <td>859.0</td>\n",
       "      <td>6842.0</td>\n",
       "      <td>91.76</td>\n",
       "      <td>131.0</td>\n",
       "      <td>246.0</td>\n",
       "      <td>0.0</td>\n",
       "    </tr>\n",
       "  </tbody>\n",
       "</table>\n",
       "</div>"
      ],
      "text/plain": [
       "      Domestic supply quantity  Export Quantity  \\\n",
       "Year                                              \n",
       "1961                    9316.0            618.0   \n",
       "1962                    9764.0            563.0   \n",
       "1963                    9796.0            614.0   \n",
       "1964                    9986.0            597.0   \n",
       "1965                    9986.0            609.0   \n",
       "\n",
       "      Fat supply quantity (g/capita/day)    Feed    Food  \\\n",
       "Year                                                       \n",
       "1961                              133.66  2422.0  5563.0   \n",
       "1962                              138.16  2695.0  5750.0   \n",
       "1963                              136.52  2746.0  5714.0   \n",
       "1964                              139.92  2662.0  5847.0   \n",
       "1965                              137.15  2620.0  6017.0   \n",
       "\n",
       "      Food supply (kcal/capita/day)  Food supply quantity (kg/capita/yr)  \\\n",
       "Year                                                                       \n",
       "1961                         3573.0                              1031.86   \n",
       "1962                         3480.0                              1044.81   \n",
       "1963                         3405.0                              1016.60   \n",
       "1964                         3444.0                              1020.12   \n",
       "1965                         3446.0                              1031.64   \n",
       "\n",
       "      Import Quantity  Losses  Other uses  Processing  Production  \\\n",
       "Year                                                                \n",
       "1961           2690.0   226.0       143.0       814.0      7131.0   \n",
       "1962           2904.0   215.0       171.0       795.0      7369.0   \n",
       "1963           2844.0   208.0       185.0       797.0      7317.0   \n",
       "1964           3145.0   200.0       173.0       971.0      7488.0   \n",
       "1965           3511.0   177.0       189.0       859.0      6842.0   \n",
       "\n",
       "      Protein supply quantity (g/capita/day)   Seed  Stock Variation  \\\n",
       "Year                                                                   \n",
       "1961                                   94.83  146.0            110.0   \n",
       "1962                                   89.91  143.0             59.0   \n",
       "1963                                   91.18  149.0            249.0   \n",
       "1964                                   90.75  138.0            -54.0   \n",
       "1965                                   91.76  131.0            246.0   \n",
       "\n",
       "      Total Population - Both sexes  \n",
       "Year                                 \n",
       "1961                            0.0  \n",
       "1962                            0.0  \n",
       "1963                            0.0  \n",
       "1964                            0.0  \n",
       "1965                            0.0  "
      ]
     },
     "execution_count": 423,
     "metadata": {},
     "output_type": "execute_result"
    }
   ],
   "source": [
    "\"\"\"Inspect the food supply and others per year for subgroups items\"\"\"\n",
    "food_balance_df_CH_wide_subgroups_items.groupby('Year').sum().head()"
   ]
  },
  {
   "cell_type": "markdown",
   "metadata": {},
   "source": [
    "#### Food Balance Comments 2\n",
    "\n",
    "Since we still have a very big value for `Food Supply (kcal/capita/day)` for `food_balance_df_CH_wide_groups_items`, we investigated the potential error and found that there are still 2 more levels; the first is contain only 2 elements ('Animal Products' and 'Vegetables Product') and the second is 'Grand Total', which is the sum for all the subgroup_items.\n",
    "\n",
    "Let's clean this."
   ]
  },
  {
   "cell_type": "code",
   "execution_count": 424,
   "metadata": {},
   "outputs": [],
   "source": [
    "first_level = ['Grand Total']\n",
    "second_level = ['Animal Products', 'Vegetal Products']\n",
    "\n",
    "food_balance_df_CH_wide_groups_items_ani_vege = food_balance_df_CH_wide_groups_items.loc[food_balance_df_CH_wide_groups_items.Item.isin(second_level)]\n",
    "food_balance_df_CH_wide_groups_items = food_balance_df_CH_wide_groups_items.loc[~food_balance_df_CH_wide_groups_items.Item.isin(first_level + second_level)]"
   ]
  },
  {
   "cell_type": "code",
   "execution_count": 425,
   "metadata": {},
   "outputs": [
    {
     "data": {
      "text/html": [
       "<div>\n",
       "<style scoped>\n",
       "    .dataframe tbody tr th:only-of-type {\n",
       "        vertical-align: middle;\n",
       "    }\n",
       "\n",
       "    .dataframe tbody tr th {\n",
       "        vertical-align: top;\n",
       "    }\n",
       "\n",
       "    .dataframe thead th {\n",
       "        text-align: right;\n",
       "    }\n",
       "</style>\n",
       "<table border=\"1\" class=\"dataframe\">\n",
       "  <thead>\n",
       "    <tr style=\"text-align: right;\">\n",
       "      <th></th>\n",
       "      <th>Area</th>\n",
       "      <th>Item</th>\n",
       "      <th>Year</th>\n",
       "      <th>Domestic supply quantity</th>\n",
       "      <th>Export Quantity</th>\n",
       "      <th>Fat supply quantity (g/capita/day)</th>\n",
       "      <th>Feed</th>\n",
       "      <th>Food</th>\n",
       "      <th>Food supply (kcal/capita/day)</th>\n",
       "      <th>Food supply quantity (kg/capita/yr)</th>\n",
       "      <th>Import Quantity</th>\n",
       "      <th>Losses</th>\n",
       "      <th>Other uses</th>\n",
       "      <th>Processing</th>\n",
       "      <th>Production</th>\n",
       "      <th>Protein supply quantity (g/capita/day)</th>\n",
       "      <th>Seed</th>\n",
       "      <th>Stock Variation</th>\n",
       "      <th>Total Population - Both sexes</th>\n",
       "    </tr>\n",
       "  </thead>\n",
       "  <tbody>\n",
       "    <tr>\n",
       "      <td>7742011</td>\n",
       "      <td>Switzerland</td>\n",
       "      <td>Cereals - Excluding Beer</td>\n",
       "      <td>1961</td>\n",
       "      <td>1504.0</td>\n",
       "      <td>5.0</td>\n",
       "      <td>4.22</td>\n",
       "      <td>592.0</td>\n",
       "      <td>749.0</td>\n",
       "      <td>1020.0</td>\n",
       "      <td>138.88</td>\n",
       "      <td>997.0</td>\n",
       "      <td>14.0</td>\n",
       "      <td>24.0</td>\n",
       "      <td>88.0</td>\n",
       "      <td>518.0</td>\n",
       "      <td>32.43</td>\n",
       "      <td>37.0</td>\n",
       "      <td>-5.0</td>\n",
       "      <td>NaN</td>\n",
       "    </tr>\n",
       "    <tr>\n",
       "      <td>7742012</td>\n",
       "      <td>Switzerland</td>\n",
       "      <td>Cereals - Excluding Beer</td>\n",
       "      <td>1962</td>\n",
       "      <td>1705.0</td>\n",
       "      <td>6.0</td>\n",
       "      <td>3.55</td>\n",
       "      <td>888.0</td>\n",
       "      <td>646.0</td>\n",
       "      <td>868.0</td>\n",
       "      <td>117.40</td>\n",
       "      <td>1129.0</td>\n",
       "      <td>20.0</td>\n",
       "      <td>22.0</td>\n",
       "      <td>91.0</td>\n",
       "      <td>697.0</td>\n",
       "      <td>27.39</td>\n",
       "      <td>38.0</td>\n",
       "      <td>-115.0</td>\n",
       "      <td>NaN</td>\n",
       "    </tr>\n",
       "    <tr>\n",
       "      <td>7742013</td>\n",
       "      <td>Switzerland</td>\n",
       "      <td>Cereals - Excluding Beer</td>\n",
       "      <td>1963</td>\n",
       "      <td>1748.0</td>\n",
       "      <td>7.0</td>\n",
       "      <td>3.75</td>\n",
       "      <td>877.0</td>\n",
       "      <td>701.0</td>\n",
       "      <td>920.0</td>\n",
       "      <td>124.84</td>\n",
       "      <td>1102.0</td>\n",
       "      <td>14.0</td>\n",
       "      <td>24.0</td>\n",
       "      <td>97.0</td>\n",
       "      <td>515.0</td>\n",
       "      <td>28.97</td>\n",
       "      <td>34.0</td>\n",
       "      <td>139.0</td>\n",
       "      <td>NaN</td>\n",
       "    </tr>\n",
       "    <tr>\n",
       "      <td>7742014</td>\n",
       "      <td>Switzerland</td>\n",
       "      <td>Cereals - Excluding Beer</td>\n",
       "      <td>1964</td>\n",
       "      <td>1689.0</td>\n",
       "      <td>8.0</td>\n",
       "      <td>3.55</td>\n",
       "      <td>829.0</td>\n",
       "      <td>682.0</td>\n",
       "      <td>872.0</td>\n",
       "      <td>118.99</td>\n",
       "      <td>1129.0</td>\n",
       "      <td>18.0</td>\n",
       "      <td>24.0</td>\n",
       "      <td>100.0</td>\n",
       "      <td>632.0</td>\n",
       "      <td>27.38</td>\n",
       "      <td>37.0</td>\n",
       "      <td>-64.0</td>\n",
       "      <td>NaN</td>\n",
       "    </tr>\n",
       "    <tr>\n",
       "      <td>7742015</td>\n",
       "      <td>Switzerland</td>\n",
       "      <td>Cereals - Excluding Beer</td>\n",
       "      <td>1965</td>\n",
       "      <td>1759.0</td>\n",
       "      <td>9.0</td>\n",
       "      <td>3.75</td>\n",
       "      <td>866.0</td>\n",
       "      <td>722.0</td>\n",
       "      <td>903.0</td>\n",
       "      <td>123.89</td>\n",
       "      <td>1228.0</td>\n",
       "      <td>17.0</td>\n",
       "      <td>22.0</td>\n",
       "      <td>99.0</td>\n",
       "      <td>558.0</td>\n",
       "      <td>28.42</td>\n",
       "      <td>34.0</td>\n",
       "      <td>-18.0</td>\n",
       "      <td>NaN</td>\n",
       "    </tr>\n",
       "    <tr>\n",
       "      <td>...</td>\n",
       "      <td>...</td>\n",
       "      <td>...</td>\n",
       "      <td>...</td>\n",
       "      <td>...</td>\n",
       "      <td>...</td>\n",
       "      <td>...</td>\n",
       "      <td>...</td>\n",
       "      <td>...</td>\n",
       "      <td>...</td>\n",
       "      <td>...</td>\n",
       "      <td>...</td>\n",
       "      <td>...</td>\n",
       "      <td>...</td>\n",
       "      <td>...</td>\n",
       "      <td>...</td>\n",
       "      <td>...</td>\n",
       "      <td>...</td>\n",
       "      <td>...</td>\n",
       "      <td>...</td>\n",
       "    </tr>\n",
       "    <tr>\n",
       "      <td>7800942</td>\n",
       "      <td>Switzerland</td>\n",
       "      <td>Miscellaneous</td>\n",
       "      <td>2009</td>\n",
       "      <td>-17.0</td>\n",
       "      <td>19.0</td>\n",
       "      <td>0.00</td>\n",
       "      <td>NaN</td>\n",
       "      <td>0.0</td>\n",
       "      <td>0.0</td>\n",
       "      <td>0.00</td>\n",
       "      <td>3.0</td>\n",
       "      <td>NaN</td>\n",
       "      <td>NaN</td>\n",
       "      <td>NaN</td>\n",
       "      <td>NaN</td>\n",
       "      <td>0.00</td>\n",
       "      <td>NaN</td>\n",
       "      <td>NaN</td>\n",
       "      <td>NaN</td>\n",
       "    </tr>\n",
       "    <tr>\n",
       "      <td>7800943</td>\n",
       "      <td>Switzerland</td>\n",
       "      <td>Miscellaneous</td>\n",
       "      <td>2010</td>\n",
       "      <td>-24.0</td>\n",
       "      <td>27.0</td>\n",
       "      <td>0.00</td>\n",
       "      <td>NaN</td>\n",
       "      <td>0.0</td>\n",
       "      <td>0.0</td>\n",
       "      <td>0.00</td>\n",
       "      <td>3.0</td>\n",
       "      <td>NaN</td>\n",
       "      <td>NaN</td>\n",
       "      <td>NaN</td>\n",
       "      <td>NaN</td>\n",
       "      <td>0.00</td>\n",
       "      <td>NaN</td>\n",
       "      <td>NaN</td>\n",
       "      <td>NaN</td>\n",
       "    </tr>\n",
       "    <tr>\n",
       "      <td>7800944</td>\n",
       "      <td>Switzerland</td>\n",
       "      <td>Miscellaneous</td>\n",
       "      <td>2011</td>\n",
       "      <td>-24.0</td>\n",
       "      <td>27.0</td>\n",
       "      <td>0.00</td>\n",
       "      <td>NaN</td>\n",
       "      <td>0.0</td>\n",
       "      <td>0.0</td>\n",
       "      <td>0.00</td>\n",
       "      <td>3.0</td>\n",
       "      <td>NaN</td>\n",
       "      <td>NaN</td>\n",
       "      <td>NaN</td>\n",
       "      <td>NaN</td>\n",
       "      <td>0.01</td>\n",
       "      <td>NaN</td>\n",
       "      <td>NaN</td>\n",
       "      <td>NaN</td>\n",
       "    </tr>\n",
       "    <tr>\n",
       "      <td>7800945</td>\n",
       "      <td>Switzerland</td>\n",
       "      <td>Miscellaneous</td>\n",
       "      <td>2012</td>\n",
       "      <td>-31.0</td>\n",
       "      <td>34.0</td>\n",
       "      <td>0.00</td>\n",
       "      <td>NaN</td>\n",
       "      <td>0.0</td>\n",
       "      <td>0.0</td>\n",
       "      <td>0.00</td>\n",
       "      <td>3.0</td>\n",
       "      <td>NaN</td>\n",
       "      <td>NaN</td>\n",
       "      <td>NaN</td>\n",
       "      <td>NaN</td>\n",
       "      <td>0.01</td>\n",
       "      <td>NaN</td>\n",
       "      <td>NaN</td>\n",
       "      <td>NaN</td>\n",
       "    </tr>\n",
       "    <tr>\n",
       "      <td>7800946</td>\n",
       "      <td>Switzerland</td>\n",
       "      <td>Miscellaneous</td>\n",
       "      <td>2013</td>\n",
       "      <td>-37.0</td>\n",
       "      <td>39.0</td>\n",
       "      <td>0.00</td>\n",
       "      <td>NaN</td>\n",
       "      <td>0.0</td>\n",
       "      <td>0.0</td>\n",
       "      <td>0.00</td>\n",
       "      <td>3.0</td>\n",
       "      <td>NaN</td>\n",
       "      <td>NaN</td>\n",
       "      <td>NaN</td>\n",
       "      <td>NaN</td>\n",
       "      <td>0.00</td>\n",
       "      <td>NaN</td>\n",
       "      <td>NaN</td>\n",
       "      <td>NaN</td>\n",
       "    </tr>\n",
       "  </tbody>\n",
       "</table>\n",
       "<p>1113 rows × 19 columns</p>\n",
       "</div>"
      ],
      "text/plain": [
       "                Area                      Item  Year  \\\n",
       "7742011  Switzerland  Cereals - Excluding Beer  1961   \n",
       "7742012  Switzerland  Cereals - Excluding Beer  1962   \n",
       "7742013  Switzerland  Cereals - Excluding Beer  1963   \n",
       "7742014  Switzerland  Cereals - Excluding Beer  1964   \n",
       "7742015  Switzerland  Cereals - Excluding Beer  1965   \n",
       "...              ...                       ...   ...   \n",
       "7800942  Switzerland             Miscellaneous  2009   \n",
       "7800943  Switzerland             Miscellaneous  2010   \n",
       "7800944  Switzerland             Miscellaneous  2011   \n",
       "7800945  Switzerland             Miscellaneous  2012   \n",
       "7800946  Switzerland             Miscellaneous  2013   \n",
       "\n",
       "         Domestic supply quantity  Export Quantity  \\\n",
       "7742011                    1504.0              5.0   \n",
       "7742012                    1705.0              6.0   \n",
       "7742013                    1748.0              7.0   \n",
       "7742014                    1689.0              8.0   \n",
       "7742015                    1759.0              9.0   \n",
       "...                           ...              ...   \n",
       "7800942                     -17.0             19.0   \n",
       "7800943                     -24.0             27.0   \n",
       "7800944                     -24.0             27.0   \n",
       "7800945                     -31.0             34.0   \n",
       "7800946                     -37.0             39.0   \n",
       "\n",
       "         Fat supply quantity (g/capita/day)   Feed   Food  \\\n",
       "7742011                                4.22  592.0  749.0   \n",
       "7742012                                3.55  888.0  646.0   \n",
       "7742013                                3.75  877.0  701.0   \n",
       "7742014                                3.55  829.0  682.0   \n",
       "7742015                                3.75  866.0  722.0   \n",
       "...                                     ...    ...    ...   \n",
       "7800942                                0.00    NaN    0.0   \n",
       "7800943                                0.00    NaN    0.0   \n",
       "7800944                                0.00    NaN    0.0   \n",
       "7800945                                0.00    NaN    0.0   \n",
       "7800946                                0.00    NaN    0.0   \n",
       "\n",
       "         Food supply (kcal/capita/day)  Food supply quantity (kg/capita/yr)  \\\n",
       "7742011                         1020.0                               138.88   \n",
       "7742012                          868.0                               117.40   \n",
       "7742013                          920.0                               124.84   \n",
       "7742014                          872.0                               118.99   \n",
       "7742015                          903.0                               123.89   \n",
       "...                                ...                                  ...   \n",
       "7800942                            0.0                                 0.00   \n",
       "7800943                            0.0                                 0.00   \n",
       "7800944                            0.0                                 0.00   \n",
       "7800945                            0.0                                 0.00   \n",
       "7800946                            0.0                                 0.00   \n",
       "\n",
       "         Import Quantity  Losses  Other uses  Processing  Production  \\\n",
       "7742011            997.0    14.0        24.0        88.0       518.0   \n",
       "7742012           1129.0    20.0        22.0        91.0       697.0   \n",
       "7742013           1102.0    14.0        24.0        97.0       515.0   \n",
       "7742014           1129.0    18.0        24.0       100.0       632.0   \n",
       "7742015           1228.0    17.0        22.0        99.0       558.0   \n",
       "...                  ...     ...         ...         ...         ...   \n",
       "7800942              3.0     NaN         NaN         NaN         NaN   \n",
       "7800943              3.0     NaN         NaN         NaN         NaN   \n",
       "7800944              3.0     NaN         NaN         NaN         NaN   \n",
       "7800945              3.0     NaN         NaN         NaN         NaN   \n",
       "7800946              3.0     NaN         NaN         NaN         NaN   \n",
       "\n",
       "         Protein supply quantity (g/capita/day)  Seed  Stock Variation  \\\n",
       "7742011                                   32.43  37.0             -5.0   \n",
       "7742012                                   27.39  38.0           -115.0   \n",
       "7742013                                   28.97  34.0            139.0   \n",
       "7742014                                   27.38  37.0            -64.0   \n",
       "7742015                                   28.42  34.0            -18.0   \n",
       "...                                         ...   ...              ...   \n",
       "7800942                                    0.00   NaN              NaN   \n",
       "7800943                                    0.00   NaN              NaN   \n",
       "7800944                                    0.01   NaN              NaN   \n",
       "7800945                                    0.01   NaN              NaN   \n",
       "7800946                                    0.00   NaN              NaN   \n",
       "\n",
       "         Total Population - Both sexes  \n",
       "7742011                            NaN  \n",
       "7742012                            NaN  \n",
       "7742013                            NaN  \n",
       "7742014                            NaN  \n",
       "7742015                            NaN  \n",
       "...                                ...  \n",
       "7800942                            NaN  \n",
       "7800943                            NaN  \n",
       "7800944                            NaN  \n",
       "7800945                            NaN  \n",
       "7800946                            NaN  \n",
       "\n",
       "[1113 rows x 19 columns]"
      ]
     },
     "execution_count": 425,
     "metadata": {},
     "output_type": "execute_result"
    }
   ],
   "source": [
    "food_balance_df_CH_wide_groups_items"
   ]
  },
  {
   "cell_type": "code",
   "execution_count": 426,
   "metadata": {},
   "outputs": [],
   "source": [
    "top_groups = food_balance_df_CH_wide_groups_items[food_balance_df_CH_wide_groups_items['Year'] == 2013].sort_values('Food supply quantity (kg/capita/yr)', ascending = False)[['Item', 'Food supply quantity (kg/capita/yr)']]"
   ]
  },
  {
   "cell_type": "code",
   "execution_count": 427,
   "metadata": {},
   "outputs": [],
   "source": [
    "top8_groups = top_groups[top_groups['Food supply quantity (kg/capita/yr)'] > 20]['Item']\n",
    "top8_groups"
   ]
  },
  {
   "cell_type": "code",
   "execution_count": 429,
   "metadata": {},
   "outputs": [
    {
     "data": {
      "text/html": [
       "<div>\n",
       "<style scoped>\n",
       "    .dataframe tbody tr th:only-of-type {\n",
       "        vertical-align: middle;\n",
       "    }\n",
       "\n",
       "    .dataframe tbody tr th {\n",
       "        vertical-align: top;\n",
       "    }\n",
       "\n",
       "    .dataframe thead th {\n",
       "        text-align: right;\n",
       "    }\n",
       "</style>\n",
       "<table border=\"1\" class=\"dataframe\">\n",
       "  <thead>\n",
       "    <tr style=\"text-align: right;\">\n",
       "      <th></th>\n",
       "      <th>Domestic supply quantity</th>\n",
       "      <th>Export Quantity</th>\n",
       "      <th>Fat supply quantity (g/capita/day)</th>\n",
       "      <th>Feed</th>\n",
       "      <th>Food</th>\n",
       "      <th>Food supply (kcal/capita/day)</th>\n",
       "      <th>Food supply quantity (kg/capita/yr)</th>\n",
       "      <th>Import Quantity</th>\n",
       "      <th>Losses</th>\n",
       "      <th>Other uses</th>\n",
       "      <th>Processing</th>\n",
       "      <th>Production</th>\n",
       "      <th>Protein supply quantity (g/capita/day)</th>\n",
       "      <th>Seed</th>\n",
       "      <th>Stock Variation</th>\n",
       "      <th>Total Population - Both sexes</th>\n",
       "    </tr>\n",
       "    <tr>\n",
       "      <th>Year</th>\n",
       "      <th></th>\n",
       "      <th></th>\n",
       "      <th></th>\n",
       "      <th></th>\n",
       "      <th></th>\n",
       "      <th></th>\n",
       "      <th></th>\n",
       "      <th></th>\n",
       "      <th></th>\n",
       "      <th></th>\n",
       "      <th></th>\n",
       "      <th></th>\n",
       "      <th></th>\n",
       "      <th></th>\n",
       "      <th></th>\n",
       "      <th></th>\n",
       "    </tr>\n",
       "  </thead>\n",
       "  <tbody>\n",
       "    <tr>\n",
       "      <td>1961</td>\n",
       "      <td>9315.0</td>\n",
       "      <td>618.0</td>\n",
       "      <td>133.81</td>\n",
       "      <td>2422.0</td>\n",
       "      <td>5565.0</td>\n",
       "      <td>3576.0</td>\n",
       "      <td>1032.04</td>\n",
       "      <td>2693.0</td>\n",
       "      <td>227.0</td>\n",
       "      <td>144.0</td>\n",
       "      <td>813.0</td>\n",
       "      <td>7132.0</td>\n",
       "      <td>94.98</td>\n",
       "      <td>146.0</td>\n",
       "      <td>110.0</td>\n",
       "      <td>0.0</td>\n",
       "    </tr>\n",
       "    <tr>\n",
       "      <td>1962</td>\n",
       "      <td>9768.0</td>\n",
       "      <td>563.0</td>\n",
       "      <td>138.26</td>\n",
       "      <td>2695.0</td>\n",
       "      <td>5749.0</td>\n",
       "      <td>3483.0</td>\n",
       "      <td>1044.90</td>\n",
       "      <td>2906.0</td>\n",
       "      <td>216.0</td>\n",
       "      <td>172.0</td>\n",
       "      <td>795.0</td>\n",
       "      <td>7368.0</td>\n",
       "      <td>89.97</td>\n",
       "      <td>143.0</td>\n",
       "      <td>58.0</td>\n",
       "      <td>0.0</td>\n",
       "    </tr>\n",
       "    <tr>\n",
       "      <td>1963</td>\n",
       "      <td>9796.0</td>\n",
       "      <td>613.0</td>\n",
       "      <td>136.66</td>\n",
       "      <td>2746.0</td>\n",
       "      <td>5711.0</td>\n",
       "      <td>3406.0</td>\n",
       "      <td>1016.72</td>\n",
       "      <td>2846.0</td>\n",
       "      <td>209.0</td>\n",
       "      <td>186.0</td>\n",
       "      <td>795.0</td>\n",
       "      <td>7315.0</td>\n",
       "      <td>91.27</td>\n",
       "      <td>149.0</td>\n",
       "      <td>250.0</td>\n",
       "      <td>0.0</td>\n",
       "    </tr>\n",
       "    <tr>\n",
       "      <td>1964</td>\n",
       "      <td>9985.0</td>\n",
       "      <td>598.0</td>\n",
       "      <td>140.05</td>\n",
       "      <td>2663.0</td>\n",
       "      <td>5846.0</td>\n",
       "      <td>3447.0</td>\n",
       "      <td>1020.30</td>\n",
       "      <td>3153.0</td>\n",
       "      <td>200.0</td>\n",
       "      <td>173.0</td>\n",
       "      <td>970.0</td>\n",
       "      <td>7487.0</td>\n",
       "      <td>90.85</td>\n",
       "      <td>138.0</td>\n",
       "      <td>-53.0</td>\n",
       "      <td>0.0</td>\n",
       "    </tr>\n",
       "    <tr>\n",
       "      <td>1965</td>\n",
       "      <td>9990.0</td>\n",
       "      <td>612.0</td>\n",
       "      <td>137.30</td>\n",
       "      <td>2620.0</td>\n",
       "      <td>6017.0</td>\n",
       "      <td>3445.0</td>\n",
       "      <td>1031.84</td>\n",
       "      <td>3514.0</td>\n",
       "      <td>176.0</td>\n",
       "      <td>190.0</td>\n",
       "      <td>858.0</td>\n",
       "      <td>6843.0</td>\n",
       "      <td>91.94</td>\n",
       "      <td>131.0</td>\n",
       "      <td>245.0</td>\n",
       "      <td>0.0</td>\n",
       "    </tr>\n",
       "  </tbody>\n",
       "</table>\n",
       "</div>"
      ],
      "text/plain": [
       "      Domestic supply quantity  Export Quantity  \\\n",
       "Year                                              \n",
       "1961                    9315.0            618.0   \n",
       "1962                    9768.0            563.0   \n",
       "1963                    9796.0            613.0   \n",
       "1964                    9985.0            598.0   \n",
       "1965                    9990.0            612.0   \n",
       "\n",
       "      Fat supply quantity (g/capita/day)    Feed    Food  \\\n",
       "Year                                                       \n",
       "1961                              133.81  2422.0  5565.0   \n",
       "1962                              138.26  2695.0  5749.0   \n",
       "1963                              136.66  2746.0  5711.0   \n",
       "1964                              140.05  2663.0  5846.0   \n",
       "1965                              137.30  2620.0  6017.0   \n",
       "\n",
       "      Food supply (kcal/capita/day)  Food supply quantity (kg/capita/yr)  \\\n",
       "Year                                                                       \n",
       "1961                         3576.0                              1032.04   \n",
       "1962                         3483.0                              1044.90   \n",
       "1963                         3406.0                              1016.72   \n",
       "1964                         3447.0                              1020.30   \n",
       "1965                         3445.0                              1031.84   \n",
       "\n",
       "      Import Quantity  Losses  Other uses  Processing  Production  \\\n",
       "Year                                                                \n",
       "1961           2693.0   227.0       144.0       813.0      7132.0   \n",
       "1962           2906.0   216.0       172.0       795.0      7368.0   \n",
       "1963           2846.0   209.0       186.0       795.0      7315.0   \n",
       "1964           3153.0   200.0       173.0       970.0      7487.0   \n",
       "1965           3514.0   176.0       190.0       858.0      6843.0   \n",
       "\n",
       "      Protein supply quantity (g/capita/day)   Seed  Stock Variation  \\\n",
       "Year                                                                   \n",
       "1961                                   94.98  146.0            110.0   \n",
       "1962                                   89.97  143.0             58.0   \n",
       "1963                                   91.27  149.0            250.0   \n",
       "1964                                   90.85  138.0            -53.0   \n",
       "1965                                   91.94  131.0            245.0   \n",
       "\n",
       "      Total Population - Both sexes  \n",
       "Year                                 \n",
       "1961                            0.0  \n",
       "1962                            0.0  \n",
       "1963                            0.0  \n",
       "1964                            0.0  \n",
       "1965                            0.0  "
      ]
     },
     "execution_count": 429,
     "metadata": {},
     "output_type": "execute_result"
    }
   ],
   "source": [
    "food_balance_df_CH_wide_groups_items.groupby('Year').sum().head()"
   ]
  },
  {
   "cell_type": "code",
   "execution_count": 430,
   "metadata": {},
   "outputs": [
    {
     "data": {
      "text/html": [
       "<div>\n",
       "<style scoped>\n",
       "    .dataframe tbody tr th:only-of-type {\n",
       "        vertical-align: middle;\n",
       "    }\n",
       "\n",
       "    .dataframe tbody tr th {\n",
       "        vertical-align: top;\n",
       "    }\n",
       "\n",
       "    .dataframe thead th {\n",
       "        text-align: right;\n",
       "    }\n",
       "</style>\n",
       "<table border=\"1\" class=\"dataframe\">\n",
       "  <thead>\n",
       "    <tr style=\"text-align: right;\">\n",
       "      <th></th>\n",
       "      <th>Domestic supply quantity</th>\n",
       "      <th>Export Quantity</th>\n",
       "      <th>Fat supply quantity (g/capita/day)</th>\n",
       "      <th>Feed</th>\n",
       "      <th>Food</th>\n",
       "      <th>Food supply (kcal/capita/day)</th>\n",
       "      <th>Food supply quantity (kg/capita/yr)</th>\n",
       "      <th>Import Quantity</th>\n",
       "      <th>Losses</th>\n",
       "      <th>Other uses</th>\n",
       "      <th>Processing</th>\n",
       "      <th>Production</th>\n",
       "      <th>Protein supply quantity (g/capita/day)</th>\n",
       "      <th>Seed</th>\n",
       "      <th>Stock Variation</th>\n",
       "      <th>Total Population - Both sexes</th>\n",
       "    </tr>\n",
       "    <tr>\n",
       "      <th>Year</th>\n",
       "      <th></th>\n",
       "      <th></th>\n",
       "      <th></th>\n",
       "      <th></th>\n",
       "      <th></th>\n",
       "      <th></th>\n",
       "      <th></th>\n",
       "      <th></th>\n",
       "      <th></th>\n",
       "      <th></th>\n",
       "      <th></th>\n",
       "      <th></th>\n",
       "      <th></th>\n",
       "      <th></th>\n",
       "      <th></th>\n",
       "      <th></th>\n",
       "    </tr>\n",
       "  </thead>\n",
       "  <tbody>\n",
       "    <tr>\n",
       "      <td>1961</td>\n",
       "      <td>0.0</td>\n",
       "      <td>0.0</td>\n",
       "      <td>133.81</td>\n",
       "      <td>0.0</td>\n",
       "      <td>0.0</td>\n",
       "      <td>3576.0</td>\n",
       "      <td>0.0</td>\n",
       "      <td>0.0</td>\n",
       "      <td>0.0</td>\n",
       "      <td>0.0</td>\n",
       "      <td>0.0</td>\n",
       "      <td>0.0</td>\n",
       "      <td>94.99</td>\n",
       "      <td>0.0</td>\n",
       "      <td>0.0</td>\n",
       "      <td>0.0</td>\n",
       "    </tr>\n",
       "    <tr>\n",
       "      <td>1962</td>\n",
       "      <td>0.0</td>\n",
       "      <td>0.0</td>\n",
       "      <td>138.26</td>\n",
       "      <td>0.0</td>\n",
       "      <td>0.0</td>\n",
       "      <td>3483.0</td>\n",
       "      <td>0.0</td>\n",
       "      <td>0.0</td>\n",
       "      <td>0.0</td>\n",
       "      <td>0.0</td>\n",
       "      <td>0.0</td>\n",
       "      <td>0.0</td>\n",
       "      <td>89.97</td>\n",
       "      <td>0.0</td>\n",
       "      <td>0.0</td>\n",
       "      <td>0.0</td>\n",
       "    </tr>\n",
       "    <tr>\n",
       "      <td>1963</td>\n",
       "      <td>0.0</td>\n",
       "      <td>0.0</td>\n",
       "      <td>136.65</td>\n",
       "      <td>0.0</td>\n",
       "      <td>0.0</td>\n",
       "      <td>3405.0</td>\n",
       "      <td>0.0</td>\n",
       "      <td>0.0</td>\n",
       "      <td>0.0</td>\n",
       "      <td>0.0</td>\n",
       "      <td>0.0</td>\n",
       "      <td>0.0</td>\n",
       "      <td>91.29</td>\n",
       "      <td>0.0</td>\n",
       "      <td>0.0</td>\n",
       "      <td>0.0</td>\n",
       "    </tr>\n",
       "    <tr>\n",
       "      <td>1964</td>\n",
       "      <td>0.0</td>\n",
       "      <td>0.0</td>\n",
       "      <td>140.04</td>\n",
       "      <td>0.0</td>\n",
       "      <td>0.0</td>\n",
       "      <td>3447.0</td>\n",
       "      <td>0.0</td>\n",
       "      <td>0.0</td>\n",
       "      <td>0.0</td>\n",
       "      <td>0.0</td>\n",
       "      <td>0.0</td>\n",
       "      <td>0.0</td>\n",
       "      <td>90.83</td>\n",
       "      <td>0.0</td>\n",
       "      <td>0.0</td>\n",
       "      <td>0.0</td>\n",
       "    </tr>\n",
       "    <tr>\n",
       "      <td>1965</td>\n",
       "      <td>0.0</td>\n",
       "      <td>0.0</td>\n",
       "      <td>137.32</td>\n",
       "      <td>0.0</td>\n",
       "      <td>0.0</td>\n",
       "      <td>3445.0</td>\n",
       "      <td>0.0</td>\n",
       "      <td>0.0</td>\n",
       "      <td>0.0</td>\n",
       "      <td>0.0</td>\n",
       "      <td>0.0</td>\n",
       "      <td>0.0</td>\n",
       "      <td>91.93</td>\n",
       "      <td>0.0</td>\n",
       "      <td>0.0</td>\n",
       "      <td>0.0</td>\n",
       "    </tr>\n",
       "  </tbody>\n",
       "</table>\n",
       "</div>"
      ],
      "text/plain": [
       "      Domestic supply quantity  Export Quantity  \\\n",
       "Year                                              \n",
       "1961                       0.0              0.0   \n",
       "1962                       0.0              0.0   \n",
       "1963                       0.0              0.0   \n",
       "1964                       0.0              0.0   \n",
       "1965                       0.0              0.0   \n",
       "\n",
       "      Fat supply quantity (g/capita/day)  Feed  Food  \\\n",
       "Year                                                   \n",
       "1961                              133.81   0.0   0.0   \n",
       "1962                              138.26   0.0   0.0   \n",
       "1963                              136.65   0.0   0.0   \n",
       "1964                              140.04   0.0   0.0   \n",
       "1965                              137.32   0.0   0.0   \n",
       "\n",
       "      Food supply (kcal/capita/day)  Food supply quantity (kg/capita/yr)  \\\n",
       "Year                                                                       \n",
       "1961                         3576.0                                  0.0   \n",
       "1962                         3483.0                                  0.0   \n",
       "1963                         3405.0                                  0.0   \n",
       "1964                         3447.0                                  0.0   \n",
       "1965                         3445.0                                  0.0   \n",
       "\n",
       "      Import Quantity  Losses  Other uses  Processing  Production  \\\n",
       "Year                                                                \n",
       "1961              0.0     0.0         0.0         0.0         0.0   \n",
       "1962              0.0     0.0         0.0         0.0         0.0   \n",
       "1963              0.0     0.0         0.0         0.0         0.0   \n",
       "1964              0.0     0.0         0.0         0.0         0.0   \n",
       "1965              0.0     0.0         0.0         0.0         0.0   \n",
       "\n",
       "      Protein supply quantity (g/capita/day)  Seed  Stock Variation  \\\n",
       "Year                                                                  \n",
       "1961                                   94.99   0.0              0.0   \n",
       "1962                                   89.97   0.0              0.0   \n",
       "1963                                   91.29   0.0              0.0   \n",
       "1964                                   90.83   0.0              0.0   \n",
       "1965                                   91.93   0.0              0.0   \n",
       "\n",
       "      Total Population - Both sexes  \n",
       "Year                                 \n",
       "1961                            0.0  \n",
       "1962                            0.0  \n",
       "1963                            0.0  \n",
       "1964                            0.0  \n",
       "1965                            0.0  "
      ]
     },
     "execution_count": 430,
     "metadata": {},
     "output_type": "execute_result"
    }
   ],
   "source": [
    "food_balance_df_CH_wide_groups_items_ani_vege.groupby('Year').sum().head()"
   ]
  },
  {
   "cell_type": "code",
   "execution_count": 431,
   "metadata": {},
   "outputs": [],
   "source": [
    "def get_pct_matrix(df):\n",
    "    df_pct_change = df.reset_index(level=['Year', 'Item'])\n",
    "    df_pct_change.columns = ['Year', 'Item', 'Pourcentage Change']\n",
    "    pct_wide = df_pct_change.pivot_table(index='Item', columns='Year', values='Pourcentage Change')\n",
    "    df_pct_change_wide = pd.DataFrame(df_pct_change['Item'])\\\n",
    "                                .merge(pct_wide, right_index=True, left_on='Item')\\\n",
    "                                .drop_duplicates()\n",
    "    df_pct_change_wide = df_pct_change_wide.set_index('Item').pct_change(axis='columns')\n",
    "    \n",
    "    # Replacing Null or Infinity values by 0\n",
    "    df_pct_change_wide = df_pct_change_wide.replace([np.NaN, np.inf], 0)\n",
    "    \n",
    "    # We will consider a maximum percentage change of +(-min_change)% since this is the case for very few values \n",
    "    # and representation with a heatmap will be much more meaningful (symmetric color)\n",
    "    max_value = -df_pct_change_wide.min().min()\n",
    "    df_pct_change_wide = df_pct_change_wide.apply(lambda x: x.apply(lambda y: y if y <= max_value else max_value))\n",
    "    return df_pct_change_wide"
   ]
  },
  {
   "cell_type": "code",
   "execution_count": 432,
   "metadata": {},
   "outputs": [],
   "source": [
    "def get_heatmap_pct_matrix(pct_matrix, category_name):\n",
    "    plt.figure(figsize=(20,10))\n",
    "    plt.pcolor(pct_matrix, edgecolors='k', linewidths=1, cmap='coolwarm')\n",
    "    plt.title('Percentage change per year for ' + category_name)\n",
    "    plt.xlabel('Years')\n",
    "    plt.ylabel('Item Groups')\n",
    "    plt.xticks(np.arange(pct_matrix.columns.shape[0]), pct_matrix.columns, rotation='vertical')\n",
    "    plt.yticks(np.arange(pct_matrix.index.shape[0]), pct_matrix.index)\n",
    "    plt.colorbar()"
   ]
  },
  {
   "cell_type": "code",
   "execution_count": 434,
   "metadata": {},
   "outputs": [],
   "source": [
    "selected_years = [1963, 1973, 1983, 1993, 2003, 2013]"
   ]
  },
  {
   "cell_type": "markdown",
   "metadata": {},
   "source": [
    "#### Food Balance Comments 3\n",
    "\n",
    "With the results above, we are know certain to be able to determine the quantity of the food consumed and produced in Switzerland.\n",
    "Even if the value for `Food Supply (kcal/capita/day)` per year is a little bit higher than we expected, we can use these informations since we know that there is a considerable waste of the food. We used this information to measure if we can use `Food Supply quantity (kg/capita/yr)` as a measure for the food consumed, and finally conclude that yes we can.\n",
    "\n",
    "We are also be able to analyse all the production for each food and get even more informations about the inportation/exportation, the losses as well as the feed/seed usages."
   ]
  },
  {
   "cell_type": "code",
   "execution_count": 452,
   "metadata": {},
   "outputs": [],
   "source": [
    "food_supply = food_balance_df_CH_wide_groups_items[['Year', 'Item', 'Food supply quantity (kg/capita/yr)']]\n",
    "# We will keep only the 8 most relevant groups for all further analyses\n",
    "food_supply = food_supply[food_supply['Item'].isin(top8_groups)]\n",
    "\n",
    "# For all the dataframes that will represent the percentage changes year by year,\n",
    "# we choose to compute the change 10 years by 10 years\n",
    "food_supply_pct = food_supply[food_supply['Year'].isin(selected_years)]"
   ]
  },
  {
   "cell_type": "code",
   "execution_count": 447,
   "metadata": {},
   "outputs": [],
   "source": [
    "# food_supply_js is rearranged to allow easy manipulation to get the data for the JavaScript interactive plots.\n",
    "food_supply_js = food_supply.pivot_table(index='Year', columns='Item', values='Food supply quantity (kg/capita/yr)')"
   ]
  },
  {
   "cell_type": "code",
   "execution_count": 448,
   "metadata": {},
   "outputs": [],
   "source": [
    "food_supply = food_supply.set_index(['Year', 'Item'])['Food supply quantity (kg/capita/yr)']"
   ]
  },
  {
   "cell_type": "code",
   "execution_count": 449,
   "metadata": {},
   "outputs": [
    {
     "data": {
      "text/plain": [
       "Text(0, 0.5, 'Food supply quantity (kg/capita/yr)')"
      ]
     },
     "execution_count": 449,
     "metadata": {},
     "output_type": "execute_result"
    },
    {
     "data": {
      "image/png": "[encoded data removed]",
      "text/plain": [
       "<Figure size 1440x720 with 1 Axes>"
      ]
     },
     "metadata": {
      "needs_background": "light"
     },
     "output_type": "display_data"
    }
   ],
   "source": [
    "ax = food_supply.unstack().plot(kind='bar', stacked=True, figsize=(20,10), colormap = 'Spectral')\n",
    "ax.set_title('Stacked Items for food supply per year')\n",
    "ax.set_xlabel('Year')\n",
    "ax.set_ylabel('Food supply quantity (kg/capita/yr)')"
   ]
  },
  {
   "cell_type": "code",
   "execution_count": 455,
   "metadata": {},
   "outputs": [
    {
     "data": {
      "image/png": "[encoded data removed]",
      "text/plain": [
       "<Figure size 1440x720 with 2 Axes>"
      ]
     },
     "metadata": {
      "needs_background": "light"
     },
     "output_type": "display_data"
    }
   ],
   "source": [
    "food_supply_pct = get_pct_matrix(food_supply_pct.set_index(['Year', 'Item']))\n",
    "get_heatmap_pct_matrix(food_supply_pct, 'Food Consumption')"
   ]
  },
  {
   "cell_type": "code",
   "execution_count": 480,
   "metadata": {},
   "outputs": [],
   "source": [
    "trade = food_balance_df_CH_wide_groups_items[['Year', 'Item', 'Import Quantity', 'Export Quantity', 'Feed', 'Seed', 'Production', 'Losses']]\n",
    "\n",
    "# As for food_supply, we will consider only the 8 most relevant groups\n",
    "trade = trade[trade['Item'].isin(top8_groups)]\n",
    "\n",
    "# Again, only compute the percentage change every 10 years\n",
    "trade_for_pct = trade[trade['Year'].isin(selected_years)]"
   ]
  },
  {
   "cell_type": "code",
   "execution_count": 481,
   "metadata": {},
   "outputs": [],
   "source": [
    "# Create a dataframe in order to easily get datas for JavaScript interactive plots\n",
    "import_prod_js = trade[trade['Year'] == 2013]\n",
    "import_prod_js = import_prod_js[['Item', 'Import Quantity', 'Production', 'Export Quantity']]"
   ]
  },
  {
   "cell_type": "code",
   "execution_count": 482,
   "metadata": {},
   "outputs": [
    {
     "data": {
      "text/plain": [
       "array([ 61.,   5., 180.,  15., 139.,   9.,  10., 580.])"
      ]
     },
     "execution_count": 482,
     "metadata": {},
     "output_type": "execute_result"
    }
   ],
   "source": [
    "# Example on getting data\n",
    "import_prod_js['Export Quantity'].values"
   ]
  },
  {
   "cell_type": "code",
   "execution_count": 483,
   "metadata": {},
   "outputs": [],
   "source": [
    "# Need to differenciate when we want data for every year or for every 10 years\n",
    "import_pct = trade_for_pct.set_index(['Year', 'Item'])['Import Quantity']\n",
    "export_pct = trade_for_pct.set_index(['Year', 'Item'])['Export Quantity']\n",
    "feed_pct = trade_for_pct.set_index(['Year', 'Item'])['Feed']\n",
    "seed_pct = trade_for_pct.set_index(['Year', 'Item'])['Seed']\n",
    "production_pct = trade_for_pct.set_index(['Year', 'Item'])['Production']\n",
    "losses_pct = trade_for_pct.set_index(['Year', 'Item'])['Losses']\n",
    "\n",
    "import_ = trade.set_index(['Year', 'Item'])['Import Quantity']\n",
    "export = trade.set_index(['Year', 'Item'])['Export Quantity']\n",
    "feed = trade.set_index(['Year', 'Item'])['Feed']\n",
    "seed = trade.set_index(['Year', 'Item'])['Seed']\n",
    "production = trade.set_index(['Year', 'Item'])['Production']\n",
    "losses = trade.set_index(['Year', 'Item'])['Losses']"
   ]
  },
  {
   "cell_type": "code",
   "execution_count": 484,
   "metadata": {},
   "outputs": [
    {
     "data": {
      "image/png": "[encoded data removed]",
      "text/plain": [
       "<Figure size 1440x576 with 1 Axes>"
      ]
     },
     "metadata": {
      "needs_background": "light"
     },
     "output_type": "display_data"
    }
   ],
   "source": [
    "ax = import_.unstack().plot(kind='bar', stacked='True', figsize=(20,8), colormap='Spectral')"
   ]
  },
  {
   "cell_type": "code",
   "execution_count": 485,
   "metadata": {},
   "outputs": [
    {
     "name": "stdout",
     "output_type": "stream",
     "text": [
      "[[0, 0, 0.0], [1, 0, -0.1], [2, 0, -0.1], [3, 0, 0.1], [4, 0, 0.1], [5, 0, -0.1], [0, 1, 0.0], [1, 1, -0.3], [2, 1, -0.1], [3, 1, 0.0], [4, 1, -0.0], [5, 1, -0.1], [0, 2, 0.0], [1, 2, 0.1], [2, 2, 0.0], [3, 2, -0.0], [4, 2, 0.1], [5, 2, 0.1], [0, 3, 0.0], [1, 3, 0.1], [2, 3, 0.1], [3, 3, -0.0], [4, 3, 0.1], [5, 3, 0.1], [0, 4, 0.0], [1, 4, 0.0], [2, 4, -0.1], [3, 4, -0.1], [4, 4, -0.3], [5, 4, 0.3], [0, 5, 0.0], [1, 5, 0.0], [2, 5, 0.0], [3, 5, -0.2], [4, 5, -0.1], [5, 5, -0.1], [0, 6, 0.0], [1, 6, 0.3], [2, 6, 0.1], [3, 6, -0.1], [4, 6, -0.1], [5, 6, -0.0], [0, 7, 0.0], [1, 7, -0.0], [2, 7, 0.1], [3, 7, 0.0], [4, 7, -0.1], [5, 7, 0.0]]\n"
     ]
    }
   ],
   "source": [
    "# Generate the data for JavaScript interactive heatmap. \n",
    "# Note that the same code will be used for the generation of heatmaps for the imports and the production\n",
    "\n",
    "heat_map_js = []\n",
    "\n",
    "for i in range(8):\n",
    "    for j in range(6):\n",
    "        heat_map_js.append([j, i, food_supply_pct.round(1).iloc[i,j]])\n",
    "\n",
    "print(heat_map_js)"
   ]
  },
  {
   "cell_type": "code",
   "execution_count": 486,
   "metadata": {},
   "outputs": [
    {
     "data": {
      "image/png": "[encoded data removed]",
      "text/plain": [
       "<Figure size 1440x720 with 2 Axes>"
      ]
     },
     "metadata": {
      "needs_background": "light"
     },
     "output_type": "display_data"
    }
   ],
   "source": [
    "import_pct = get_pct_matrix(import_pct)\n",
    "get_heatmap_pct_matrix(import_pct, 'import')"
   ]
  },
  {
   "cell_type": "code",
   "execution_count": 487,
   "metadata": {},
   "outputs": [
    {
     "name": "stdout",
     "output_type": "stream",
     "text": [
      "[[0, 0, 0.0], [1, 0, 0.5], [2, 0, -0.1], [3, 0, -0.5], [4, 0, 0.3], [5, 0, 0.2], [0, 1, 0.0], [1, 1, 0.5], [2, 1, 0.4], [3, 1, 0.2], [4, 1, -0.2], [5, 1, -0.1], [0, 2, 0.0], [1, 2, 0.1], [2, 2, -0.2], [3, 2, 0.1], [4, 2, 0.5], [5, 2, -0.1], [0, 3, 0.0], [1, 3, 0.5], [2, 3, 0.1], [3, 3, 0.1], [4, 3, 0.3], [5, 3, 0.1], [0, 4, 0.0], [1, 4, 0.5], [2, 4, -0.0], [3, 4, 0.1], [4, 4, 0.2], [5, 4, 0.1], [0, 5, 0.0], [1, 5, 0.5], [2, 5, -0.0], [3, 5, -0.1], [4, 5, 0.1], [5, 5, 0.2], [0, 6, 0.0], [1, 6, 0.4], [2, 6, -0.3], [3, 6, 0.1], [4, 6, 0.2], [5, 6, 0.3], [0, 7, 0.0], [1, 7, 0.5], [2, 7, -0.0], [3, 7, 0.2], [4, 7, -0.2], [5, 7, 0.5]]\n"
     ]
    }
   ],
   "source": [
    "heat_map_js = []\n",
    "\n",
    "for i in range(8):\n",
    "    for j in range(6):\n",
    "        heat_map_js.append([j, i, import_pct.round(1).iloc[i,j]])\n",
    "\n",
    "print(heat_map_js)"
   ]
  },
  {
   "cell_type": "code",
   "execution_count": 488,
   "metadata": {},
   "outputs": [],
   "source": [
    "cereal_import = food_balance_df_CH_wide_groups_items[['Year', 'Item', 'Import Quantity']]\\\n",
    "                        [food_balance_df_CH_wide_groups_items['Item'] == 'Cereals - Excluding Beer']"
   ]
  },
  {
   "cell_type": "code",
   "execution_count": 489,
   "metadata": {},
   "outputs": [],
   "source": [
    "cereal_import = cereal_import.set_index('Year')['Import Quantity']"
   ]
  },
  {
   "cell_type": "code",
   "execution_count": 490,
   "metadata": {},
   "outputs": [
    {
     "data": {
      "image/png": "[encoded data removed]",
      "text/plain": [
       "<Figure size 1440x432 with 1 Axes>"
      ]
     },
     "metadata": {
      "needs_background": "light"
     },
     "output_type": "display_data"
    }
   ],
   "source": [
    "ax = cereal_import.plot(kind='bar', figsize=(20,6))"
   ]
  },
  {
   "cell_type": "code",
   "execution_count": 491,
   "metadata": {},
   "outputs": [
    {
     "data": {
      "text/plain": [
       "<matplotlib.axes._subplots.AxesSubplot at 0x1a4a6ae850>"
      ]
     },
     "execution_count": 491,
     "metadata": {},
     "output_type": "execute_result"
    },
    {
     "data": {
      "image/png": "[encoded data removed]",
      "text/plain": [
       "<Figure size 1440x576 with 1 Axes>"
      ]
     },
     "metadata": {
      "needs_background": "light"
     },
     "output_type": "display_data"
    }
   ],
   "source": [
    "export.unstack().plot(kind='bar', stacked='True', figsize=(20,8), colormap='Spectral')"
   ]
  },
  {
   "cell_type": "code",
   "execution_count": 492,
   "metadata": {},
   "outputs": [
    {
     "data": {
      "image/png": "[encoded data removed]",
      "text/plain": [
       "<Figure size 1440x720 with 2 Axes>"
      ]
     },
     "metadata": {
      "needs_background": "light"
     },
     "output_type": "display_data"
    }
   ],
   "source": [
    "export_pct = get_pct_matrix(export_pct)\n",
    "get_heatmap_pct_matrix(export_pct, 'export')"
   ]
  },
  {
   "cell_type": "code",
   "execution_count": 493,
   "metadata": {},
   "outputs": [
    {
     "data": {
      "text/plain": [
       "<matplotlib.axes._subplots.AxesSubplot at 0x1a4018e990>"
      ]
     },
     "execution_count": 493,
     "metadata": {},
     "output_type": "execute_result"
    },
    {
     "data": {
      "image/png": "[encoded data removed]",
      "text/plain": [
       "<Figure size 1440x576 with 1 Axes>"
      ]
     },
     "metadata": {
      "needs_background": "light"
     },
     "output_type": "display_data"
    }
   ],
   "source": [
    "feed.unstack().plot(kind='bar', stacked='True', figsize=(20,8), colormap='Spectral')"
   ]
  },
  {
   "cell_type": "code",
   "execution_count": 494,
   "metadata": {},
   "outputs": [
    {
     "data": {
      "text/plain": [
       "<matplotlib.axes._subplots.AxesSubplot at 0x1a4cd04a10>"
      ]
     },
     "execution_count": 494,
     "metadata": {},
     "output_type": "execute_result"
    },
    {
     "data": {
      "image/png": "[encoded data removed]",
      "text/plain": [
       "<Figure size 1440x576 with 1 Axes>"
      ]
     },
     "metadata": {
      "needs_background": "light"
     },
     "output_type": "display_data"
    }
   ],
   "source": [
    "seed.unstack().plot(kind='bar', stacked='True', figsize=(20,8), colormap='Spectral')"
   ]
  },
  {
   "cell_type": "code",
   "execution_count": 495,
   "metadata": {},
   "outputs": [
    {
     "data": {
      "image/png": "[encoded data removed]",
      "text/plain": [
       "<Figure size 1440x720 with 2 Axes>"
      ]
     },
     "metadata": {
      "needs_background": "light"
     },
     "output_type": "display_data"
    }
   ],
   "source": [
    "seed_pct = get_pct_matrix(seed_pct)\n",
    "get_heatmap_pct_matrix(seed_pct, 'seed')"
   ]
  },
  {
   "cell_type": "code",
   "execution_count": 496,
   "metadata": {},
   "outputs": [
    {
     "data": {
      "text/plain": [
       "<matplotlib.axes._subplots.AxesSubplot at 0x1a5151d650>"
      ]
     },
     "execution_count": 496,
     "metadata": {},
     "output_type": "execute_result"
    },
    {
     "data": {
      "image/png": "[encoded data removed]",
      "text/plain": [
       "<Figure size 1440x576 with 1 Axes>"
      ]
     },
     "metadata": {
      "needs_background": "light"
     },
     "output_type": "display_data"
    }
   ],
   "source": [
    "production.unstack().plot(kind='bar', stacked='True', figsize=(20,8), colormap='Spectral')"
   ]
  },
  {
   "cell_type": "code",
   "execution_count": 497,
   "metadata": {},
   "outputs": [
    {
     "data": {
      "image/png": "[encoded data removed]",
      "text/plain": [
       "<Figure size 1440x720 with 2 Axes>"
      ]
     },
     "metadata": {
      "needs_background": "light"
     },
     "output_type": "display_data"
    }
   ],
   "source": [
    "production_pct = get_pct_matrix(production_pct)\n",
    "get_heatmap_pct_matrix(production_pct, 'production')"
   ]
  },
  {
   "cell_type": "code",
   "execution_count": 500,
   "metadata": {},
   "outputs": [
    {
     "name": "stdout",
     "output_type": "stream",
     "text": [
      "[[0, 0, 0.0], [1, 0, 0.5], [2, 0, 0.2], [3, 0, 0.4], [4, 0, -0.3], [5, 0, -0.0], [0, 1, 0.0], [1, 1, -0.3], [2, 1, -0.2], [3, 1, 0.2], [4, 1, -0.5], [5, 1, -0.2], [0, 2, 0.0], [1, 2, 0.5], [2, 2, 0.5], [3, 2, 0.2], [4, 2, 0.2], [5, 2, 0.5], [0, 3, 0.0], [1, 3, -0.0], [2, 3, 0.2], [3, 3, -0.1], [4, 3, -0.0], [5, 3, 0.4], [0, 4, 0.0], [1, 4, 0.1], [2, 4, -0.2], [3, 4, -0.2], [4, 4, -0.2], [5, 4, -0.1], [0, 5, 0.0], [1, 5, 0.1], [2, 5, -0.0], [3, 5, -0.2], [4, 5, -0.0], [5, 5, -0.1], [0, 6, 0.0], [1, 6, 0.5], [2, 6, 0.2], [3, 6, -0.0], [4, 6, -0.1], [5, 6, 0.1], [0, 7, 0.0], [1, 7, 0.1], [2, 7, 0.1], [3, 7, 0.1], [4, 7, -0.0], [5, 7, 0.0]]\n"
     ]
    }
   ],
   "source": [
    "heat_map_js = []\n",
    "\n",
    "for i in range(8):\n",
    "    for j in range(6):\n",
    "        heat_map_js.append([j, i, production_pct.round(1).iloc[i,j]])\n",
    "\n",
    "print(heat_map_js)"
   ]
  },
  {
   "cell_type": "code",
   "execution_count": 498,
   "metadata": {},
   "outputs": [
    {
     "data": {
      "text/plain": [
       "<matplotlib.axes._subplots.AxesSubplot at 0x1a532e7910>"
      ]
     },
     "execution_count": 498,
     "metadata": {},
     "output_type": "execute_result"
    },
    {
     "data": {
      "image/png": "[encoded data removed]",
      "text/plain": [
       "<Figure size 1440x576 with 1 Axes>"
      ]
     },
     "metadata": {
      "needs_background": "light"
     },
     "output_type": "display_data"
    }
   ],
   "source": [
    "losses.unstack().plot(kind='bar', stacked='True', figsize=(20,8), colormap='Spectral')"
   ]
  },
  {
   "cell_type": "code",
   "execution_count": 499,
   "metadata": {},
   "outputs": [
    {
     "data": {
      "image/png": "[encoded data removed]",
      "text/plain": [
       "<Figure size 1440x720 with 2 Axes>"
      ]
     },
     "metadata": {
      "needs_background": "light"
     },
     "output_type": "display_data"
    }
   ],
   "source": [
    "losses_pct = get_pct_matrix(losses_pct)\n",
    "get_heatmap_pct_matrix(losses_pct, 'losses')"
   ]
  },
  {
   "cell_type": "markdown",
   "metadata": {},
   "source": [
    "---"
   ]
  },
  {
   "cell_type": "markdown",
   "metadata": {},
   "source": [
    "### 1.5 Producer prices\n",
    "#### 1.5.1 Data Description"
   ]
  },
  {
   "cell_type": "markdown",
   "metadata": {},
   "source": [
    "The FAO Database offers a variety of datasets containing information about the consumer/producer prices of every country for all years between 1970 and 2018.\n",
    "##### Producer prices -annual\n",
    "<details>\n",
    "  <summary>Description</summary> \n",
    "  This sub-domain contains data on Agriculture Producer Prices. These are prices received by farmers for primary crops, live animals and livestock primary products as collected at the point of initial sale (prices paid at the farm-gate). Annual data are provided from 1991 for over 160 countries and about 200 commodities.\n",
    "</details>\n",
    "\n",
    "<details>\n",
    "  <summary>Path</summary>\n",
    "  \n",
    "  Data/FAOSTAT/Prices_E_All_Data_(Normalized).zip\n",
    "</details>\n",
    "\n",
    "##### Exchange rates -annual\n",
    "<details>\n",
    "  <summary>Description</summary>  \n",
    "  Annual exchange rates, national currency units per U.S. dollar.\n",
    "</details>\n",
    "\n",
    "<details>\n",
    "  <summary>Path</summary>  \n",
    "  Data/FAOSTAT/Exchange_rate_E_All_Data_(Normalized).zip\n",
    "</details>\n",
    "\n",
    "##### Producer prices -monthly\n",
    "<details>\n",
    "  <summary>Description</summary>  \n",
    "  This sub-domain contains data on Agriculture Producer Prices (APP). These are prices received by farmers for primary crops, live animals and livestock primary products as collected at the point of initial sale (prices paid at the farm-gate). Monthly data are provided from January 2010 to December of the previous year for over 60 countries and about 200 commodities.\n",
    "</details>\n",
    "\n",
    "<details>\n",
    "  <summary>Path</summary>  \n",
    "  Data/FAOSTAT/Prices_Monthly_E_All_Data_(Normalized).zip\n",
    "</details>\n",
    "\n",
    "##### Producer prices indices -annual\n",
    "<details>\n",
    "  <summary>Description</summary>  \n",
    "  Indices of agricultural producer prices that measure the average annual change over time in the selling prices received by farmers (prices at the farm-gate or at the first point of sale). Annual data are provided for over 80 countries. The three categories of producer price indices available in FAOSTAT comprise: Single-item price indices, Commodity group indices and the Agriculture producer price index.\n",
    "</details>\n",
    "\n",
    "<details>\n",
    "  <summary>Path</summary>  \n",
    "  Data/FAOSTAT/Price_Indices_E_All_Data_(Normalized).zip\n",
    "</details>\n",
    "\n",
    "##### Producer prices -archive\n",
    "<details>\n",
    "  <summary>Description</summary>  \n",
    "  This sub-domain contains data on Agriculture Producer Prices from 1966 to 1990. These are prices received by farmers for primary crops, live animals weight and livestock primary products as collected at the point of initial sale (prices paid at the farm-gate). Data are provided for over 97 countries and for some 200 commodities.\n",
    "</details>\n",
    "\n",
    "<details>\n",
    "  <summary>Path</summary>  \n",
    "  Data/FAOSTAT/PricesArchive_E_All_Data_(Normalized).zip\n",
    "</details>\n",
    "\n",
    "##### Consumer prices indices \n",
    "<details>\n",
    "  <summary>Description</summary>  \n",
    "  The FAOSTAT monthly CPI Food CPI database was based on the ILO CPI data until December 2014. In 2014, IMF-ILO-FAO agreed to transfer global CPI data compilation from ILO to IMF. Upon agreement, CPIs for all items and its sub components originates from the International Monetary Fund (IMF), and the UN Statistics Division(UNSD) for countries not covered by the IMF. However, due to a limited time coverage from IMF and UNSD for a number of countries, the Organisation for Economic Co-operation and Development (OECD), the Latin America and the Caribbean statistics (CEPALSTAT), Central Bank of Western African States (BCEAO), Eastern Caribbean Central Bank (ECCB) and national statistical office website data are used for missing historical data from IMF and UNSD food CPI. The FAO CPI dataset for all items(or general CPI) and the Food CPI, consists of a complete and consistent set of time series from January 2000 onwards. These indices measure the price change between the current and reference periods of the average basket of goods and services purchased by households. The CPI,all items is typically used to measure and monitor inflation, set monetary policy targets, index social benefits such as pensions and unemployment benefits, and to escalate thresholds and credits in the income tax systems and wages in public and private wage contracts.\n",
    "</details>\n",
    "\n",
    "<details>\n",
    "  <summary>Path</summary>  \n",
    "  Data/FAOSTAT/ConsumerPriceIndices_E_All_Data_(Normalized).zip\n",
    "</details>\n",
    "\n",
    "##### Deflators \n",
    "<details>\n",
    "  <summary>Description</summary>  \n",
    "  The FAOSTAT Deflators database provides the following selection of implicit price deflator series by country: Gross Domestic Product (GDP) deflator, Gross Fixed Capital Formation (GFCF) deflator, Agriculture, Forestry, Fishery Value-Added (VA_AFF) deflator, andManufacturing Valued-Added (VA_MAN) deflator. A deflator is a figure expressing the change in prices over a period of time for a product or a basket of products by comparing a reference period to a base period. It is obtained by dividing a current price value of a given aggregate by its real counterpart. When calculated from the major national accounting aggregates such as GDP or agriculture VA, implicit price deflators pertains to wider ranges of goods and services in the economy than that represented by any of the individual price indexes (such as CPIs, PPIs). Movements in an implicit price deflator reflect both changes in price and changes in the composition of the aggregate for which the deflator is calculated. In the FAOSTAT Deflators database, all series are derived from the United Nations Statistics Division (UNSD) National Accounts Estimates of Main Aggregates database (UNSD NAE). In particular, the implicit GDP deflator, the implicit GFCF deflator and the implicit value added deflator in Agriculture, Forestry, Fishery are obtained by dividing the series in current prices by those in constant 2010 prices (base year).\n",
    "</details>\n",
    "\n",
    "<details>\n",
    "  <summary>Path</summary>  \n",
    "  Data/FAOSTAT/Deflators_E_All_Data_(Normalized).zip\n",
    "</details>"
   ]
  },
  {
   "cell_type": "markdown",
   "metadata": {},
   "source": [
    "We are for now interested on the revenue that goes to local producers and their evolutions. We have producer prices -archive and producer prices -annual that will help us for having these values. Combining these two datasets will give us producer prices 1966 to 2018.\n",
    "Since prices can be in different units we need the Exchange rates dataset to convert local prices into a standard unit.\n",
    "We do not need Producer prices monthly because the exchange rates are annual."
   ]
  },
  {
   "cell_type": "markdown",
   "metadata": {},
   "source": [
    "#### 1.5.2 Data Cleaning"
   ]
  },
  {
   "cell_type": "code",
   "execution_count": 74,
   "metadata": {},
   "outputs": [],
   "source": [
    "''' Load the data'''\n",
    "prices_annual = pd.read_csv('Data/FAOSTAT/Prices_E_All_Data_(Normalized).zip', delimiter = ',', encoding = 'ISO-8859-1')\n",
    "prices_arch = pd.read_csv('Data/FAOSTAT/PricesArchive_E_All_Data_(Normalized).zip', delimiter = ',', encoding = 'ISO-8859-1')\n",
    "exchange_rates = pd.read_csv('Data/FAOSTAT/Exchange_rate_E_All_Data_(Normalized).zip', delimiter = ',', encoding = 'ISO-8859-1')"
   ]
  },
  {
   "cell_type": "code",
   "execution_count": 75,
   "metadata": {},
   "outputs": [
    {
     "data": {
      "text/html": [
       "<div>\n",
       "<style scoped>\n",
       "    .dataframe tbody tr th:only-of-type {\n",
       "        vertical-align: middle;\n",
       "    }\n",
       "\n",
       "    .dataframe tbody tr th {\n",
       "        vertical-align: top;\n",
       "    }\n",
       "\n",
       "    .dataframe thead th {\n",
       "        text-align: right;\n",
       "    }\n",
       "</style>\n",
       "<table border=\"1\" class=\"dataframe\">\n",
       "  <thead>\n",
       "    <tr style=\"text-align: right;\">\n",
       "      <th></th>\n",
       "      <th>Area Code</th>\n",
       "      <th>Area</th>\n",
       "      <th>Item Code</th>\n",
       "      <th>Item</th>\n",
       "      <th>Element Code</th>\n",
       "      <th>Element</th>\n",
       "      <th>Year Code</th>\n",
       "      <th>Year</th>\n",
       "      <th>Unit</th>\n",
       "      <th>Value</th>\n",
       "      <th>Flag</th>\n",
       "    </tr>\n",
       "  </thead>\n",
       "  <tbody>\n",
       "    <tr>\n",
       "      <td>0</td>\n",
       "      <td>2</td>\n",
       "      <td>Afghanistan</td>\n",
       "      <td>221</td>\n",
       "      <td>Almonds, with shell</td>\n",
       "      <td>5530</td>\n",
       "      <td>Producer Price (LCU/tonne)</td>\n",
       "      <td>1993</td>\n",
       "      <td>1993</td>\n",
       "      <td>LCU</td>\n",
       "      <td>46000.0</td>\n",
       "      <td>NaN</td>\n",
       "    </tr>\n",
       "    <tr>\n",
       "      <td>1</td>\n",
       "      <td>2</td>\n",
       "      <td>Afghanistan</td>\n",
       "      <td>221</td>\n",
       "      <td>Almonds, with shell</td>\n",
       "      <td>5530</td>\n",
       "      <td>Producer Price (LCU/tonne)</td>\n",
       "      <td>1994</td>\n",
       "      <td>1994</td>\n",
       "      <td>LCU</td>\n",
       "      <td>50000.0</td>\n",
       "      <td>NaN</td>\n",
       "    </tr>\n",
       "    <tr>\n",
       "      <td>2</td>\n",
       "      <td>2</td>\n",
       "      <td>Afghanistan</td>\n",
       "      <td>221</td>\n",
       "      <td>Almonds, with shell</td>\n",
       "      <td>5530</td>\n",
       "      <td>Producer Price (LCU/tonne)</td>\n",
       "      <td>1995</td>\n",
       "      <td>1995</td>\n",
       "      <td>LCU</td>\n",
       "      <td>62000.0</td>\n",
       "      <td>NaN</td>\n",
       "    </tr>\n",
       "    <tr>\n",
       "      <td>3</td>\n",
       "      <td>2</td>\n",
       "      <td>Afghanistan</td>\n",
       "      <td>221</td>\n",
       "      <td>Almonds, with shell</td>\n",
       "      <td>5530</td>\n",
       "      <td>Producer Price (LCU/tonne)</td>\n",
       "      <td>1996</td>\n",
       "      <td>1996</td>\n",
       "      <td>LCU</td>\n",
       "      <td>50000.0</td>\n",
       "      <td>NaN</td>\n",
       "    </tr>\n",
       "    <tr>\n",
       "      <td>4</td>\n",
       "      <td>2</td>\n",
       "      <td>Afghanistan</td>\n",
       "      <td>221</td>\n",
       "      <td>Almonds, with shell</td>\n",
       "      <td>5530</td>\n",
       "      <td>Producer Price (LCU/tonne)</td>\n",
       "      <td>1997</td>\n",
       "      <td>1997</td>\n",
       "      <td>LCU</td>\n",
       "      <td>41000.0</td>\n",
       "      <td>NaN</td>\n",
       "    </tr>\n",
       "  </tbody>\n",
       "</table>\n",
       "</div>"
      ],
      "text/plain": [
       "   Area Code         Area  Item Code                 Item  Element Code  \\\n",
       "0          2  Afghanistan        221  Almonds, with shell          5530   \n",
       "1          2  Afghanistan        221  Almonds, with shell          5530   \n",
       "2          2  Afghanistan        221  Almonds, with shell          5530   \n",
       "3          2  Afghanistan        221  Almonds, with shell          5530   \n",
       "4          2  Afghanistan        221  Almonds, with shell          5530   \n",
       "\n",
       "                      Element  Year Code  Year Unit    Value Flag  \n",
       "0  Producer Price (LCU/tonne)       1993  1993  LCU  46000.0  NaN  \n",
       "1  Producer Price (LCU/tonne)       1994  1994  LCU  50000.0  NaN  \n",
       "2  Producer Price (LCU/tonne)       1995  1995  LCU  62000.0  NaN  \n",
       "3  Producer Price (LCU/tonne)       1996  1996  LCU  50000.0  NaN  \n",
       "4  Producer Price (LCU/tonne)       1997  1997  LCU  41000.0  NaN  "
      ]
     },
     "execution_count": 75,
     "metadata": {},
     "output_type": "execute_result"
    }
   ],
   "source": [
    "prices_annual.head()"
   ]
  },
  {
   "cell_type": "code",
   "execution_count": 76,
   "metadata": {},
   "outputs": [
    {
     "data": {
      "text/html": [
       "<div>\n",
       "<style scoped>\n",
       "    .dataframe tbody tr th:only-of-type {\n",
       "        vertical-align: middle;\n",
       "    }\n",
       "\n",
       "    .dataframe tbody tr th {\n",
       "        vertical-align: top;\n",
       "    }\n",
       "\n",
       "    .dataframe thead th {\n",
       "        text-align: right;\n",
       "    }\n",
       "</style>\n",
       "<table border=\"1\" class=\"dataframe\">\n",
       "  <thead>\n",
       "    <tr style=\"text-align: right;\">\n",
       "      <th></th>\n",
       "      <th>CountryCode</th>\n",
       "      <th>Country</th>\n",
       "      <th>ItemCode</th>\n",
       "      <th>Item</th>\n",
       "      <th>ElementGroup</th>\n",
       "      <th>ElementCode</th>\n",
       "      <th>Element</th>\n",
       "      <th>Year</th>\n",
       "      <th>Unit</th>\n",
       "      <th>Value</th>\n",
       "      <th>Flag</th>\n",
       "    </tr>\n",
       "  </thead>\n",
       "  <tbody>\n",
       "    <tr>\n",
       "      <td>0</td>\n",
       "      <td>4</td>\n",
       "      <td>Algeria</td>\n",
       "      <td>221</td>\n",
       "      <td>Almonds, with shell</td>\n",
       "      <td>53</td>\n",
       "      <td>5530</td>\n",
       "      <td>Producer Price (LCU/tonne)</td>\n",
       "      <td>1966</td>\n",
       "      <td>LCU</td>\n",
       "      <td>1150.0</td>\n",
       "      <td>F</td>\n",
       "    </tr>\n",
       "    <tr>\n",
       "      <td>1</td>\n",
       "      <td>4</td>\n",
       "      <td>Algeria</td>\n",
       "      <td>221</td>\n",
       "      <td>Almonds, with shell</td>\n",
       "      <td>53</td>\n",
       "      <td>5530</td>\n",
       "      <td>Producer Price (LCU/tonne)</td>\n",
       "      <td>1967</td>\n",
       "      <td>LCU</td>\n",
       "      <td>1140.0</td>\n",
       "      <td>F</td>\n",
       "    </tr>\n",
       "    <tr>\n",
       "      <td>2</td>\n",
       "      <td>4</td>\n",
       "      <td>Algeria</td>\n",
       "      <td>221</td>\n",
       "      <td>Almonds, with shell</td>\n",
       "      <td>53</td>\n",
       "      <td>5530</td>\n",
       "      <td>Producer Price (LCU/tonne)</td>\n",
       "      <td>1968</td>\n",
       "      <td>LCU</td>\n",
       "      <td>1210.0</td>\n",
       "      <td>F</td>\n",
       "    </tr>\n",
       "    <tr>\n",
       "      <td>3</td>\n",
       "      <td>4</td>\n",
       "      <td>Algeria</td>\n",
       "      <td>221</td>\n",
       "      <td>Almonds, with shell</td>\n",
       "      <td>53</td>\n",
       "      <td>5530</td>\n",
       "      <td>Producer Price (LCU/tonne)</td>\n",
       "      <td>1969</td>\n",
       "      <td>LCU</td>\n",
       "      <td>1200.0</td>\n",
       "      <td>F</td>\n",
       "    </tr>\n",
       "    <tr>\n",
       "      <td>4</td>\n",
       "      <td>4</td>\n",
       "      <td>Algeria</td>\n",
       "      <td>221</td>\n",
       "      <td>Almonds, with shell</td>\n",
       "      <td>53</td>\n",
       "      <td>5530</td>\n",
       "      <td>Producer Price (LCU/tonne)</td>\n",
       "      <td>1970</td>\n",
       "      <td>LCU</td>\n",
       "      <td>1200.0</td>\n",
       "      <td>F</td>\n",
       "    </tr>\n",
       "  </tbody>\n",
       "</table>\n",
       "</div>"
      ],
      "text/plain": [
       "   CountryCode  Country  ItemCode                 Item  ElementGroup  \\\n",
       "0            4  Algeria       221  Almonds, with shell            53   \n",
       "1            4  Algeria       221  Almonds, with shell            53   \n",
       "2            4  Algeria       221  Almonds, with shell            53   \n",
       "3            4  Algeria       221  Almonds, with shell            53   \n",
       "4            4  Algeria       221  Almonds, with shell            53   \n",
       "\n",
       "   ElementCode                     Element  Year Unit   Value Flag  \n",
       "0         5530  Producer Price (LCU/tonne)  1966  LCU  1150.0    F  \n",
       "1         5530  Producer Price (LCU/tonne)  1967  LCU  1140.0    F  \n",
       "2         5530  Producer Price (LCU/tonne)  1968  LCU  1210.0    F  \n",
       "3         5530  Producer Price (LCU/tonne)  1969  LCU  1200.0    F  \n",
       "4         5530  Producer Price (LCU/tonne)  1970  LCU  1200.0    F  "
      ]
     },
     "execution_count": 76,
     "metadata": {},
     "output_type": "execute_result"
    }
   ],
   "source": [
    "prices_arch.head()"
   ]
  },
  {
   "cell_type": "code",
   "execution_count": 77,
   "metadata": {},
   "outputs": [
    {
     "data": {
      "text/html": [
       "<div>\n",
       "<style scoped>\n",
       "    .dataframe tbody tr th:only-of-type {\n",
       "        vertical-align: middle;\n",
       "    }\n",
       "\n",
       "    .dataframe tbody tr th {\n",
       "        vertical-align: top;\n",
       "    }\n",
       "\n",
       "    .dataframe thead th {\n",
       "        text-align: right;\n",
       "    }\n",
       "</style>\n",
       "<table border=\"1\" class=\"dataframe\">\n",
       "  <thead>\n",
       "    <tr style=\"text-align: right;\">\n",
       "      <th></th>\n",
       "      <th>Area Code</th>\n",
       "      <th>Area</th>\n",
       "      <th>Item Code</th>\n",
       "      <th>Item</th>\n",
       "      <th>ISO Currency Code</th>\n",
       "      <th>Currency</th>\n",
       "      <th>Year Code</th>\n",
       "      <th>Year</th>\n",
       "      <th>Unit</th>\n",
       "      <th>Value</th>\n",
       "      <th>Flag</th>\n",
       "      <th>Note</th>\n",
       "    </tr>\n",
       "  </thead>\n",
       "  <tbody>\n",
       "    <tr>\n",
       "      <td>0</td>\n",
       "      <td>2</td>\n",
       "      <td>Afghanistan</td>\n",
       "      <td>5540</td>\n",
       "      <td>Standard local currency units per USD</td>\n",
       "      <td>AFN</td>\n",
       "      <td>Afghani</td>\n",
       "      <td>1970</td>\n",
       "      <td>1970</td>\n",
       "      <td>NaN</td>\n",
       "      <td>0.045</td>\n",
       "      <td>X</td>\n",
       "      <td>Data from UNSD AMA</td>\n",
       "    </tr>\n",
       "    <tr>\n",
       "      <td>1</td>\n",
       "      <td>2</td>\n",
       "      <td>Afghanistan</td>\n",
       "      <td>5540</td>\n",
       "      <td>Standard local currency units per USD</td>\n",
       "      <td>AFN</td>\n",
       "      <td>Afghani</td>\n",
       "      <td>1971</td>\n",
       "      <td>1971</td>\n",
       "      <td>NaN</td>\n",
       "      <td>0.045</td>\n",
       "      <td>X</td>\n",
       "      <td>Data from UNSD AMA</td>\n",
       "    </tr>\n",
       "    <tr>\n",
       "      <td>2</td>\n",
       "      <td>2</td>\n",
       "      <td>Afghanistan</td>\n",
       "      <td>5540</td>\n",
       "      <td>Standard local currency units per USD</td>\n",
       "      <td>AFN</td>\n",
       "      <td>Afghani</td>\n",
       "      <td>1972</td>\n",
       "      <td>1972</td>\n",
       "      <td>NaN</td>\n",
       "      <td>0.045</td>\n",
       "      <td>X</td>\n",
       "      <td>Data from UNSD AMA</td>\n",
       "    </tr>\n",
       "    <tr>\n",
       "      <td>3</td>\n",
       "      <td>2</td>\n",
       "      <td>Afghanistan</td>\n",
       "      <td>5540</td>\n",
       "      <td>Standard local currency units per USD</td>\n",
       "      <td>AFN</td>\n",
       "      <td>Afghani</td>\n",
       "      <td>1973</td>\n",
       "      <td>1973</td>\n",
       "      <td>NaN</td>\n",
       "      <td>0.045</td>\n",
       "      <td>X</td>\n",
       "      <td>Data from UNSD AMA</td>\n",
       "    </tr>\n",
       "    <tr>\n",
       "      <td>4</td>\n",
       "      <td>2</td>\n",
       "      <td>Afghanistan</td>\n",
       "      <td>5540</td>\n",
       "      <td>Standard local currency units per USD</td>\n",
       "      <td>AFN</td>\n",
       "      <td>Afghani</td>\n",
       "      <td>1974</td>\n",
       "      <td>1974</td>\n",
       "      <td>NaN</td>\n",
       "      <td>0.045</td>\n",
       "      <td>X</td>\n",
       "      <td>Data from UNSD AMA</td>\n",
       "    </tr>\n",
       "  </tbody>\n",
       "</table>\n",
       "</div>"
      ],
      "text/plain": [
       "   Area Code         Area  Item Code                                   Item  \\\n",
       "0          2  Afghanistan       5540  Standard local currency units per USD   \n",
       "1          2  Afghanistan       5540  Standard local currency units per USD   \n",
       "2          2  Afghanistan       5540  Standard local currency units per USD   \n",
       "3          2  Afghanistan       5540  Standard local currency units per USD   \n",
       "4          2  Afghanistan       5540  Standard local currency units per USD   \n",
       "\n",
       "  ISO Currency Code Currency  Year Code  Year  Unit  Value Flag  \\\n",
       "0               AFN  Afghani       1970  1970   NaN  0.045    X   \n",
       "1               AFN  Afghani       1971  1971   NaN  0.045    X   \n",
       "2               AFN  Afghani       1972  1972   NaN  0.045    X   \n",
       "3               AFN  Afghani       1973  1973   NaN  0.045    X   \n",
       "4               AFN  Afghani       1974  1974   NaN  0.045    X   \n",
       "\n",
       "                 Note  \n",
       "0  Data from UNSD AMA  \n",
       "1  Data from UNSD AMA  \n",
       "2  Data from UNSD AMA  \n",
       "3  Data from UNSD AMA  \n",
       "4  Data from UNSD AMA  "
      ]
     },
     "execution_count": 77,
     "metadata": {},
     "output_type": "execute_result"
    }
   ],
   "source": [
    "exchange_rates.head()"
   ]
  },
  {
   "cell_type": "markdown",
   "metadata": {},
   "source": [
    "#### Exchange rates -annual"
   ]
  },
  {
   "cell_type": "code",
   "execution_count": 78,
   "metadata": {},
   "outputs": [],
   "source": [
    "exchange_rates.columns = exchange_rates.columns.str.replace(' ', '_')"
   ]
  },
  {
   "cell_type": "markdown",
   "metadata": {},
   "source": [
    "Want to check if the exchange rates are always from local currency to dollars."
   ]
  },
  {
   "cell_type": "code",
   "execution_count": 79,
   "metadata": {},
   "outputs": [
    {
     "data": {
      "text/plain": [
       "array(['Standard local currency units per USD'], dtype=object)"
      ]
     },
     "execution_count": 79,
     "metadata": {},
     "output_type": "execute_result"
    }
   ],
   "source": [
    "exchange_rates.Item.unique()"
   ]
  },
  {
   "cell_type": "markdown",
   "metadata": {},
   "source": [
    "Check if Year_Code and Year are always the same "
   ]
  },
  {
   "cell_type": "code",
   "execution_count": 80,
   "metadata": {},
   "outputs": [
    {
     "data": {
      "text/plain": [
       "array([0])"
      ]
     },
     "execution_count": 80,
     "metadata": {},
     "output_type": "execute_result"
    }
   ],
   "source": [
    "(exchange_rates.Year_Code - exchange_rates.Year).unique()"
   ]
  },
  {
   "cell_type": "markdown",
   "metadata": {},
   "source": [
    "They seem to be the same -> we can then delete one of the two"
   ]
  },
  {
   "cell_type": "code",
   "execution_count": 81,
   "metadata": {},
   "outputs": [],
   "source": [
    "exchange_rates.drop(['Year_Code'], axis = 1, inplace = True)"
   ]
  },
  {
   "cell_type": "code",
   "execution_count": 82,
   "metadata": {},
   "outputs": [],
   "source": [
    "exchange_rates.rename({'Value': 'Rate'}, axis = 1, inplace = True)"
   ]
  },
  {
   "cell_type": "code",
   "execution_count": 83,
   "metadata": {
    "scrolled": true
   },
   "outputs": [
    {
     "data": {
      "text/html": [
       "<div>\n",
       "<style scoped>\n",
       "    .dataframe tbody tr th:only-of-type {\n",
       "        vertical-align: middle;\n",
       "    }\n",
       "\n",
       "    .dataframe tbody tr th {\n",
       "        vertical-align: top;\n",
       "    }\n",
       "\n",
       "    .dataframe thead th {\n",
       "        text-align: right;\n",
       "    }\n",
       "</style>\n",
       "<table border=\"1\" class=\"dataframe\">\n",
       "  <thead>\n",
       "    <tr style=\"text-align: right;\">\n",
       "      <th></th>\n",
       "      <th>Area_Code</th>\n",
       "      <th>Area</th>\n",
       "      <th>Year</th>\n",
       "      <th>Rate</th>\n",
       "    </tr>\n",
       "  </thead>\n",
       "  <tbody>\n",
       "    <tr>\n",
       "      <td>0</td>\n",
       "      <td>2</td>\n",
       "      <td>Afghanistan</td>\n",
       "      <td>1970</td>\n",
       "      <td>0.045</td>\n",
       "    </tr>\n",
       "    <tr>\n",
       "      <td>1</td>\n",
       "      <td>2</td>\n",
       "      <td>Afghanistan</td>\n",
       "      <td>1971</td>\n",
       "      <td>0.045</td>\n",
       "    </tr>\n",
       "    <tr>\n",
       "      <td>2</td>\n",
       "      <td>2</td>\n",
       "      <td>Afghanistan</td>\n",
       "      <td>1972</td>\n",
       "      <td>0.045</td>\n",
       "    </tr>\n",
       "    <tr>\n",
       "      <td>3</td>\n",
       "      <td>2</td>\n",
       "      <td>Afghanistan</td>\n",
       "      <td>1973</td>\n",
       "      <td>0.045</td>\n",
       "    </tr>\n",
       "    <tr>\n",
       "      <td>4</td>\n",
       "      <td>2</td>\n",
       "      <td>Afghanistan</td>\n",
       "      <td>1974</td>\n",
       "      <td>0.045</td>\n",
       "    </tr>\n",
       "  </tbody>\n",
       "</table>\n",
       "</div>"
      ],
      "text/plain": [
       "   Area_Code         Area  Year   Rate\n",
       "0          2  Afghanistan  1970  0.045\n",
       "1          2  Afghanistan  1971  0.045\n",
       "2          2  Afghanistan  1972  0.045\n",
       "3          2  Afghanistan  1973  0.045\n",
       "4          2  Afghanistan  1974  0.045"
      ]
     },
     "execution_count": 83,
     "metadata": {},
     "output_type": "execute_result"
    }
   ],
   "source": [
    "\"\"\"Select only necessary columns\"\"\"\n",
    "exchange_rates = exchange_rates[['Area_Code', 'Area', 'Year', 'Rate']]\n",
    "exchange_rates.drop_duplicates()\n",
    "exchange_rates.head()"
   ]
  },
  {
   "cell_type": "markdown",
   "metadata": {},
   "source": [
    "Finally we want to know if the dataset contain nan values"
   ]
  },
  {
   "cell_type": "code",
   "execution_count": 84,
   "metadata": {
    "scrolled": true
   },
   "outputs": [
    {
     "data": {
      "text/plain": [
       "Area_Code    0\n",
       "Area         0\n",
       "Year         0\n",
       "Rate         0\n",
       "dtype: int64"
      ]
     },
     "execution_count": 84,
     "metadata": {},
     "output_type": "execute_result"
    }
   ],
   "source": [
    "exchange_rates.isnull().sum()"
   ]
  },
  {
   "cell_type": "markdown",
   "metadata": {},
   "source": [
    "Thus `exchange_rates` does not contain any nan values"
   ]
  },
  {
   "cell_type": "markdown",
   "metadata": {},
   "source": [
    "##### Switzerland study"
   ]
  },
  {
   "cell_type": "code",
   "execution_count": 85,
   "metadata": {},
   "outputs": [],
   "source": [
    "exchange_rates_swiss = exchange_rates.loc[exchange_rates.Area == 'Switzerland']"
   ]
  },
  {
   "cell_type": "code",
   "execution_count": 86,
   "metadata": {},
   "outputs": [
    {
     "data": {
      "image/png": "[encoded data removed]",
      "text/plain": [
       "<Figure size 432x288 with 1 Axes>"
      ]
     },
     "metadata": {
      "needs_background": "light"
     },
     "output_type": "display_data"
    }
   ],
   "source": [
    "exchange_rates_swiss[['Rate', 'Year']].plot(kind = 'line', x = 'Year', y = 'Rate')\n",
    "plt.title('CHF-USD rates from 1970 to 2018')\n",
    "plt.ylabel('Rate value')\n",
    "plt.show()"
   ]
  },
  {
   "cell_type": "markdown",
   "metadata": {},
   "source": [
    "When looking at the rates evolution from 1970 to 2018, everything seems to be correct without outliers. High rates are present in the 70's. From 2010 the USD and the CHF are almost equal which is also expected."
   ]
  },
  {
   "cell_type": "markdown",
   "metadata": {},
   "source": [
    "#### Producer prices"
   ]
  },
  {
   "cell_type": "markdown",
   "metadata": {},
   "source": [
    "##### Producer prices -annual"
   ]
  },
  {
   "cell_type": "code",
   "execution_count": 87,
   "metadata": {},
   "outputs": [],
   "source": [
    "prices_annual.columns = prices_annual.columns.str.replace(' ', '_')"
   ]
  },
  {
   "cell_type": "code",
   "execution_count": 88,
   "metadata": {
    "scrolled": true
   },
   "outputs": [
    {
     "data": {
      "text/plain": [
       "Area_Code            0\n",
       "Area                 0\n",
       "Item_Code            0\n",
       "Item                 0\n",
       "Element_Code         0\n",
       "Element              0\n",
       "Year_Code            0\n",
       "Year                 0\n",
       "Unit                 0\n",
       "Value                0\n",
       "Flag            419455\n",
       "dtype: int64"
      ]
     },
     "execution_count": 88,
     "metadata": {},
     "output_type": "execute_result"
    }
   ],
   "source": [
    "''' Checking if the dataframe contains nan values'''\n",
    "prices_annual.isnull().sum()"
   ]
  },
  {
   "cell_type": "markdown",
   "metadata": {},
   "source": [
    "Again for this dataset we check if Year_Code and Year are the same"
   ]
  },
  {
   "cell_type": "code",
   "execution_count": 89,
   "metadata": {},
   "outputs": [
    {
     "data": {
      "text/plain": [
       "array([0])"
      ]
     },
     "execution_count": 89,
     "metadata": {},
     "output_type": "execute_result"
    }
   ],
   "source": [
    "(prices_annual.Year_Code - prices_annual.Year).unique()"
   ]
  },
  {
   "cell_type": "markdown",
   "metadata": {},
   "source": [
    "There are the same so to be consistent with the dataframe `exchange_rates` we keep the Year column"
   ]
  },
  {
   "cell_type": "code",
   "execution_count": 90,
   "metadata": {},
   "outputs": [],
   "source": [
    "prices_annual.drop(['Year_Code'], axis = 1, inplace = True)"
   ]
  },
  {
   "cell_type": "markdown",
   "metadata": {},
   "source": [
    "We finally want to know in which units are the prices"
   ]
  },
  {
   "cell_type": "markdown",
   "metadata": {},
   "source": [
    "##### Switzerland study"
   ]
  },
  {
   "cell_type": "code",
   "execution_count": 91,
   "metadata": {},
   "outputs": [],
   "source": [
    "''' Swizerland case'''\n",
    "prices_annual_swiss = prices_annual.copy()\n",
    "prices_annual_swiss = prices_annual.loc[prices_annual.Area == 'Switzerland']"
   ]
  },
  {
   "cell_type": "markdown",
   "metadata": {},
   "source": [
    "First let's check the different units contain in the switzerland dataset"
   ]
  },
  {
   "cell_type": "code",
   "execution_count": 92,
   "metadata": {},
   "outputs": [
    {
     "data": {
      "text/plain": [
       "array(['LCU', 'SLC', 'USD'], dtype=object)"
      ]
     },
     "execution_count": 92,
     "metadata": {},
     "output_type": "execute_result"
    }
   ],
   "source": [
    "prices_annual_swiss['Unit'].unique()"
   ]
  },
  {
   "cell_type": "code",
   "execution_count": 93,
   "metadata": {},
   "outputs": [
    {
     "data": {
      "text/plain": [
       "array(['Producer Price (LCU/tonne)', 'Producer Price (SLC/tonne)',\n",
       "       'Producer Price (USD/tonne)'], dtype=object)"
      ]
     },
     "execution_count": 93,
     "metadata": {},
     "output_type": "execute_result"
    }
   ],
   "source": [
    "prices_annual_swiss['Element'].unique()"
   ]
  },
  {
   "cell_type": "code",
   "execution_count": 94,
   "metadata": {},
   "outputs": [
    {
     "data": {
      "text/plain": [
       "array([5530, 5531, 5532])"
      ]
     },
     "execution_count": 94,
     "metadata": {},
     "output_type": "execute_result"
    }
   ],
   "source": [
    "prices_annual_swiss['Element_Code'].unique()"
   ]
  },
  {
   "cell_type": "markdown",
   "metadata": {},
   "source": [
    "Since three different units appear in the switzerland producer prices -annual dataset, we need to have a standard unit to able to compare values. This is achived by joining `prices_annual_swiss` dataframe with the `exchange_rates` dataframe. The standard unit will be dollars(USD) since the `exchange_rates` dataframe is based on dollars."
   ]
  },
  {
   "cell_type": "code",
   "execution_count": 95,
   "metadata": {
    "scrolled": true
   },
   "outputs": [
    {
     "data": {
      "text/html": [
       "<div>\n",
       "<style scoped>\n",
       "    .dataframe tbody tr th:only-of-type {\n",
       "        vertical-align: middle;\n",
       "    }\n",
       "\n",
       "    .dataframe tbody tr th {\n",
       "        vertical-align: top;\n",
       "    }\n",
       "\n",
       "    .dataframe thead th {\n",
       "        text-align: right;\n",
       "    }\n",
       "</style>\n",
       "<table border=\"1\" class=\"dataframe\">\n",
       "  <thead>\n",
       "    <tr style=\"text-align: right;\">\n",
       "      <th></th>\n",
       "      <th>Area_Code</th>\n",
       "      <th>Area</th>\n",
       "      <th>Item_Code</th>\n",
       "      <th>Item</th>\n",
       "      <th>Element_Code</th>\n",
       "      <th>Element</th>\n",
       "      <th>Year</th>\n",
       "      <th>Unit</th>\n",
       "      <th>Value</th>\n",
       "      <th>Flag</th>\n",
       "    </tr>\n",
       "  </thead>\n",
       "  <tbody>\n",
       "    <tr>\n",
       "      <td>389937</td>\n",
       "      <td>211</td>\n",
       "      <td>Switzerland</td>\n",
       "      <td>515</td>\n",
       "      <td>Apples</td>\n",
       "      <td>5532</td>\n",
       "      <td>Producer Price (USD/tonne)</td>\n",
       "      <td>1991</td>\n",
       "      <td>USD</td>\n",
       "      <td>684.8</td>\n",
       "      <td>NaN</td>\n",
       "    </tr>\n",
       "    <tr>\n",
       "      <td>389938</td>\n",
       "      <td>211</td>\n",
       "      <td>Switzerland</td>\n",
       "      <td>515</td>\n",
       "      <td>Apples</td>\n",
       "      <td>5532</td>\n",
       "      <td>Producer Price (USD/tonne)</td>\n",
       "      <td>1992</td>\n",
       "      <td>USD</td>\n",
       "      <td>342.1</td>\n",
       "      <td>NaN</td>\n",
       "    </tr>\n",
       "    <tr>\n",
       "      <td>389939</td>\n",
       "      <td>211</td>\n",
       "      <td>Switzerland</td>\n",
       "      <td>515</td>\n",
       "      <td>Apples</td>\n",
       "      <td>5532</td>\n",
       "      <td>Producer Price (USD/tonne)</td>\n",
       "      <td>1993</td>\n",
       "      <td>USD</td>\n",
       "      <td>457.5</td>\n",
       "      <td>NaN</td>\n",
       "    </tr>\n",
       "    <tr>\n",
       "      <td>389940</td>\n",
       "      <td>211</td>\n",
       "      <td>Switzerland</td>\n",
       "      <td>515</td>\n",
       "      <td>Apples</td>\n",
       "      <td>5532</td>\n",
       "      <td>Producer Price (USD/tonne)</td>\n",
       "      <td>1994</td>\n",
       "      <td>USD</td>\n",
       "      <td>452.6</td>\n",
       "      <td>NaN</td>\n",
       "    </tr>\n",
       "    <tr>\n",
       "      <td>389941</td>\n",
       "      <td>211</td>\n",
       "      <td>Switzerland</td>\n",
       "      <td>515</td>\n",
       "      <td>Apples</td>\n",
       "      <td>5532</td>\n",
       "      <td>Producer Price (USD/tonne)</td>\n",
       "      <td>1995</td>\n",
       "      <td>USD</td>\n",
       "      <td>643.6</td>\n",
       "      <td>NaN</td>\n",
       "    </tr>\n",
       "  </tbody>\n",
       "</table>\n",
       "</div>"
      ],
      "text/plain": [
       "        Area_Code         Area  Item_Code    Item  Element_Code  \\\n",
       "389937        211  Switzerland        515  Apples          5532   \n",
       "389938        211  Switzerland        515  Apples          5532   \n",
       "389939        211  Switzerland        515  Apples          5532   \n",
       "389940        211  Switzerland        515  Apples          5532   \n",
       "389941        211  Switzerland        515  Apples          5532   \n",
       "\n",
       "                           Element  Year Unit  Value Flag  \n",
       "389937  Producer Price (USD/tonne)  1991  USD  684.8  NaN  \n",
       "389938  Producer Price (USD/tonne)  1992  USD  342.1  NaN  \n",
       "389939  Producer Price (USD/tonne)  1993  USD  457.5  NaN  \n",
       "389940  Producer Price (USD/tonne)  1994  USD  452.6  NaN  \n",
       "389941  Producer Price (USD/tonne)  1995  USD  643.6  NaN  "
      ]
     },
     "execution_count": 95,
     "metadata": {},
     "output_type": "execute_result"
    }
   ],
   "source": [
    "''' Prices in USD unit'''\n",
    "prices_annual_swiss_usd = prices_annual_swiss.loc[prices_annual_swiss.Unit == 'USD']\n",
    "prices_annual_swiss_usd.head()"
   ]
  },
  {
   "cell_type": "code",
   "execution_count": 96,
   "metadata": {
    "scrolled": true
   },
   "outputs": [
    {
     "data": {
      "text/html": [
       "<div>\n",
       "<style scoped>\n",
       "    .dataframe tbody tr th:only-of-type {\n",
       "        vertical-align: middle;\n",
       "    }\n",
       "\n",
       "    .dataframe tbody tr th {\n",
       "        vertical-align: top;\n",
       "    }\n",
       "\n",
       "    .dataframe thead th {\n",
       "        text-align: right;\n",
       "    }\n",
       "</style>\n",
       "<table border=\"1\" class=\"dataframe\">\n",
       "  <thead>\n",
       "    <tr style=\"text-align: right;\">\n",
       "      <th></th>\n",
       "      <th>Area_Code</th>\n",
       "      <th>Area</th>\n",
       "      <th>Item_Code</th>\n",
       "      <th>Item</th>\n",
       "      <th>Element_Code</th>\n",
       "      <th>Element</th>\n",
       "      <th>Year</th>\n",
       "      <th>Unit</th>\n",
       "      <th>Value</th>\n",
       "      <th>Flag</th>\n",
       "    </tr>\n",
       "  </thead>\n",
       "  <tbody>\n",
       "    <tr>\n",
       "      <td>389881</td>\n",
       "      <td>211</td>\n",
       "      <td>Switzerland</td>\n",
       "      <td>515</td>\n",
       "      <td>Apples</td>\n",
       "      <td>5530</td>\n",
       "      <td>Producer Price (LCU/tonne)</td>\n",
       "      <td>1991</td>\n",
       "      <td>LCU</td>\n",
       "      <td>982.0</td>\n",
       "      <td>NaN</td>\n",
       "    </tr>\n",
       "    <tr>\n",
       "      <td>389882</td>\n",
       "      <td>211</td>\n",
       "      <td>Switzerland</td>\n",
       "      <td>515</td>\n",
       "      <td>Apples</td>\n",
       "      <td>5530</td>\n",
       "      <td>Producer Price (LCU/tonne)</td>\n",
       "      <td>1992</td>\n",
       "      <td>LCU</td>\n",
       "      <td>481.0</td>\n",
       "      <td>NaN</td>\n",
       "    </tr>\n",
       "    <tr>\n",
       "      <td>389883</td>\n",
       "      <td>211</td>\n",
       "      <td>Switzerland</td>\n",
       "      <td>515</td>\n",
       "      <td>Apples</td>\n",
       "      <td>5530</td>\n",
       "      <td>Producer Price (LCU/tonne)</td>\n",
       "      <td>1993</td>\n",
       "      <td>LCU</td>\n",
       "      <td>676.0</td>\n",
       "      <td>NaN</td>\n",
       "    </tr>\n",
       "    <tr>\n",
       "      <td>389884</td>\n",
       "      <td>211</td>\n",
       "      <td>Switzerland</td>\n",
       "      <td>515</td>\n",
       "      <td>Apples</td>\n",
       "      <td>5530</td>\n",
       "      <td>Producer Price (LCU/tonne)</td>\n",
       "      <td>1994</td>\n",
       "      <td>LCU</td>\n",
       "      <td>619.0</td>\n",
       "      <td>NaN</td>\n",
       "    </tr>\n",
       "    <tr>\n",
       "      <td>389885</td>\n",
       "      <td>211</td>\n",
       "      <td>Switzerland</td>\n",
       "      <td>515</td>\n",
       "      <td>Apples</td>\n",
       "      <td>5530</td>\n",
       "      <td>Producer Price (LCU/tonne)</td>\n",
       "      <td>1995</td>\n",
       "      <td>LCU</td>\n",
       "      <td>761.0</td>\n",
       "      <td>NaN</td>\n",
       "    </tr>\n",
       "  </tbody>\n",
       "</table>\n",
       "</div>"
      ],
      "text/plain": [
       "        Area_Code         Area  Item_Code    Item  Element_Code  \\\n",
       "389881        211  Switzerland        515  Apples          5530   \n",
       "389882        211  Switzerland        515  Apples          5530   \n",
       "389883        211  Switzerland        515  Apples          5530   \n",
       "389884        211  Switzerland        515  Apples          5530   \n",
       "389885        211  Switzerland        515  Apples          5530   \n",
       "\n",
       "                           Element  Year Unit  Value Flag  \n",
       "389881  Producer Price (LCU/tonne)  1991  LCU  982.0  NaN  \n",
       "389882  Producer Price (LCU/tonne)  1992  LCU  481.0  NaN  \n",
       "389883  Producer Price (LCU/tonne)  1993  LCU  676.0  NaN  \n",
       "389884  Producer Price (LCU/tonne)  1994  LCU  619.0  NaN  \n",
       "389885  Producer Price (LCU/tonne)  1995  LCU  761.0  NaN  "
      ]
     },
     "execution_count": 96,
     "metadata": {},
     "output_type": "execute_result"
    }
   ],
   "source": [
    "''' Prices in LCU (local currency unit) unit'''\n",
    "prices_annual_swiss_lcu = prices_annual_swiss.loc[prices_annual_swiss.Unit == 'LCU']\n",
    "prices_annual_swiss_lcu.head()"
   ]
  },
  {
   "cell_type": "code",
   "execution_count": 97,
   "metadata": {
    "scrolled": true
   },
   "outputs": [
    {
     "data": {
      "text/html": [
       "<div>\n",
       "<style scoped>\n",
       "    .dataframe tbody tr th:only-of-type {\n",
       "        vertical-align: middle;\n",
       "    }\n",
       "\n",
       "    .dataframe tbody tr th {\n",
       "        vertical-align: top;\n",
       "    }\n",
       "\n",
       "    .dataframe thead th {\n",
       "        text-align: right;\n",
       "    }\n",
       "</style>\n",
       "<table border=\"1\" class=\"dataframe\">\n",
       "  <thead>\n",
       "    <tr style=\"text-align: right;\">\n",
       "      <th></th>\n",
       "      <th>Area_Code</th>\n",
       "      <th>Area</th>\n",
       "      <th>Item_Code</th>\n",
       "      <th>Item</th>\n",
       "      <th>Element_Code</th>\n",
       "      <th>Element</th>\n",
       "      <th>Year</th>\n",
       "      <th>Unit</th>\n",
       "      <th>Value</th>\n",
       "      <th>Flag</th>\n",
       "    </tr>\n",
       "  </thead>\n",
       "  <tbody>\n",
       "    <tr>\n",
       "      <td>389909</td>\n",
       "      <td>211</td>\n",
       "      <td>Switzerland</td>\n",
       "      <td>515</td>\n",
       "      <td>Apples</td>\n",
       "      <td>5531</td>\n",
       "      <td>Producer Price (SLC/tonne)</td>\n",
       "      <td>1991</td>\n",
       "      <td>SLC</td>\n",
       "      <td>982.0</td>\n",
       "      <td>NaN</td>\n",
       "    </tr>\n",
       "    <tr>\n",
       "      <td>389910</td>\n",
       "      <td>211</td>\n",
       "      <td>Switzerland</td>\n",
       "      <td>515</td>\n",
       "      <td>Apples</td>\n",
       "      <td>5531</td>\n",
       "      <td>Producer Price (SLC/tonne)</td>\n",
       "      <td>1992</td>\n",
       "      <td>SLC</td>\n",
       "      <td>481.0</td>\n",
       "      <td>NaN</td>\n",
       "    </tr>\n",
       "    <tr>\n",
       "      <td>389911</td>\n",
       "      <td>211</td>\n",
       "      <td>Switzerland</td>\n",
       "      <td>515</td>\n",
       "      <td>Apples</td>\n",
       "      <td>5531</td>\n",
       "      <td>Producer Price (SLC/tonne)</td>\n",
       "      <td>1993</td>\n",
       "      <td>SLC</td>\n",
       "      <td>676.0</td>\n",
       "      <td>NaN</td>\n",
       "    </tr>\n",
       "    <tr>\n",
       "      <td>389912</td>\n",
       "      <td>211</td>\n",
       "      <td>Switzerland</td>\n",
       "      <td>515</td>\n",
       "      <td>Apples</td>\n",
       "      <td>5531</td>\n",
       "      <td>Producer Price (SLC/tonne)</td>\n",
       "      <td>1994</td>\n",
       "      <td>SLC</td>\n",
       "      <td>619.0</td>\n",
       "      <td>NaN</td>\n",
       "    </tr>\n",
       "    <tr>\n",
       "      <td>389913</td>\n",
       "      <td>211</td>\n",
       "      <td>Switzerland</td>\n",
       "      <td>515</td>\n",
       "      <td>Apples</td>\n",
       "      <td>5531</td>\n",
       "      <td>Producer Price (SLC/tonne)</td>\n",
       "      <td>1995</td>\n",
       "      <td>SLC</td>\n",
       "      <td>761.0</td>\n",
       "      <td>NaN</td>\n",
       "    </tr>\n",
       "  </tbody>\n",
       "</table>\n",
       "</div>"
      ],
      "text/plain": [
       "        Area_Code         Area  Item_Code    Item  Element_Code  \\\n",
       "389909        211  Switzerland        515  Apples          5531   \n",
       "389910        211  Switzerland        515  Apples          5531   \n",
       "389911        211  Switzerland        515  Apples          5531   \n",
       "389912        211  Switzerland        515  Apples          5531   \n",
       "389913        211  Switzerland        515  Apples          5531   \n",
       "\n",
       "                           Element  Year Unit  Value Flag  \n",
       "389909  Producer Price (SLC/tonne)  1991  SLC  982.0  NaN  \n",
       "389910  Producer Price (SLC/tonne)  1992  SLC  481.0  NaN  \n",
       "389911  Producer Price (SLC/tonne)  1993  SLC  676.0  NaN  \n",
       "389912  Producer Price (SLC/tonne)  1994  SLC  619.0  NaN  \n",
       "389913  Producer Price (SLC/tonne)  1995  SLC  761.0  NaN  "
      ]
     },
     "execution_count": 97,
     "metadata": {},
     "output_type": "execute_result"
    }
   ],
   "source": [
    "''' Prices in SLC (standard local currency) unit'''\n",
    "prices_annual_swiss_slc = prices_annual_swiss.loc[prices_annual_swiss.Unit == 'SLC']\n",
    "prices_annual_swiss_slc.head()"
   ]
  },
  {
   "cell_type": "markdown",
   "metadata": {},
   "source": [
    "The length of the prices with USD, SLC and LCU are the same. We can think that prices are reproduced three times in the switzerland dataset.\n",
    "To be sure let transform SLC and LCU unit into USD unit."
   ]
  },
  {
   "cell_type": "code",
   "execution_count": 98,
   "metadata": {},
   "outputs": [
    {
     "data": {
      "text/plain": [
       "True"
      ]
     },
     "execution_count": 98,
     "metadata": {},
     "output_type": "execute_result"
    }
   ],
   "source": [
    "''' \n",
    "Check if datasets containg LCU and SLC units are the same.\n",
    "Unit, Element, Element_Code are columns referencing the unit used, we can then work without these columns \n",
    "for checking equality.\n",
    "'''\n",
    "prices_annual_swiss_slc.loc[prices_annual_swiss_slc.Unit == 'LCU'][prices_annual_swiss_slc.columns.difference(['Unit', 'Element', 'Element_Code'])].equals(prices_annual_swiss_lcu.loc[prices_annual_swiss_lcu.Unit == 'SLC'][prices_annual_swiss_lcu.columns.difference(['Unit', 'Element', 'Element_Code'])])"
   ]
  },
  {
   "cell_type": "markdown",
   "metadata": {},
   "source": [
    "The dataset containg with SLC and LCU unit are equals. Thus we only have to transform one of the two dataset into USD unit."
   ]
  },
  {
   "cell_type": "code",
   "execution_count": 99,
   "metadata": {
    "scrolled": true
   },
   "outputs": [
    {
     "data": {
      "text/html": [
       "<div>\n",
       "<style scoped>\n",
       "    .dataframe tbody tr th:only-of-type {\n",
       "        vertical-align: middle;\n",
       "    }\n",
       "\n",
       "    .dataframe tbody tr th {\n",
       "        vertical-align: top;\n",
       "    }\n",
       "\n",
       "    .dataframe thead th {\n",
       "        text-align: right;\n",
       "    }\n",
       "</style>\n",
       "<table border=\"1\" class=\"dataframe\">\n",
       "  <thead>\n",
       "    <tr style=\"text-align: right;\">\n",
       "      <th></th>\n",
       "      <th>Area_Code</th>\n",
       "      <th>Area</th>\n",
       "      <th>Item_Code</th>\n",
       "      <th>Item</th>\n",
       "      <th>Element_Code</th>\n",
       "      <th>Element</th>\n",
       "      <th>Year</th>\n",
       "      <th>Unit</th>\n",
       "      <th>Value</th>\n",
       "      <th>Flag</th>\n",
       "    </tr>\n",
       "  </thead>\n",
       "  <tbody>\n",
       "    <tr>\n",
       "      <td>0</td>\n",
       "      <td>211</td>\n",
       "      <td>Switzerland</td>\n",
       "      <td>515</td>\n",
       "      <td>Apples</td>\n",
       "      <td>5532</td>\n",
       "      <td>Producer Price (USD/tonne)</td>\n",
       "      <td>1991</td>\n",
       "      <td>USD</td>\n",
       "      <td>684.797768</td>\n",
       "      <td>NaN</td>\n",
       "    </tr>\n",
       "    <tr>\n",
       "      <td>1</td>\n",
       "      <td>211</td>\n",
       "      <td>Switzerland</td>\n",
       "      <td>526</td>\n",
       "      <td>Apricots</td>\n",
       "      <td>5532</td>\n",
       "      <td>Producer Price (USD/tonne)</td>\n",
       "      <td>1991</td>\n",
       "      <td>USD</td>\n",
       "      <td>1377.266388</td>\n",
       "      <td>NaN</td>\n",
       "    </tr>\n",
       "    <tr>\n",
       "      <td>2</td>\n",
       "      <td>211</td>\n",
       "      <td>Switzerland</td>\n",
       "      <td>44</td>\n",
       "      <td>Barley</td>\n",
       "      <td>5532</td>\n",
       "      <td>Producer Price (USD/tonne)</td>\n",
       "      <td>1991</td>\n",
       "      <td>USD</td>\n",
       "      <td>481.171548</td>\n",
       "      <td>NaN</td>\n",
       "    </tr>\n",
       "    <tr>\n",
       "      <td>3</td>\n",
       "      <td>211</td>\n",
       "      <td>Switzerland</td>\n",
       "      <td>414</td>\n",
       "      <td>Beans, green</td>\n",
       "      <td>5532</td>\n",
       "      <td>Producer Price (USD/tonne)</td>\n",
       "      <td>1991</td>\n",
       "      <td>USD</td>\n",
       "      <td>942.817294</td>\n",
       "      <td>NaN</td>\n",
       "    </tr>\n",
       "    <tr>\n",
       "      <td>4</td>\n",
       "      <td>211</td>\n",
       "      <td>Switzerland</td>\n",
       "      <td>358</td>\n",
       "      <td>Cabbages and other brassicas</td>\n",
       "      <td>5532</td>\n",
       "      <td>Producer Price (USD/tonne)</td>\n",
       "      <td>1991</td>\n",
       "      <td>USD</td>\n",
       "      <td>837.517434</td>\n",
       "      <td>NaN</td>\n",
       "    </tr>\n",
       "  </tbody>\n",
       "</table>\n",
       "</div>"
      ],
      "text/plain": [
       "   Area_Code         Area  Item_Code                          Item  \\\n",
       "0        211  Switzerland        515                        Apples   \n",
       "1        211  Switzerland        526                      Apricots   \n",
       "2        211  Switzerland         44                        Barley   \n",
       "3        211  Switzerland        414                  Beans, green   \n",
       "4        211  Switzerland        358  Cabbages and other brassicas   \n",
       "\n",
       "   Element_Code                     Element  Year Unit        Value Flag  \n",
       "0          5532  Producer Price (USD/tonne)  1991  USD   684.797768  NaN  \n",
       "1          5532  Producer Price (USD/tonne)  1991  USD  1377.266388  NaN  \n",
       "2          5532  Producer Price (USD/tonne)  1991  USD   481.171548  NaN  \n",
       "3          5532  Producer Price (USD/tonne)  1991  USD   942.817294  NaN  \n",
       "4          5532  Producer Price (USD/tonne)  1991  USD   837.517434  NaN  "
      ]
     },
     "execution_count": 99,
     "metadata": {},
     "output_type": "execute_result"
    }
   ],
   "source": [
    "prices_annual_swiss_lcu_usd = prices_annual_swiss.loc[prices_annual_swiss.Unit == 'LCU'].merge(exchange_rates, left_on = ['Area_Code', 'Area', 'Year'], right_on = ['Area_Code', 'Area', 'Year'], suffixes=('', '_to_delete'))\n",
    "prices_annual_swiss_lcu_usd['Value'] = prices_annual_swiss_lcu_usd['Value'] / prices_annual_swiss_lcu_usd['Rate']\n",
    "prices_annual_swiss_lcu_usd.drop(columns = ['Rate'], inplace = True)\n",
    "prices_annual_swiss_lcu_usd['Unit'] = 'USD'\n",
    "prices_annual_swiss_lcu_usd['Element'] = 'Producer Price (USD/tonne)'\n",
    "prices_annual_swiss_lcu_usd['Element_Code'] = 5532\n",
    "prices_annual_swiss_lcu_usd.head()"
   ]
  },
  {
   "cell_type": "code",
   "execution_count": 100,
   "metadata": {},
   "outputs": [
    {
     "data": {
      "image/png": "[encoded data removed]",
      "text/plain": [
       "<Figure size 432x288 with 1 Axes>"
      ]
     },
     "metadata": {
      "needs_background": "light"
     },
     "output_type": "display_data"
    }
   ],
   "source": [
    "names = ['USD', 'LCU -> USD']\n",
    "plt.boxplot([prices_annual_swiss_usd['Value'], prices_annual_swiss_lcu_usd['Value']])\n",
    "plt.xticks([1, 2], names)\n",
    "plt.title('Comparison of prices between data directly in USD and data converted from LCU to USD from 1991 to 2018')\n",
    "plt.xlabel('Unit')\n",
    "plt.ylabel('Price (USD/tonne)')\n",
    "plt.show()"
   ]
  },
  {
   "cell_type": "markdown",
   "metadata": {},
   "source": [
    "Distribution seems to be the same, let's check if these two datasets are equal."
   ]
  },
  {
   "cell_type": "code",
   "execution_count": 101,
   "metadata": {},
   "outputs": [
    {
     "data": {
      "text/plain": [
       "True"
      ]
     },
     "execution_count": 101,
     "metadata": {},
     "output_type": "execute_result"
    }
   ],
   "source": [
    "prices_annual_swiss_usd.loc[prices_annual_swiss_usd.Unit == 'LCU'][prices_annual_swiss_usd.columns.difference(['Unit', 'Element', 'Element_Code'])].equals(prices_annual_swiss_lcu_usd.loc[prices_annual_swiss_lcu_usd.Unit == 'SLC'][prices_annual_swiss_lcu_usd.columns.difference(['Unit', 'Element', 'Element_Code'])])"
   ]
  },
  {
   "cell_type": "markdown",
   "metadata": {},
   "source": [
    "Thus, we can conclude that for the case of swizerland, data is well organized without any outliers."
   ]
  },
  {
   "cell_type": "markdown",
   "metadata": {},
   "source": [
    "##### Producer prices -archive"
   ]
  },
  {
   "cell_type": "code",
   "execution_count": 102,
   "metadata": {},
   "outputs": [],
   "source": [
    "prices_arch = prices_arch.rename(columns = {'CountryCode': 'Area_Code', \n",
    "                                            'Country': 'Area',\n",
    "                                            'ItemCode': 'Item_Code',\n",
    "                                            'ElementGroup': 'Element_Group',\n",
    "                                            'ElementCode': 'Element_Code'})"
   ]
  },
  {
   "cell_type": "code",
   "execution_count": 103,
   "metadata": {},
   "outputs": [
    {
     "data": {
      "text/plain": [
       "array(['LCU'], dtype=object)"
      ]
     },
     "execution_count": 103,
     "metadata": {},
     "output_type": "execute_result"
    }
   ],
   "source": [
    "prices_arch['Unit'].unique()"
   ]
  },
  {
   "cell_type": "code",
   "execution_count": 104,
   "metadata": {},
   "outputs": [
    {
     "data": {
      "text/plain": [
       "array(['Producer Price (LCU/tonne)'], dtype=object)"
      ]
     },
     "execution_count": 104,
     "metadata": {},
     "output_type": "execute_result"
    }
   ],
   "source": [
    "prices_arch['Element'].unique()"
   ]
  },
  {
   "cell_type": "code",
   "execution_count": 105,
   "metadata": {},
   "outputs": [
    {
     "data": {
      "text/plain": [
       "array([5530])"
      ]
     },
     "execution_count": 105,
     "metadata": {},
     "output_type": "execute_result"
    }
   ],
   "source": [
    "prices_arch['Element_Code'].unique()"
   ]
  },
  {
   "cell_type": "code",
   "execution_count": 106,
   "metadata": {},
   "outputs": [
    {
     "data": {
      "text/plain": [
       "array([53])"
      ]
     },
     "execution_count": 106,
     "metadata": {},
     "output_type": "execute_result"
    }
   ],
   "source": [
    "prices_arch['Element_Group'].unique()"
   ]
  },
  {
   "cell_type": "markdown",
   "metadata": {},
   "source": [
    "Element_Group column is only present in prices_arch and has a single value. We can then delete this column."
   ]
  },
  {
   "cell_type": "code",
   "execution_count": 107,
   "metadata": {},
   "outputs": [],
   "source": [
    "prices_arch.drop(columns = ['Element_Group'], inplace = True)"
   ]
  },
  {
   "cell_type": "markdown",
   "metadata": {},
   "source": [
    "`prices_arch` dataframe contains only prices in local currency unit (LCU). Thus, we need to convert everything into our standard format: USD unit."
   ]
  },
  {
   "cell_type": "code",
   "execution_count": 108,
   "metadata": {
    "scrolled": true
   },
   "outputs": [
    {
     "data": {
      "text/html": [
       "<div>\n",
       "<style scoped>\n",
       "    .dataframe tbody tr th:only-of-type {\n",
       "        vertical-align: middle;\n",
       "    }\n",
       "\n",
       "    .dataframe tbody tr th {\n",
       "        vertical-align: top;\n",
       "    }\n",
       "\n",
       "    .dataframe thead th {\n",
       "        text-align: right;\n",
       "    }\n",
       "</style>\n",
       "<table border=\"1\" class=\"dataframe\">\n",
       "  <thead>\n",
       "    <tr style=\"text-align: right;\">\n",
       "      <th></th>\n",
       "      <th>Area_Code</th>\n",
       "      <th>Area</th>\n",
       "      <th>Item_Code</th>\n",
       "      <th>Item</th>\n",
       "      <th>Element_Code</th>\n",
       "      <th>Element</th>\n",
       "      <th>Year</th>\n",
       "      <th>Unit</th>\n",
       "      <th>Value</th>\n",
       "      <th>Flag</th>\n",
       "    </tr>\n",
       "  </thead>\n",
       "  <tbody>\n",
       "    <tr>\n",
       "      <td>119920</td>\n",
       "      <td>211</td>\n",
       "      <td>Switzerland</td>\n",
       "      <td>515</td>\n",
       "      <td>Apples</td>\n",
       "      <td>5530</td>\n",
       "      <td>Producer Price (LCU/tonne)</td>\n",
       "      <td>1966</td>\n",
       "      <td>LCU</td>\n",
       "      <td>260.0</td>\n",
       "      <td>F</td>\n",
       "    </tr>\n",
       "    <tr>\n",
       "      <td>119921</td>\n",
       "      <td>211</td>\n",
       "      <td>Switzerland</td>\n",
       "      <td>515</td>\n",
       "      <td>Apples</td>\n",
       "      <td>5530</td>\n",
       "      <td>Producer Price (LCU/tonne)</td>\n",
       "      <td>1967</td>\n",
       "      <td>LCU</td>\n",
       "      <td>230.0</td>\n",
       "      <td>F</td>\n",
       "    </tr>\n",
       "    <tr>\n",
       "      <td>119922</td>\n",
       "      <td>211</td>\n",
       "      <td>Switzerland</td>\n",
       "      <td>515</td>\n",
       "      <td>Apples</td>\n",
       "      <td>5530</td>\n",
       "      <td>Producer Price (LCU/tonne)</td>\n",
       "      <td>1968</td>\n",
       "      <td>LCU</td>\n",
       "      <td>230.0</td>\n",
       "      <td>F</td>\n",
       "    </tr>\n",
       "    <tr>\n",
       "      <td>119923</td>\n",
       "      <td>211</td>\n",
       "      <td>Switzerland</td>\n",
       "      <td>515</td>\n",
       "      <td>Apples</td>\n",
       "      <td>5530</td>\n",
       "      <td>Producer Price (LCU/tonne)</td>\n",
       "      <td>1969</td>\n",
       "      <td>LCU</td>\n",
       "      <td>230.0</td>\n",
       "      <td>F</td>\n",
       "    </tr>\n",
       "    <tr>\n",
       "      <td>119924</td>\n",
       "      <td>211</td>\n",
       "      <td>Switzerland</td>\n",
       "      <td>515</td>\n",
       "      <td>Apples</td>\n",
       "      <td>5530</td>\n",
       "      <td>Producer Price (LCU/tonne)</td>\n",
       "      <td>1970</td>\n",
       "      <td>LCU</td>\n",
       "      <td>230.0</td>\n",
       "      <td>F</td>\n",
       "    </tr>\n",
       "  </tbody>\n",
       "</table>\n",
       "</div>"
      ],
      "text/plain": [
       "        Area_Code         Area  Item_Code    Item  Element_Code  \\\n",
       "119920        211  Switzerland        515  Apples          5530   \n",
       "119921        211  Switzerland        515  Apples          5530   \n",
       "119922        211  Switzerland        515  Apples          5530   \n",
       "119923        211  Switzerland        515  Apples          5530   \n",
       "119924        211  Switzerland        515  Apples          5530   \n",
       "\n",
       "                           Element  Year Unit  Value Flag  \n",
       "119920  Producer Price (LCU/tonne)  1966  LCU  260.0    F  \n",
       "119921  Producer Price (LCU/tonne)  1967  LCU  230.0    F  \n",
       "119922  Producer Price (LCU/tonne)  1968  LCU  230.0    F  \n",
       "119923  Producer Price (LCU/tonne)  1969  LCU  230.0    F  \n",
       "119924  Producer Price (LCU/tonne)  1970  LCU  230.0    F  "
      ]
     },
     "execution_count": 108,
     "metadata": {},
     "output_type": "execute_result"
    }
   ],
   "source": [
    "prices_arch_swiss = prices_arch.loc[prices_arch.Area == 'Switzerland']\n",
    "prices_arch_swiss.head()"
   ]
  },
  {
   "cell_type": "code",
   "execution_count": 109,
   "metadata": {
    "scrolled": true
   },
   "outputs": [
    {
     "data": {
      "text/html": [
       "<div>\n",
       "<style scoped>\n",
       "    .dataframe tbody tr th:only-of-type {\n",
       "        vertical-align: middle;\n",
       "    }\n",
       "\n",
       "    .dataframe tbody tr th {\n",
       "        vertical-align: top;\n",
       "    }\n",
       "\n",
       "    .dataframe thead th {\n",
       "        text-align: right;\n",
       "    }\n",
       "</style>\n",
       "<table border=\"1\" class=\"dataframe\">\n",
       "  <thead>\n",
       "    <tr style=\"text-align: right;\">\n",
       "      <th></th>\n",
       "      <th>Area_Code</th>\n",
       "      <th>Area</th>\n",
       "      <th>Item_Code</th>\n",
       "      <th>Item</th>\n",
       "      <th>Element_Code</th>\n",
       "      <th>Element</th>\n",
       "      <th>Year</th>\n",
       "      <th>Unit</th>\n",
       "      <th>Value</th>\n",
       "      <th>Flag</th>\n",
       "      <th>Rate</th>\n",
       "    </tr>\n",
       "  </thead>\n",
       "  <tbody>\n",
       "    <tr>\n",
       "      <td>0</td>\n",
       "      <td>211</td>\n",
       "      <td>Switzerland</td>\n",
       "      <td>515</td>\n",
       "      <td>Apples</td>\n",
       "      <td>5530</td>\n",
       "      <td>Producer Price (LCU/tonne)</td>\n",
       "      <td>1970</td>\n",
       "      <td>LCU</td>\n",
       "      <td>230.0</td>\n",
       "      <td>F</td>\n",
       "      <td>4.373</td>\n",
       "    </tr>\n",
       "    <tr>\n",
       "      <td>1</td>\n",
       "      <td>211</td>\n",
       "      <td>Switzerland</td>\n",
       "      <td>526</td>\n",
       "      <td>Apricots</td>\n",
       "      <td>5530</td>\n",
       "      <td>Producer Price (LCU/tonne)</td>\n",
       "      <td>1970</td>\n",
       "      <td>LCU</td>\n",
       "      <td>830.0</td>\n",
       "      <td>F</td>\n",
       "      <td>4.373</td>\n",
       "    </tr>\n",
       "    <tr>\n",
       "      <td>2</td>\n",
       "      <td>211</td>\n",
       "      <td>Switzerland</td>\n",
       "      <td>44</td>\n",
       "      <td>Barley</td>\n",
       "      <td>5530</td>\n",
       "      <td>Producer Price (LCU/tonne)</td>\n",
       "      <td>1970</td>\n",
       "      <td>LCU</td>\n",
       "      <td>436.0</td>\n",
       "      <td>NaN</td>\n",
       "      <td>4.373</td>\n",
       "    </tr>\n",
       "    <tr>\n",
       "      <td>3</td>\n",
       "      <td>211</td>\n",
       "      <td>Switzerland</td>\n",
       "      <td>414</td>\n",
       "      <td>Beans, green</td>\n",
       "      <td>5530</td>\n",
       "      <td>Producer Price (LCU/tonne)</td>\n",
       "      <td>1970</td>\n",
       "      <td>LCU</td>\n",
       "      <td>1351.0</td>\n",
       "      <td>F</td>\n",
       "      <td>4.373</td>\n",
       "    </tr>\n",
       "    <tr>\n",
       "      <td>4</td>\n",
       "      <td>211</td>\n",
       "      <td>Switzerland</td>\n",
       "      <td>358</td>\n",
       "      <td>Cabbages and other brassicas</td>\n",
       "      <td>5530</td>\n",
       "      <td>Producer Price (LCU/tonne)</td>\n",
       "      <td>1970</td>\n",
       "      <td>LCU</td>\n",
       "      <td>539.0</td>\n",
       "      <td>F</td>\n",
       "      <td>4.373</td>\n",
       "    </tr>\n",
       "  </tbody>\n",
       "</table>\n",
       "</div>"
      ],
      "text/plain": [
       "   Area_Code         Area  Item_Code                          Item  \\\n",
       "0        211  Switzerland        515                        Apples   \n",
       "1        211  Switzerland        526                      Apricots   \n",
       "2        211  Switzerland         44                        Barley   \n",
       "3        211  Switzerland        414                  Beans, green   \n",
       "4        211  Switzerland        358  Cabbages and other brassicas   \n",
       "\n",
       "   Element_Code                     Element  Year Unit   Value Flag   Rate  \n",
       "0          5530  Producer Price (LCU/tonne)  1970  LCU   230.0    F  4.373  \n",
       "1          5530  Producer Price (LCU/tonne)  1970  LCU   830.0    F  4.373  \n",
       "2          5530  Producer Price (LCU/tonne)  1970  LCU   436.0  NaN  4.373  \n",
       "3          5530  Producer Price (LCU/tonne)  1970  LCU  1351.0    F  4.373  \n",
       "4          5530  Producer Price (LCU/tonne)  1970  LCU   539.0    F  4.373  "
      ]
     },
     "execution_count": 109,
     "metadata": {},
     "output_type": "execute_result"
    }
   ],
   "source": [
    "prices_arch_swiss_lcu_usd = prices_arch_swiss.merge(exchange_rates, left_on = ['Area_Code', 'Area', 'Year'], right_on = ['Area_Code', 'Area', 'Year'], suffixes=('', '_to_delete'))\n",
    "prices_arch_swiss_lcu_usd.head()"
   ]
  },
  {
   "cell_type": "code",
   "execution_count": 110,
   "metadata": {
    "scrolled": true
   },
   "outputs": [
    {
     "data": {
      "text/html": [
       "<div>\n",
       "<style scoped>\n",
       "    .dataframe tbody tr th:only-of-type {\n",
       "        vertical-align: middle;\n",
       "    }\n",
       "\n",
       "    .dataframe tbody tr th {\n",
       "        vertical-align: top;\n",
       "    }\n",
       "\n",
       "    .dataframe thead th {\n",
       "        text-align: right;\n",
       "    }\n",
       "</style>\n",
       "<table border=\"1\" class=\"dataframe\">\n",
       "  <thead>\n",
       "    <tr style=\"text-align: right;\">\n",
       "      <th></th>\n",
       "      <th>Area_Code</th>\n",
       "      <th>Area</th>\n",
       "      <th>Item_Code</th>\n",
       "      <th>Item</th>\n",
       "      <th>Element_Code</th>\n",
       "      <th>Element</th>\n",
       "      <th>Year</th>\n",
       "      <th>Unit</th>\n",
       "      <th>Value</th>\n",
       "    </tr>\n",
       "  </thead>\n",
       "  <tbody>\n",
       "    <tr>\n",
       "      <td>0</td>\n",
       "      <td>211</td>\n",
       "      <td>Switzerland</td>\n",
       "      <td>515</td>\n",
       "      <td>Apples</td>\n",
       "      <td>5532</td>\n",
       "      <td>Producer Price (USD/tonne)</td>\n",
       "      <td>1970</td>\n",
       "      <td>USD</td>\n",
       "      <td>52.595472</td>\n",
       "    </tr>\n",
       "    <tr>\n",
       "      <td>1</td>\n",
       "      <td>211</td>\n",
       "      <td>Switzerland</td>\n",
       "      <td>526</td>\n",
       "      <td>Apricots</td>\n",
       "      <td>5532</td>\n",
       "      <td>Producer Price (USD/tonne)</td>\n",
       "      <td>1970</td>\n",
       "      <td>USD</td>\n",
       "      <td>189.801052</td>\n",
       "    </tr>\n",
       "    <tr>\n",
       "      <td>2</td>\n",
       "      <td>211</td>\n",
       "      <td>Switzerland</td>\n",
       "      <td>44</td>\n",
       "      <td>Barley</td>\n",
       "      <td>5532</td>\n",
       "      <td>Producer Price (USD/tonne)</td>\n",
       "      <td>1970</td>\n",
       "      <td>USD</td>\n",
       "      <td>99.702721</td>\n",
       "    </tr>\n",
       "    <tr>\n",
       "      <td>3</td>\n",
       "      <td>211</td>\n",
       "      <td>Switzerland</td>\n",
       "      <td>414</td>\n",
       "      <td>Beans, green</td>\n",
       "      <td>5532</td>\n",
       "      <td>Producer Price (USD/tonne)</td>\n",
       "      <td>1970</td>\n",
       "      <td>USD</td>\n",
       "      <td>308.941230</td>\n",
       "    </tr>\n",
       "    <tr>\n",
       "      <td>4</td>\n",
       "      <td>211</td>\n",
       "      <td>Switzerland</td>\n",
       "      <td>358</td>\n",
       "      <td>Cabbages and other brassicas</td>\n",
       "      <td>5532</td>\n",
       "      <td>Producer Price (USD/tonne)</td>\n",
       "      <td>1970</td>\n",
       "      <td>USD</td>\n",
       "      <td>123.256346</td>\n",
       "    </tr>\n",
       "  </tbody>\n",
       "</table>\n",
       "</div>"
      ],
      "text/plain": [
       "   Area_Code         Area  Item_Code                          Item  \\\n",
       "0        211  Switzerland        515                        Apples   \n",
       "1        211  Switzerland        526                      Apricots   \n",
       "2        211  Switzerland         44                        Barley   \n",
       "3        211  Switzerland        414                  Beans, green   \n",
       "4        211  Switzerland        358  Cabbages and other brassicas   \n",
       "\n",
       "   Element_Code                     Element  Year Unit       Value  \n",
       "0          5532  Producer Price (USD/tonne)  1970  USD   52.595472  \n",
       "1          5532  Producer Price (USD/tonne)  1970  USD  189.801052  \n",
       "2          5532  Producer Price (USD/tonne)  1970  USD   99.702721  \n",
       "3          5532  Producer Price (USD/tonne)  1970  USD  308.941230  \n",
       "4          5532  Producer Price (USD/tonne)  1970  USD  123.256346  "
      ]
     },
     "execution_count": 110,
     "metadata": {},
     "output_type": "execute_result"
    }
   ],
   "source": [
    "prices_arch_swiss_lcu_usd['Value'] = prices_arch_swiss_lcu_usd['Value'] / prices_arch_swiss_lcu_usd['Rate']\n",
    "prices_arch_swiss_lcu_usd.drop(columns = ['Rate', 'Flag'], inplace = True)\n",
    "prices_arch_swiss_lcu_usd['Unit'] = 'USD'\n",
    "prices_arch_swiss_lcu_usd['Element'] = 'Producer Price (USD/tonne)'\n",
    "prices_arch_swiss_lcu_usd['Element_Code'] = 5532\n",
    "prices_arch_swiss_lcu_usd.head()"
   ]
  },
  {
   "cell_type": "code",
   "execution_count": 111,
   "metadata": {},
   "outputs": [
    {
     "data": {
      "image/png": "[encoded data removed]",
      "text/plain": [
       "<Figure size 432x288 with 1 Axes>"
      ]
     },
     "metadata": {
      "needs_background": "light"
     },
     "output_type": "display_data"
    }
   ],
   "source": [
    "plt.boxplot(prices_arch_swiss_lcu_usd['Value'])\n",
    "plt.xticks([1], ['Unit: USD'])\n",
    "plt.title('Distribution of producer prices in swizterland from 1970 to 1990')\n",
    "plt.ylabel('Price (USD/tonne)')\n",
    "plt.show()"
   ]
  },
  {
   "cell_type": "markdown",
   "metadata": {},
   "source": [
    "Producer prices seems to be smaller in `prices_arch_swiss_lcu_usd` dataframe compare to `prices_annual_swiss_lcu_usd` dataframe which is expected since `prices_arch_swiss_lcu_usd` dataset correspond to prices from 1970 to 1996 and  `prices_arch_swiss_lcu_usd` dataset correspond to prices from 1997 to 2018 and we all know that prices increased over the years."
   ]
  },
  {
   "cell_type": "markdown",
   "metadata": {},
   "source": [
    "We then have to concatenate `prices_arch_swiss_lcu_usd` and `prices_annual_swiss_lcu_usd` dataframe to have values from 1970 to 2018 in USD in only one dataframe.\n",
    "We call this new dataframe `producer_prices_swiss`"
   ]
  },
  {
   "cell_type": "code",
   "execution_count": 112,
   "metadata": {
    "scrolled": true
   },
   "outputs": [
    {
     "data": {
      "text/html": [
       "<div>\n",
       "<style scoped>\n",
       "    .dataframe tbody tr th:only-of-type {\n",
       "        vertical-align: middle;\n",
       "    }\n",
       "\n",
       "    .dataframe tbody tr th {\n",
       "        vertical-align: top;\n",
       "    }\n",
       "\n",
       "    .dataframe thead th {\n",
       "        text-align: right;\n",
       "    }\n",
       "</style>\n",
       "<table border=\"1\" class=\"dataframe\">\n",
       "  <thead>\n",
       "    <tr style=\"text-align: right;\">\n",
       "      <th></th>\n",
       "      <th>Area_Code</th>\n",
       "      <th>Area</th>\n",
       "      <th>Item_Code</th>\n",
       "      <th>Item</th>\n",
       "      <th>Element_Code</th>\n",
       "      <th>Element</th>\n",
       "      <th>Year</th>\n",
       "      <th>Unit</th>\n",
       "      <th>Value</th>\n",
       "      <th>Flag</th>\n",
       "    </tr>\n",
       "  </thead>\n",
       "  <tbody>\n",
       "    <tr>\n",
       "      <td>0</td>\n",
       "      <td>211</td>\n",
       "      <td>Switzerland</td>\n",
       "      <td>515</td>\n",
       "      <td>Apples</td>\n",
       "      <td>5532</td>\n",
       "      <td>Producer Price (USD/tonne)</td>\n",
       "      <td>1970</td>\n",
       "      <td>USD</td>\n",
       "      <td>52.595472</td>\n",
       "      <td>NaN</td>\n",
       "    </tr>\n",
       "    <tr>\n",
       "      <td>1</td>\n",
       "      <td>211</td>\n",
       "      <td>Switzerland</td>\n",
       "      <td>526</td>\n",
       "      <td>Apricots</td>\n",
       "      <td>5532</td>\n",
       "      <td>Producer Price (USD/tonne)</td>\n",
       "      <td>1970</td>\n",
       "      <td>USD</td>\n",
       "      <td>189.801052</td>\n",
       "      <td>NaN</td>\n",
       "    </tr>\n",
       "    <tr>\n",
       "      <td>2</td>\n",
       "      <td>211</td>\n",
       "      <td>Switzerland</td>\n",
       "      <td>44</td>\n",
       "      <td>Barley</td>\n",
       "      <td>5532</td>\n",
       "      <td>Producer Price (USD/tonne)</td>\n",
       "      <td>1970</td>\n",
       "      <td>USD</td>\n",
       "      <td>99.702721</td>\n",
       "      <td>NaN</td>\n",
       "    </tr>\n",
       "    <tr>\n",
       "      <td>3</td>\n",
       "      <td>211</td>\n",
       "      <td>Switzerland</td>\n",
       "      <td>414</td>\n",
       "      <td>Beans, green</td>\n",
       "      <td>5532</td>\n",
       "      <td>Producer Price (USD/tonne)</td>\n",
       "      <td>1970</td>\n",
       "      <td>USD</td>\n",
       "      <td>308.941230</td>\n",
       "      <td>NaN</td>\n",
       "    </tr>\n",
       "    <tr>\n",
       "      <td>4</td>\n",
       "      <td>211</td>\n",
       "      <td>Switzerland</td>\n",
       "      <td>358</td>\n",
       "      <td>Cabbages and other brassicas</td>\n",
       "      <td>5532</td>\n",
       "      <td>Producer Price (USD/tonne)</td>\n",
       "      <td>1970</td>\n",
       "      <td>USD</td>\n",
       "      <td>123.256346</td>\n",
       "      <td>NaN</td>\n",
       "    </tr>\n",
       "  </tbody>\n",
       "</table>\n",
       "</div>"
      ],
      "text/plain": [
       "   Area_Code         Area  Item_Code                          Item  \\\n",
       "0        211  Switzerland        515                        Apples   \n",
       "1        211  Switzerland        526                      Apricots   \n",
       "2        211  Switzerland         44                        Barley   \n",
       "3        211  Switzerland        414                  Beans, green   \n",
       "4        211  Switzerland        358  Cabbages and other brassicas   \n",
       "\n",
       "   Element_Code                     Element  Year Unit       Value Flag  \n",
       "0          5532  Producer Price (USD/tonne)  1970  USD   52.595472  NaN  \n",
       "1          5532  Producer Price (USD/tonne)  1970  USD  189.801052  NaN  \n",
       "2          5532  Producer Price (USD/tonne)  1970  USD   99.702721  NaN  \n",
       "3          5532  Producer Price (USD/tonne)  1970  USD  308.941230  NaN  \n",
       "4          5532  Producer Price (USD/tonne)  1970  USD  123.256346  NaN  "
      ]
     },
     "execution_count": 112,
     "metadata": {},
     "output_type": "execute_result"
    }
   ],
   "source": [
    "producer_prices_swiss = pd.concat([prices_arch_swiss_lcu_usd, prices_annual_swiss_lcu_usd], ignore_index=True, sort = False)\n",
    "producer_prices_swiss.head()"
   ]
  },
  {
   "cell_type": "markdown",
   "metadata": {},
   "source": [
    "# Readme update \n",
    "\n",
    "After a deep study of the datasets and a long reflexion on the topic we decided to add the following updates to the readme file:\n",
    "\n",
    "\n",
    "- Removal of the **Open food facts database** from our ressource list because of the non relevance of the informations it contains\n",
    "\n",
    "- Change the way we study the food carbon print and link it to the provenance of the products.\n",
    "\n",
    "- Removal of the average meal concept and replace it by the amount of consumed food per capita.\n",
    "\n",
    "- Dropping of the e-shop webscraping idea. \n",
    "\n",
    "\n",
    "# What's next ? \n",
    "\n",
    "The preliminary analysis of the data allowed us to discover what FAOSTAT datasets really contain and inform ourselves about the feasibility of our researches. The next step would be to move forward with the data analysis and visualization. \n",
    "\n",
    "First we are going to categorize the food products into a small number of relevant categories and study the top 5 most exporters to switzerland of each of them using the 'Trade' datasets, we will mainly use and adapt the existing categories in 'Food balance sheets'\n",
    "\n",
    "Second, we will study the evolution of the imports and exports of those categories as well as the evolution of their provenance\n",
    "\n",
    "Finally, the focus will be on the analysis of the food carbon emissions in Kg/per capita in switzerland and the impact of the food provenance of those values.\n",
    "\n",
    "\n",
    "### Still pending \n",
    "\n",
    "One important step that is still pending is getting the access to the Eaternity [API](https://eaternity.docs.apiary.io/#introduction/indicators-results/environmental-footprints) that provide us accurate data about the food carbon footprint of each product. \n",
    "\n",
    "\n",
    "The negotiations for a discounted price or a free access to their [database](https://eaternity.org/foodprint/database) are still ongoing. We hope that we can convince the eaternity team to support us in this project.\n",
    "\n",
    "With the help of this webservice we can study the evolution of the carbon foodprint in switzerland and see if it's possible to reduce those emissions by changing our food import sources.\n",
    "\n"
   ]
  },
  {
   "cell_type": "code",
   "execution_count": null,
   "metadata": {},
   "outputs": [],
   "source": []
  }
 ],
 "metadata": {
  "kernelspec": {
   "display_name": "Python 3",
   "language": "python",
   "name": "python3"
  },
  "language_info": {
   "codemirror_mode": {
    "name": "ipython",
    "version": 3
   },
   "file_extension": ".py",
   "mimetype": "text/x-python",
   "name": "python",
   "nbconvert_exporter": "python",
   "pygments_lexer": "ipython3",
   "version": "3.7.4"
  }
 },
 "nbformat": 4,
 "nbformat_minor": 4
}
