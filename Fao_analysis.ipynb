{
 "cells": [
  {
   "cell_type": "code",
   "execution_count": 4,
   "metadata": {},
   "outputs": [],
   "source": [
    "%matplotlib inline\n",
    "import matplotlib.pyplot as plt\n",
    "import pandas as pd"
   ]
  },
  {
   "cell_type": "code",
   "execution_count": 7,
   "metadata": {},
   "outputs": [],
   "source": [
    "data_path = 'data/fao_stat/CommodityBalances_Crops_E_All_Data_(Normalized).csv'\n",
    "commodity_crops = pd.read_csv(data_path,encoding='ISO-8859-1')"
   ]
  },
  {
   "cell_type": "code",
   "execution_count": 8,
   "metadata": {},
   "outputs": [
    {
     "data": {
      "text/html": [
       "<div>\n",
       "<style scoped>\n",
       "    .dataframe tbody tr th:only-of-type {\n",
       "        vertical-align: middle;\n",
       "    }\n",
       "\n",
       "    .dataframe tbody tr th {\n",
       "        vertical-align: top;\n",
       "    }\n",
       "\n",
       "    .dataframe thead th {\n",
       "        text-align: right;\n",
       "    }\n",
       "</style>\n",
       "<table border=\"1\" class=\"dataframe\">\n",
       "  <thead>\n",
       "    <tr style=\"text-align: right;\">\n",
       "      <th></th>\n",
       "      <th>Area Code</th>\n",
       "      <th>Area</th>\n",
       "      <th>Item Code</th>\n",
       "      <th>Item</th>\n",
       "      <th>Element Code</th>\n",
       "      <th>Element</th>\n",
       "      <th>Year Code</th>\n",
       "      <th>Year</th>\n",
       "      <th>Unit</th>\n",
       "      <th>Value</th>\n",
       "      <th>Flag</th>\n",
       "    </tr>\n",
       "  </thead>\n",
       "  <tbody>\n",
       "    <tr>\n",
       "      <td>4351954</td>\n",
       "      <td>211</td>\n",
       "      <td>Switzerland</td>\n",
       "      <td>2666</td>\n",
       "      <td>Abaca</td>\n",
       "      <td>5610</td>\n",
       "      <td>Import Quantity</td>\n",
       "      <td>1961</td>\n",
       "      <td>1961</td>\n",
       "      <td>tonnes</td>\n",
       "      <td>0.0</td>\n",
       "      <td>S</td>\n",
       "    </tr>\n",
       "    <tr>\n",
       "      <td>4351955</td>\n",
       "      <td>211</td>\n",
       "      <td>Switzerland</td>\n",
       "      <td>2666</td>\n",
       "      <td>Abaca</td>\n",
       "      <td>5610</td>\n",
       "      <td>Import Quantity</td>\n",
       "      <td>1962</td>\n",
       "      <td>1962</td>\n",
       "      <td>tonnes</td>\n",
       "      <td>0.0</td>\n",
       "      <td>S</td>\n",
       "    </tr>\n",
       "    <tr>\n",
       "      <td>4351956</td>\n",
       "      <td>211</td>\n",
       "      <td>Switzerland</td>\n",
       "      <td>2666</td>\n",
       "      <td>Abaca</td>\n",
       "      <td>5610</td>\n",
       "      <td>Import Quantity</td>\n",
       "      <td>1963</td>\n",
       "      <td>1963</td>\n",
       "      <td>tonnes</td>\n",
       "      <td>0.0</td>\n",
       "      <td>S</td>\n",
       "    </tr>\n",
       "    <tr>\n",
       "      <td>4351957</td>\n",
       "      <td>211</td>\n",
       "      <td>Switzerland</td>\n",
       "      <td>2666</td>\n",
       "      <td>Abaca</td>\n",
       "      <td>5610</td>\n",
       "      <td>Import Quantity</td>\n",
       "      <td>1964</td>\n",
       "      <td>1964</td>\n",
       "      <td>tonnes</td>\n",
       "      <td>0.0</td>\n",
       "      <td>S</td>\n",
       "    </tr>\n",
       "    <tr>\n",
       "      <td>4351958</td>\n",
       "      <td>211</td>\n",
       "      <td>Switzerland</td>\n",
       "      <td>2666</td>\n",
       "      <td>Abaca</td>\n",
       "      <td>5610</td>\n",
       "      <td>Import Quantity</td>\n",
       "      <td>1965</td>\n",
       "      <td>1965</td>\n",
       "      <td>tonnes</td>\n",
       "      <td>0.0</td>\n",
       "      <td>S</td>\n",
       "    </tr>\n",
       "    <tr>\n",
       "      <td>...</td>\n",
       "      <td>...</td>\n",
       "      <td>...</td>\n",
       "      <td>...</td>\n",
       "      <td>...</td>\n",
       "      <td>...</td>\n",
       "      <td>...</td>\n",
       "      <td>...</td>\n",
       "      <td>...</td>\n",
       "      <td>...</td>\n",
       "      <td>...</td>\n",
       "      <td>...</td>\n",
       "    </tr>\n",
       "    <tr>\n",
       "      <td>4387353</td>\n",
       "      <td>211</td>\n",
       "      <td>Switzerland</td>\n",
       "      <td>2918</td>\n",
       "      <td>Vegetables</td>\n",
       "      <td>5153</td>\n",
       "      <td>Other uses</td>\n",
       "      <td>2009</td>\n",
       "      <td>2009</td>\n",
       "      <td>tonnes</td>\n",
       "      <td>370.0</td>\n",
       "      <td>A</td>\n",
       "    </tr>\n",
       "    <tr>\n",
       "      <td>4387354</td>\n",
       "      <td>211</td>\n",
       "      <td>Switzerland</td>\n",
       "      <td>2918</td>\n",
       "      <td>Vegetables</td>\n",
       "      <td>5153</td>\n",
       "      <td>Other uses</td>\n",
       "      <td>2010</td>\n",
       "      <td>2010</td>\n",
       "      <td>tonnes</td>\n",
       "      <td>82.0</td>\n",
       "      <td>A</td>\n",
       "    </tr>\n",
       "    <tr>\n",
       "      <td>4387355</td>\n",
       "      <td>211</td>\n",
       "      <td>Switzerland</td>\n",
       "      <td>2918</td>\n",
       "      <td>Vegetables</td>\n",
       "      <td>5153</td>\n",
       "      <td>Other uses</td>\n",
       "      <td>2011</td>\n",
       "      <td>2011</td>\n",
       "      <td>tonnes</td>\n",
       "      <td>340.0</td>\n",
       "      <td>A</td>\n",
       "    </tr>\n",
       "    <tr>\n",
       "      <td>4387356</td>\n",
       "      <td>211</td>\n",
       "      <td>Switzerland</td>\n",
       "      <td>2918</td>\n",
       "      <td>Vegetables</td>\n",
       "      <td>5153</td>\n",
       "      <td>Other uses</td>\n",
       "      <td>2012</td>\n",
       "      <td>2012</td>\n",
       "      <td>tonnes</td>\n",
       "      <td>0.0</td>\n",
       "      <td>A</td>\n",
       "    </tr>\n",
       "    <tr>\n",
       "      <td>4387357</td>\n",
       "      <td>211</td>\n",
       "      <td>Switzerland</td>\n",
       "      <td>2918</td>\n",
       "      <td>Vegetables</td>\n",
       "      <td>5153</td>\n",
       "      <td>Other uses</td>\n",
       "      <td>2013</td>\n",
       "      <td>2013</td>\n",
       "      <td>tonnes</td>\n",
       "      <td>0.0</td>\n",
       "      <td>A</td>\n",
       "    </tr>\n",
       "  </tbody>\n",
       "</table>\n",
       "<p>35404 rows × 11 columns</p>\n",
       "</div>"
      ],
      "text/plain": [
       "         Area Code         Area  Item Code        Item  Element Code  \\\n",
       "4351954        211  Switzerland       2666       Abaca          5610   \n",
       "4351955        211  Switzerland       2666       Abaca          5610   \n",
       "4351956        211  Switzerland       2666       Abaca          5610   \n",
       "4351957        211  Switzerland       2666       Abaca          5610   \n",
       "4351958        211  Switzerland       2666       Abaca          5610   \n",
       "...            ...          ...        ...         ...           ...   \n",
       "4387353        211  Switzerland       2918  Vegetables          5153   \n",
       "4387354        211  Switzerland       2918  Vegetables          5153   \n",
       "4387355        211  Switzerland       2918  Vegetables          5153   \n",
       "4387356        211  Switzerland       2918  Vegetables          5153   \n",
       "4387357        211  Switzerland       2918  Vegetables          5153   \n",
       "\n",
       "                 Element  Year Code  Year    Unit  Value Flag  \n",
       "4351954  Import Quantity       1961  1961  tonnes    0.0    S  \n",
       "4351955  Import Quantity       1962  1962  tonnes    0.0    S  \n",
       "4351956  Import Quantity       1963  1963  tonnes    0.0    S  \n",
       "4351957  Import Quantity       1964  1964  tonnes    0.0    S  \n",
       "4351958  Import Quantity       1965  1965  tonnes    0.0    S  \n",
       "...                  ...        ...   ...     ...    ...  ...  \n",
       "4387353       Other uses       2009  2009  tonnes  370.0    A  \n",
       "4387354       Other uses       2010  2010  tonnes   82.0    A  \n",
       "4387355       Other uses       2011  2011  tonnes  340.0    A  \n",
       "4387356       Other uses       2012  2012  tonnes    0.0    A  \n",
       "4387357       Other uses       2013  2013  tonnes    0.0    A  \n",
       "\n",
       "[35404 rows x 11 columns]"
      ]
     },
     "execution_count": 8,
     "metadata": {},
     "output_type": "execute_result"
    }
   ],
   "source": [
    "commodity_crops_ch = commodity_crops[commodity_crops['Area']=='Switzerland']\n",
    "commodity_crops_ch"
   ]
  },
  {
   "cell_type": "code",
   "execution_count": 6,
   "metadata": {},
   "outputs": [],
   "source": [
    "data_save_path = 'data/fao_stat/pickle_files/CommodityBalances_Crops_E_All_Data_(Normalized)_Switzerland.pkl'"
   ]
  },
  {
   "cell_type": "code",
   "execution_count": 12,
   "metadata": {},
   "outputs": [],
   "source": [
    "# Save the subset of the data to a pickle file \n",
    "commodity_crops_ch.to_pickle(data_save_path)"
   ]
  },
  {
   "cell_type": "markdown",
   "metadata": {},
   "source": []
  },
  {
   "cell_type": "code",
   "execution_count": 32,
   "metadata": {},
   "outputs": [],
   "source": [
    "# read data from the pickle file\n",
    "commodity = pd.read_pickle(data_save_path)"
   ]
  },
  {
   "cell_type": "code",
   "execution_count": 8,
   "metadata": {},
   "outputs": [
    {
     "data": {
      "text/plain": [
       "tonnes    35404\n",
       "Name: Unit, dtype: int64"
      ]
     },
     "execution_count": 8,
     "metadata": {},
     "output_type": "execute_result"
    }
   ],
   "source": [
    "# Check how many distinct units we have for the data\n",
    "commodity['Unit'].value_counts()"
   ]
  },
  {
   "cell_type": "markdown",
   "metadata": {},
   "source": [
    "We only have tonnes as a unit for the quantity, which makes things easier for analysis"
   ]
  },
  {
   "cell_type": "code",
   "execution_count": 9,
   "metadata": {},
   "outputs": [
    {
     "data": {
      "text/plain": [
       "Element\n",
       "Domestic supply quantity         827212387.0\n",
       "Export Quantity                   46948772.0\n",
       "Feed                             181414823.0\n",
       "Food supply quantity (tonnes)    443741360.0\n",
       "Import Quantity                  371590442.0\n",
       "Losses                            19214114.0\n",
       "Other uses                        31705723.0\n",
       "Processing                       151180145.0\n",
       "Production                       500839139.0\n",
       "Seed                               9773332.0\n",
       "Stock Variation                    1731551.0\n",
       "Name: Value, dtype: float64"
      ]
     },
     "execution_count": 9,
     "metadata": {},
     "output_type": "execute_result"
    }
   ],
   "source": [
    "commodity.groupby('Element')['Value'].sum()"
   ]
  },
  {
   "cell_type": "code",
   "execution_count": 10,
   "metadata": {},
   "outputs": [],
   "source": [
    "imports_ch = commodity[commodity['Element'] =='Import Quantity']\n",
    "exports_ch = commodity[commodity['Element'] =='Export Quantity']\n",
    "supply_ch = commodity[commodity['Element'] == 'Domestic supply quantity']"
   ]
  },
  {
   "cell_type": "code",
   "execution_count": 11,
   "metadata": {},
   "outputs": [
    {
     "data": {
      "text/plain": [
       "Text(0, 0.5, 'Tonnes')"
      ]
     },
     "execution_count": 11,
     "metadata": {},
     "output_type": "execute_result"
    },
    {
     "data": {
      "image/png": "[encoded data removed]",
      "text/plain": [
       "<Figure size 432x288 with 1 Axes>"
      ]
     },
     "metadata": {
      "needs_background": "light"
     },
     "output_type": "display_data"
    }
   ],
   "source": [
    "imports_ch_evolution = imports_ch.groupby('Year').sum().drop(['Area Code', 'Item Code', 'Element Code', 'Year Code'],axis=1) \n",
    "exports_ch_evolution = exports_ch.groupby('Year').sum().drop(['Area Code', 'Item Code', 'Element Code', 'Year Code'],axis=1) \n",
    "supply_ch_evolution = supply_ch.groupby('Year').sum().drop(['Area Code', 'Item Code', 'Element Code', 'Year Code'],axis=1) \n",
    "fig, ax = plt.subplots()\n",
    "\n",
    "ax.plot(imports_ch_evolution,color='b',label = 'imports')\n",
    "ax.plot(exports_ch_evolution,color='g', label = 'exports')\n",
    "ax.plot(supply_ch_evolution,color='orange', label = 'supply')\n",
    "ax.legend(loc='best')\n",
    "plt.xlabel('Year')\n",
    "plt.ylabel('Tonnes')"
   ]
  },
  {
   "cell_type": "code",
   "execution_count": 29,
   "metadata": {},
   "outputs": [
    {
     "data": {
      "text/plain": [
       "Item\n",
       "Cereals - Excluding Beer    58919929.0\n",
       "Fruits - Excluding Wine     28413041.0\n",
       "Wheat and products          21896704.0\n",
       "Vegetables                  18719783.0\n",
       "Barley and products         17497614.0\n",
       "Alcoholic Beverages         14612207.0\n",
       "Sugar & Sweeteners          13557524.0\n",
       "Sugar, Raw Equivalent       13557524.0\n",
       "Vegetables, Other           11905546.0\n",
       "Sugar (Raw Equivalent)      10841452.0\n",
       "Wine                        10292108.0\n",
       "Sugar, Refined Equiv         9974135.0\n",
       "Maize and products           9029922.0\n",
       "Oranges, Mandarines          8492242.0\n",
       "Fruits, Other                8379394.0\n",
       "Starchy Roots                7957309.0\n",
       "Potatoes and products        7506672.0\n",
       "Oilcrops                     6974967.0\n",
       "Tomatoes and products        6478151.0\n",
       "Stimulants                   5896337.0\n",
       "Name: Value, dtype: float64"
      ]
     },
     "execution_count": 29,
     "metadata": {},
     "output_type": "execute_result"
    }
   ],
   "source": [
    "imports_ch.groupby('Item')['Value'].sum().sort_values(ascending=False).head(20)"
   ]
  },
  {
   "cell_type": "code",
   "execution_count": 30,
   "metadata": {},
   "outputs": [
    {
     "data": {
      "text/plain": [
       "Item\n",
       "Fruits - Excluding Wine     9350945.0\n",
       "Oranges, Mandarines         5527674.0\n",
       "Stimulants                  3572731.0\n",
       "Apples and products         2656691.0\n",
       "Sugar & Sweeteners          2104437.0\n",
       "Sugar, Raw Equivalent       2104437.0\n",
       "Cereals - Excluding Beer    1814014.0\n",
       "Wheat and products          1667228.0\n",
       "Coffee and products         1653465.0\n",
       "Sweeteners, Other           1376834.0\n",
       "Starchy Roots               1334474.0\n",
       "Potatoes and products       1332594.0\n",
       "Cocoa Beans and products    1303482.0\n",
       "Tobacco                     1276667.0\n",
       "Vegetables                  1180150.0\n",
       "Vegetables, Other            977177.0\n",
       "Fruits, Other                946607.0\n",
       "Vegetable Oils               812524.0\n",
       "Sugar (Raw Equivalent)       727604.0\n",
       "Sugar, Refined Equiv         669396.0\n",
       "Name: Value, dtype: float64"
      ]
     },
     "execution_count": 30,
     "metadata": {},
     "output_type": "execute_result"
    }
   ],
   "source": [
    "exports_ch.groupby('Item')['Value'].sum().sort_values(ascending=False).head(20)"
   ]
  },
  {
   "cell_type": "code",
   "execution_count": 66,
   "metadata": {},
   "outputs": [
    {
     "data": {
      "text/plain": [
       "<matplotlib.axes._subplots.AxesSubplot at 0x2f0502842c8>"
      ]
     },
     "execution_count": 66,
     "metadata": {},
     "output_type": "execute_result"
    },
    {
     "data": {
      "image/png": "[encoded data removed]",
      "text/plain": [
       "<Figure size 432x288 with 1 Axes>"
      ]
     },
     "metadata": {
      "needs_background": "light"
     },
     "output_type": "display_data"
    }
   ],
   "source": [
    "cocoa_beans_code = 2633\n",
    "\n",
    "cocoa_data = commodity[commodity['Item Code'] == cocoa_beans_code]\n",
    "imports_cocoa = cocoa_data[cocoa_data['Element']=='Import Quantity']\n",
    "imports_cocoa[['Value','Year']].plot('Year','Value')\n"
   ]
  },
  {
   "cell_type": "code",
   "execution_count": null,
   "metadata": {},
   "outputs": [],
   "source": []
  },
  {
   "cell_type": "code",
   "execution_count": null,
   "metadata": {},
   "outputs": [],
   "source": []
  }
 ],
 "metadata": {
  "kernelspec": {
   "display_name": "Python 3",
   "language": "python",
   "name": "python3"
  },
  "language_info": {
   "codemirror_mode": {
    "name": "ipython",
    "version": 3
   },
   "file_extension": ".py",
   "mimetype": "text/x-python",
   "name": "python",
   "nbconvert_exporter": "python",
   "pygments_lexer": "ipython3",
   "version": "3.7.4"
  }
 },
 "nbformat": 4,
 "nbformat_minor": 4
}
